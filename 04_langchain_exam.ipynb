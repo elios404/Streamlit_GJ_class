{
 "cells": [
  {
   "cell_type": "code",
   "execution_count": 2,
   "id": "0e78d50a",
   "metadata": {},
   "outputs": [],
   "source": [
    "from dotenv import load_dotenv\n",
    "from glob import glob\n",
    "from pprint import pprint #json 형식 출력에 편리\n",
    "import os"
   ]
  },
  {
   "cell_type": "code",
   "execution_count": 3,
   "id": "0653ba17",
   "metadata": {},
   "outputs": [
    {
     "data": {
      "text/plain": [
       "True"
      ]
     },
     "execution_count": 3,
     "metadata": {},
     "output_type": "execute_result"
    }
   ],
   "source": [
    "load_dotenv()"
   ]
  },
  {
   "cell_type": "markdown",
   "id": "03f37cda",
   "metadata": {},
   "source": [
    "## Chroma DB에 직접 데이터 넣기"
   ]
  },
  {
   "cell_type": "code",
   "execution_count": 3,
   "id": "e1b993c8",
   "metadata": {},
   "outputs": [
    {
     "name": "stderr",
     "output_type": "stream",
     "text": [
      "c:\\Users\\USER\\AppData\\Local\\pypoetry\\Cache\\virtualenvs\\langchain-env-aZmMjlRy-py3.11\\Lib\\site-packages\\sentence_transformers\\cross_encoder\\CrossEncoder.py:13: TqdmWarning: IProgress not found. Please update jupyter and ipywidgets. See https://ipywidgets.readthedocs.io/en/stable/user_install.html\n",
      "  from tqdm.autonotebook import tqdm, trange\n",
      "c:\\Users\\USER\\AppData\\Local\\pypoetry\\Cache\\virtualenvs\\langchain-env-aZmMjlRy-py3.11\\Lib\\site-packages\\huggingface_hub\\file_download.py:143: UserWarning: `huggingface_hub` cache-system uses symlinks by default to efficiently store duplicated files but your machine does not support them in C:\\Users\\USER\\.cache\\huggingface\\hub\\models--BAAI--bge-m3. Caching files will still work but in a degraded version that might require more space on your disk. This warning can be disabled by setting the `HF_HUB_DISABLE_SYMLINKS_WARNING` environment variable. For more details, see https://huggingface.co/docs/huggingface_hub/how-to-cache#limitations.\n",
      "To support symlinks on Windows, you either need to activate Developer Mode or to run Python as an administrator. In order to activate developer mode, see this article: https://docs.microsoft.com/en-us/windows/apps/get-started/enable-your-device-for-development\n",
      "  warnings.warn(message)\n"
     ]
    }
   ],
   "source": [
    "from langchain_huggingface.embeddings import HuggingFaceEmbeddings\n",
    "\n",
    "embeddings_model = HuggingFaceEmbeddings(model_name = \"BAAI/bge-m3\")"
   ]
  },
  {
   "cell_type": "markdown",
   "id": "4f2a4524",
   "metadata": {},
   "source": [
    "### DB 만들기"
   ]
  },
  {
   "cell_type": "code",
   "execution_count": 4,
   "id": "af8ec281",
   "metadata": {},
   "outputs": [
    {
     "name": "stderr",
     "output_type": "stream",
     "text": [
      "Failed to send telemetry event ClientStartEvent: capture() takes 1 positional argument but 3 were given\n",
      "Failed to send telemetry event ClientCreateCollectionEvent: capture() takes 1 positional argument but 3 were given\n"
     ]
    }
   ],
   "source": [
    "from langchain_chroma import Chroma\n",
    "\n",
    "chroma_db = Chroma(\n",
    "    collection_name=\"ai_sample_collection\",\n",
    "    persist_directory='./chroma_db',\n",
    "    embedding_function=embeddings_model,\n",
    ")"
   ]
  },
  {
   "cell_type": "code",
   "execution_count": 5,
   "id": "a5acbed8",
   "metadata": {},
   "outputs": [
    {
     "name": "stderr",
     "output_type": "stream",
     "text": [
      "Failed to send telemetry event CollectionGetEvent: capture() takes 1 positional argument but 3 were given\n"
     ]
    },
    {
     "data": {
      "text/plain": [
       "{'ids': [],\n",
       " 'embeddings': None,\n",
       " 'documents': [],\n",
       " 'uris': None,\n",
       " 'data': None,\n",
       " 'metadatas': [],\n",
       " 'included': [<IncludeEnum.documents: 'documents'>,\n",
       "  <IncludeEnum.metadatas: 'metadatas'>]}"
      ]
     },
     "execution_count": 5,
     "metadata": {},
     "output_type": "execute_result"
    }
   ],
   "source": [
    "chroma_db.get()"
   ]
  },
  {
   "cell_type": "markdown",
   "id": "9df250af",
   "metadata": {},
   "source": [
    "### DB에 값 넣기"
   ]
  },
  {
   "cell_type": "code",
   "execution_count": 6,
   "id": "4c14c784",
   "metadata": {},
   "outputs": [
    {
     "name": "stdout",
     "output_type": "stream",
     "text": [
      "5 개의 문서가 성공적으로 DB에 추가되었습니다.\n"
     ]
    }
   ],
   "source": [
    "from langchain_core.documents import Document\n",
    "\n",
    "documents = [\n",
    "    \"인공지능은 컴퓨터 과학의 한 분야입니다.\",\n",
    "    \"머신러닝은 인공지능의 하위 분야입니다.\",\n",
    "    \"딥러닝은 머신러닝의 한 종류입니다.\",\n",
    "    \"자연어 처리는 컴퓨터가 인간의 언어를 이해하고 생성하는 기술입니다.\",\n",
    "    \"컴퓨터 비전은 컴퓨터가 디지털 이미지나 비디오를 이해하는 방법을 연구합니다.\"\n",
    "]\n",
    "\n",
    "doc_objects = []\n",
    "\n",
    "for i, content in enumerate(documents, start=1):\n",
    "    doc = Document(\n",
    "        page_content = content,\n",
    "        metadata = {\"source\" : \"AI_textbook\", \"chapter\" : f\"Chapter {i}\"},\n",
    "    )\n",
    "\n",
    "    doc_objects.append(doc)\n",
    "\n",
    "doc_ids = [f\"doc_{i}\" for i in range(1, len(doc_objects)+1)]\n",
    "\n",
    "added_docs_ids = chroma_db.add_documents(documents=doc_objects, ids=doc_ids)\n",
    "\n",
    "print(f\"{len(added_docs_ids)} 개의 문서가 성공적으로 DB에 추가되었습니다.\")"
   ]
  },
  {
   "cell_type": "code",
   "execution_count": 8,
   "id": "d4e6c51d",
   "metadata": {},
   "outputs": [
    {
     "name": "stdout",
     "output_type": "stream",
     "text": [
      "질문 : 인공지능과 머신러닝의 관계는?\n",
      "문서 ID : Chapter 2, 문서내용 : 머신러닝은 인공지능의 하위 분야입니다.\n",
      "문서 ID : Chapter 3, 문서내용 : 딥러닝은 머신러닝의 한 종류입니다.\n"
     ]
    }
   ],
   "source": [
    "query = \"인공지능과 머신러닝의 관계는?\"\n",
    "\n",
    "results = chroma_db.similarity_search(query=query, k=2)\n",
    "\n",
    "print(f\"질문 : {query}\")\n",
    "for doc in results:\n",
    "    print(f\"문서 ID : {doc.metadata['chapter']}, 문서내용 : {doc.page_content}\")\n"
   ]
  },
  {
   "cell_type": "code",
   "execution_count": 9,
   "id": "751d791b",
   "metadata": {},
   "outputs": [
    {
     "data": {
      "text/plain": [
       "{'ids': ['doc_1', 'doc_2', 'doc_3', 'doc_4', 'doc_5'],\n",
       " 'embeddings': None,\n",
       " 'documents': ['인공지능은 컴퓨터 과학의 한 분야입니다.',\n",
       "  '머신러닝은 인공지능의 하위 분야입니다.',\n",
       "  '딥러닝은 머신러닝의 한 종류입니다.',\n",
       "  '자연어 처리는 컴퓨터가 인간의 언어를 이해하고 생성하는 기술입니다.',\n",
       "  '컴퓨터 비전은 컴퓨터가 디지털 이미지나 비디오를 이해하는 방법을 연구합니다.'],\n",
       " 'uris': None,\n",
       " 'data': None,\n",
       " 'metadatas': [{'chapter': 'Chapter 1', 'source': 'AI_textbook'},\n",
       "  {'chapter': 'Chapter 2', 'source': 'AI_textbook'},\n",
       "  {'chapter': 'Chapter 3', 'source': 'AI_textbook'},\n",
       "  {'chapter': 'Chapter 4', 'source': 'AI_textbook'},\n",
       "  {'chapter': 'Chapter 5', 'source': 'AI_textbook'}],\n",
       " 'included': [<IncludeEnum.documents: 'documents'>,\n",
       "  <IncludeEnum.metadatas: 'metadatas'>]}"
      ]
     },
     "execution_count": 9,
     "metadata": {},
     "output_type": "execute_result"
    }
   ],
   "source": [
    "chroma_db.get()"
   ]
  },
  {
   "cell_type": "markdown",
   "id": "5b638129",
   "metadata": {},
   "source": [
    "### DB 에 있는 값 업데이트, 수정하기"
   ]
  },
  {
   "cell_type": "code",
   "execution_count": null,
   "id": "5bc76b05",
   "metadata": {},
   "outputs": [
    {
     "name": "stderr",
     "output_type": "stream",
     "text": [
      "Failed to send telemetry event CollectionUpdateEvent: capture() takes 1 positional argument but 3 were given\n"
     ]
    },
    {
     "data": {
      "text/plain": [
       "{'ids': ['doc_1', 'doc_2', 'doc_3', 'doc_4', 'doc_5'],\n",
       " 'embeddings': None,\n",
       " 'documents': ['인공지능은 컴퓨터 과학의 한 분야로, 머신러닝과 딥러닝을 포함한다.',\n",
       "  '머신러닝은 인공지능의 하위 분야입니다.',\n",
       "  '딥러닝은 머신러닝의 한 종류입니다.',\n",
       "  '자연어 처리는 컴퓨터가 인간의 언어를 이해하고 생성하는 기술입니다.',\n",
       "  '컴퓨터 비전은 컴퓨터가 디지털 이미지나 비디오를 이해하는 방법을 연구합니다.'],\n",
       " 'uris': None,\n",
       " 'data': None,\n",
       " 'metadatas': [{'chapter': 'Chapter 6', 'source': 'AI_textbook'},\n",
       "  {'chapter': 'Chapter 2', 'source': 'AI_textbook'},\n",
       "  {'chapter': 'Chapter 3', 'source': 'AI_textbook'},\n",
       "  {'chapter': 'Chapter 4', 'source': 'AI_textbook'},\n",
       "  {'chapter': 'Chapter 5', 'source': 'AI_textbook'}],\n",
       " 'included': [<IncludeEnum.documents: 'documents'>,\n",
       "  <IncludeEnum.metadatas: 'metadatas'>]}"
      ]
     },
     "execution_count": 10,
     "metadata": {},
     "output_type": "execute_result"
    }
   ],
   "source": [
    "update_document_1 = Document(\n",
    "    page_content=\"인공지능은 컴퓨터 과학의 한 분야로, 머신러닝과 딥러닝을 포함한다.\",\n",
    "    metadata = {\"source\" : \"AI_textbook\", \"chapter\" : \"Chapter 6\"}\n",
    ")\n",
    "\n",
    "chroma_db.update_document(document_id=\"doc_1\", document=update_document_1) # document_id 는 ids 에 있는 값을 사용한다.\n",
    "\n",
    "chroma_db.get()"
   ]
  },
  {
   "cell_type": "markdown",
   "id": "44304313",
   "metadata": {},
   "source": [
    "### DB에 있는 값 삭제하기"
   ]
  },
  {
   "cell_type": "code",
   "execution_count": 11,
   "id": "ccb7cfe3",
   "metadata": {},
   "outputs": [
    {
     "name": "stderr",
     "output_type": "stream",
     "text": [
      "Failed to send telemetry event CollectionDeleteEvent: capture() takes 1 positional argument but 3 were given\n"
     ]
    },
    {
     "data": {
      "text/plain": [
       "{'ids': ['doc_1', 'doc_2', 'doc_3', 'doc_4'],\n",
       " 'embeddings': None,\n",
       " 'documents': ['인공지능은 컴퓨터 과학의 한 분야로, 머신러닝과 딥러닝을 포함한다.',\n",
       "  '머신러닝은 인공지능의 하위 분야입니다.',\n",
       "  '딥러닝은 머신러닝의 한 종류입니다.',\n",
       "  '자연어 처리는 컴퓨터가 인간의 언어를 이해하고 생성하는 기술입니다.'],\n",
       " 'uris': None,\n",
       " 'data': None,\n",
       " 'metadatas': [{'chapter': 'Chapter 6', 'source': 'AI_textbook'},\n",
       "  {'chapter': 'Chapter 2', 'source': 'AI_textbook'},\n",
       "  {'chapter': 'Chapter 3', 'source': 'AI_textbook'},\n",
       "  {'chapter': 'Chapter 4', 'source': 'AI_textbook'}],\n",
       " 'included': [<IncludeEnum.documents: 'documents'>,\n",
       "  <IncludeEnum.metadatas: 'metadatas'>]}"
      ]
     },
     "execution_count": 11,
     "metadata": {},
     "output_type": "execute_result"
    }
   ],
   "source": [
    "chroma_db.delete(ids=[\"doc_5\"])\n",
    "\n",
    "chroma_db.get()"
   ]
  },
  {
   "cell_type": "markdown",
   "id": "a4a6f600",
   "metadata": {},
   "source": [
    "## 과정 총정리"
   ]
  },
  {
   "cell_type": "markdown",
   "id": "c28da84d",
   "metadata": {},
   "source": [
    "### 문서 로딩"
   ]
  },
  {
   "cell_type": "code",
   "execution_count": 4,
   "id": "6cfea8f2",
   "metadata": {},
   "outputs": [],
   "source": [
    "text_files_path = glob(os.path.join('data','*_kr.txt'))\n",
    "\n",
    "from langchain_community.document_loaders import TextLoader\n",
    "\n",
    "docs = []\n",
    "\n",
    "for text_file_path in text_files_path:\n",
    "    loader = TextLoader(text_file_path, encoding='utf-8')\n",
    "    docs += loader.load() # load를 하면 리스트로 반환된다."
   ]
  },
  {
   "cell_type": "code",
   "execution_count": 5,
   "id": "f2859467",
   "metadata": {},
   "outputs": [
    {
     "name": "stdout",
     "output_type": "stream",
     "text": [
      "[Document(metadata={'source': 'data\\\\samsung_kr.txt'}, page_content='삼성전자는 1969년 설립된 세계적인 종합 전자기업으로, 1983년 반도체 사업에 본격 진출하며 메모리 반도체 중심의 글로벌 경쟁력을 쌓아왔습니다. 본사는 대한민국 경기도 수원에 있으며, 반도체 생산라인은 기흥, 화성, 평택, 그리고 미국 오스틴 및 텍사스 테일러시 등 국내외에 걸쳐 있습니다.\\n\\n삼성전자의 반도체 부문은 크게 메모리 사업부와 시스템LSI 사업부로 구성되어 있습니다. 메모리 부문에서는 D램, 낸드플래시 등에서 수년간 세계 시장 점유율 1위를 유지하고 있으며, AI, 클라우드, 스마트폰 등 다양한 산업에 고성능 메모리 솔루션을 공급합니다. 특히 5세대 HBM3E, 1b 나노급 D램, V-NAND 9세대 기술 등에서 혁신을 주도하고 있습니다.\\n\\n시스템LSI 사업부는 SoC(System-on-Chip), 이미지 센서, 디스플레이 드라이버 IC 등 비메모리 분야를 담당하며, 모바일 애플리케이션 프로세서(Exynos)와 세계 1위 점유율을 가진 이미지 센서(ISOCELL)로 경쟁력을 강화하고 있습니다. 또한, 삼성 파운드리는 3nm GAA(Gate-All-Around) 공정 양산을 세계 최초로 시작하며 TSMC와 경쟁하고 있습니다.\\n\\n삼성전자 파운드리 사업의 시장 점유율이 지속적으로 하락하고 있습니다. 2025년 1분기 기준, 삼성전자의 파운드리 시장 점유율은 17.7%로, 전년 동기 대비 감소했습니다. 반면, TSMC는 시장 점유율을 확대하며 67.6%를 기록하여 격차가 더욱 커지고 있는 상황입니다. '), Document(metadata={'source': 'data\\\\skHynix_kr.txt'}, page_content='SK하이닉스는 1983년 현대전자산업으로 출발해, 2012년 SK그룹에 인수되면서 현재의 이름을 갖게 된 대한민국 대표 반도체 제조기업입니다. 본사는 경기도 이천에 위치하고 있으며, 글로벌 반도체 시장에서 삼성전자에 이어 세계 2위 D램 제조업체로 자리잡고 있습니다.\\n\\nSK하이닉스는 메모리 반도체 분야에서 높은 경쟁력을 갖추고 있으며, 주력 제품은 D램(DRAM), 낸드플래시(NAND Flash), MCP(Multi-Chip Package) 등입니다. 특히 서버, 모바일, 그래픽, PC용 고대역폭 메모리 제품군을 강화하며 AI 및 데이터센터 수요에 적극 대응하고 있습니다. 2019년부터는 1znm 및 EUV(극자외선) 공정 기술을 적용해 생산 효율을 높이고 있습니다.\\n\\n2020년, SK하이닉스는 인텔의 낸드 사업 부문을 약 90억 달러에 인수하기로 발표하며 글로벌 시장 확대에 박차를 가했습니다. 이를 통해 중국 다롄 공장과 SSD 관련 기술력을 확보하며 낸드플래시 경쟁력을 강화했습니다.\\n\\n또한, SK하이닉스는 지속가능한 반도체 생태계를 구축하기 위해 ‘2030 탄소중립’ 선언, 반도체 재생 기술 개발, 친환경 패키징 등 ESG 경영에도 힘쓰고 있습니다. 최근에는 AI 특화 HBM(High Bandwidth Memory) 시장에서 엔비디아와 협력하며 초고속 메모리 기술을 선도하고 있습니다.'), Document(metadata={'source': 'data\\\\리비안_KR.txt'}, page_content='리비안은 MIT 박사 출신 RJ 스카린지가 2009년에 설립한 혁신적인 미국 전기차 제조업체입니다. 2011년부터 자율 전기차에 집중한 리비안은 2015년 대규모 투자를 통해 크게 성장하며 미시간과 베이 지역에 연구소를 설립했습니다. 주요 공급업체와의 접근성을 높이기 위해 본사를 미시간주 리보니아로 이전했습니다.\\n\\n리비안의 초기 모델은 스포츠카 R1(원래 이름은 Avera)로, 2+2 좌석의 미드 엔진 하이브리드 쿠페로 피터 스티븐스가 디자인했습니다. 이 차는 쉽게 교체 가능한 본체 패널을 갖춘 모듈식 캡슐 구조를 특징으로 하며, 2013년 말에서 2014년 초 사이에 생산이 예상되었습니다. 리비안은 디젤 하이브리드 버전, 브라질 원메이크 시리즈를 위한 R1 GT 레이싱 버전, 4도어 세단 및 크로스오버 등 다양한 버전을 고려했습니다. 2011년에 프로토타입 해치백도 공개되었지만, R1과의 관계는 불명확합니다.\\n\\n리비안은 2021년 10월 첫 번째 양산 차량인 R1T 트럭을 고객에게 인도하기 시작했습니다.\\n'), Document(metadata={'source': 'data\\\\테슬라_KR.txt'}, page_content='테슬라(Tesla, Inc.)는 텍사스주 오스틴에 본사를 둔 미국의 대표적인 전기차 제조업체입니다. 2003년 마틴 에버하드(CEO)와 마크 타페닝(CFO)에 의해 설립된 테슬라는 2004년 페이팔과 Zip2의 공동 창업자인 일론 머스크의 참여로 큰 전환점을 맞았습니다. 머스크는 최대 주주이자 회장으로서 회사를 현재의 성공으로 이끌었습니다. 회사 이름은 유명한 물리학자이자 전기공학자인 니콜라 테슬라의 이름을 따서 지어졌습니다. 테슬라는 2010년 6월 나스닥에 상장되었습니다.\\n\\n2023년 테슬라는 1,808,581대의 차량을 판매하여 2022년에 비해 37.65% 증가했습니다. 2012년부터 2023년 3분기까지 테슬라의 전 세계 누적 판매량은 4,962,975대를 초과했습니다. SMT Packaging에 따르면, 2023년 테슬라의 판매량은 전 세계 전기차 시장의 약 12.9%를 차지했습니다.\\n')]\n"
     ]
    }
   ],
   "source": [
    "print(docs)"
   ]
  },
  {
   "cell_type": "markdown",
   "id": "b232513c",
   "metadata": {},
   "source": [
    "### 문서 Chunk로 나누기"
   ]
  },
  {
   "cell_type": "code",
   "execution_count": 6,
   "id": "b5681f14",
   "metadata": {},
   "outputs": [],
   "source": [
    "from langchain_text_splitters import RecursiveCharacterTextSplitter\n",
    "\n",
    "text_splitter = RecursiveCharacterTextSplitter(\n",
    "    chunk_size = 200,\n",
    "    chunk_overlap = 40,\n",
    "    length_function = len,\n",
    "    separators = [\"\\n\\n\", \"\\n\"],\n",
    ")\n",
    "\n",
    "chunked_docs = text_splitter.split_documents(docs)"
   ]
  },
  {
   "cell_type": "markdown",
   "id": "55bed83a",
   "metadata": {},
   "source": [
    "### 문서 임베딩"
   ]
  },
  {
   "cell_type": "code",
   "execution_count": 7,
   "id": "050c1854",
   "metadata": {},
   "outputs": [
    {
     "name": "stderr",
     "output_type": "stream",
     "text": [
      "c:\\Users\\USER\\AppData\\Local\\pypoetry\\Cache\\virtualenvs\\langchain-env-aZmMjlRy-py3.11\\Lib\\site-packages\\sentence_transformers\\cross_encoder\\CrossEncoder.py:13: TqdmWarning: IProgress not found. Please update jupyter and ipywidgets. See https://ipywidgets.readthedocs.io/en/stable/user_install.html\n",
      "  from tqdm.autonotebook import tqdm, trange\n"
     ]
    }
   ],
   "source": [
    "# 허깅페이스 임베딩 모델 사용\n",
    "\n",
    "from langchain_huggingface.embeddings import HuggingFaceEmbeddings\n",
    "\n",
    "embedding_model = HuggingFaceEmbeddings(model_name = \"BAAI/bge-m3\")\n",
    "\n",
    "# embedded_docs = embedding_model.embed_documents(chunked_docs)"
   ]
  },
  {
   "cell_type": "markdown",
   "id": "63a1bd94",
   "metadata": {},
   "source": [
    "### Vector DB로 임베딩된 문서 저장하기"
   ]
  },
  {
   "cell_type": "markdown",
   "id": "af2c9ddf",
   "metadata": {},
   "source": [
    "#### 1. DB 만들기"
   ]
  },
  {
   "cell_type": "code",
   "execution_count": 8,
   "id": "c7b0c502",
   "metadata": {},
   "outputs": [
    {
     "name": "stderr",
     "output_type": "stream",
     "text": [
      "Failed to send telemetry event ClientStartEvent: capture() takes 1 positional argument but 3 were given\n",
      "Failed to send telemetry event ClientCreateCollectionEvent: capture() takes 1 positional argument but 3 were given\n"
     ]
    }
   ],
   "source": [
    "from langchain_chroma import Chroma\n",
    "\n",
    "chroma_db = Chroma(\n",
    "    collection_name=\"langchain_assignment_4\",\n",
    "    persist_directory='./chroma_db',\n",
    "    embedding_function=embedding_model,\n",
    ")"
   ]
  },
  {
   "cell_type": "markdown",
   "id": "d98320e0",
   "metadata": {},
   "source": [
    "#### 2. DB에 데이터 넣기"
   ]
  },
  {
   "cell_type": "code",
   "execution_count": 9,
   "id": "3e34678a",
   "metadata": {},
   "outputs": [
    {
     "data": {
      "text/plain": [
       "['doc_1',\n",
       " 'doc_2',\n",
       " 'doc_3',\n",
       " 'doc_4',\n",
       " 'doc_5',\n",
       " 'doc_6',\n",
       " 'doc_7',\n",
       " 'doc_8',\n",
       " 'doc_9',\n",
       " 'doc_10',\n",
       " 'doc_11',\n",
       " 'doc_12',\n",
       " 'doc_13']"
      ]
     },
     "execution_count": 9,
     "metadata": {},
     "output_type": "execute_result"
    }
   ],
   "source": [
    "from langchain_core.documents import Document\n",
    "\n",
    "docs_input = []\n",
    "\n",
    "for i, content in enumerate(chunked_docs, start=1):\n",
    "    doc = Document(\n",
    "        page_content=content.page_content,\n",
    "        metadata = {\"chunk_number\" : f\"chunk {i}\"}\n",
    "    )\n",
    "\n",
    "    docs_input.append(doc)\n",
    "\n",
    "docs_ids = [f\"doc_{i}\" for i in range(1, len(docs_input)+1)]\n",
    "\n",
    "chroma_db.add_documents(documents=docs_input, ids = docs_ids)"
   ]
  },
  {
   "cell_type": "code",
   "execution_count": 10,
   "id": "4766f0c9",
   "metadata": {},
   "outputs": [
    {
     "name": "stderr",
     "output_type": "stream",
     "text": [
      "Failed to send telemetry event CollectionGetEvent: capture() takes 1 positional argument but 3 were given\n"
     ]
    },
    {
     "data": {
      "text/plain": [
       "{'ids': ['doc_1',\n",
       "  'doc_2',\n",
       "  'doc_3',\n",
       "  'doc_4',\n",
       "  'doc_5',\n",
       "  'doc_6',\n",
       "  'doc_7',\n",
       "  'doc_8',\n",
       "  'doc_9',\n",
       "  'doc_10',\n",
       "  'doc_11',\n",
       "  'doc_12',\n",
       "  'doc_13'],\n",
       " 'embeddings': None,\n",
       " 'documents': ['삼성전자는 1969년 설립된 세계적인 종합 전자기업으로, 1983년 반도체 사업에 본격 진출하며 메모리 반도체 중심의 글로벌 경쟁력을 쌓아왔습니다. 본사는 대한민국 경기도 수원에 있으며, 반도체 생산라인은 기흥, 화성, 평택, 그리고 미국 오스틴 및 텍사스 테일러시 등 국내외에 걸쳐 있습니다.',\n",
       "  '\\n삼성전자의 반도체 부문은 크게 메모리 사업부와 시스템LSI 사업부로 구성되어 있습니다. 메모리 부문에서는 D램, 낸드플래시 등에서 수년간 세계 시장 점유율 1위를 유지하고 있으며, AI, 클라우드, 스마트폰 등 다양한 산업에 고성능 메모리 솔루션을 공급합니다. 특히 5세대 HBM3E, 1b 나노급 D램, V-NAND 9세대 기술 등에서 혁신을 주도하고 있습니다.',\n",
       "  '\\n시스템LSI 사업부는 SoC(System-on-Chip), 이미지 센서, 디스플레이 드라이버 IC 등 비메모리 분야를 담당하며, 모바일 애플리케이션 프로세서(Exynos)와 세계 1위 점유율을 가진 이미지 센서(ISOCELL)로 경쟁력을 강화하고 있습니다. 또한, 삼성 파운드리는 3nm GAA(Gate-All-Around) 공정 양산을 세계 최초로 시작하며 TSMC와 경쟁하고 있습니다.',\n",
       "  '삼성전자 파운드리 사업의 시장 점유율이 지속적으로 하락하고 있습니다. 2025년 1분기 기준, 삼성전자의 파운드리 시장 점유율은 17.7%로, 전년 동기 대비 감소했습니다. 반면, TSMC는 시장 점유율을 확대하며 67.6%를 기록하여 격차가 더욱 커지고 있는 상황입니다.',\n",
       "  'SK하이닉스는 1983년 현대전자산업으로 출발해, 2012년 SK그룹에 인수되면서 현재의 이름을 갖게 된 대한민국 대표 반도체 제조기업입니다. 본사는 경기도 이천에 위치하고 있으며, 글로벌 반도체 시장에서 삼성전자에 이어 세계 2위 D램 제조업체로 자리잡고 있습니다.',\n",
       "  '\\nSK하이닉스는 메모리 반도체 분야에서 높은 경쟁력을 갖추고 있으며, 주력 제품은 D램(DRAM), 낸드플래시(NAND Flash), MCP(Multi-Chip Package) 등입니다. 특히 서버, 모바일, 그래픽, PC용 고대역폭 메모리 제품군을 강화하며 AI 및 데이터센터 수요에 적극 대응하고 있습니다. 2019년부터는 1znm 및 EUV(극자외선) 공정 기술을 적용해 생산 효율을 높이고 있습니다.',\n",
       "  '2020년, SK하이닉스는 인텔의 낸드 사업 부문을 약 90억 달러에 인수하기로 발표하며 글로벌 시장 확대에 박차를 가했습니다. 이를 통해 중국 다롄 공장과 SSD 관련 기술력을 확보하며 낸드플래시 경쟁력을 강화했습니다.',\n",
       "  '또한, SK하이닉스는 지속가능한 반도체 생태계를 구축하기 위해 ‘2030 탄소중립’ 선언, 반도체 재생 기술 개발, 친환경 패키징 등 ESG 경영에도 힘쓰고 있습니다. 최근에는 AI 특화 HBM(High Bandwidth Memory) 시장에서 엔비디아와 협력하며 초고속 메모리 기술을 선도하고 있습니다.',\n",
       "  '리비안은 MIT 박사 출신 RJ 스카린지가 2009년에 설립한 혁신적인 미국 전기차 제조업체입니다. 2011년부터 자율 전기차에 집중한 리비안은 2015년 대규모 투자를 통해 크게 성장하며 미시간과 베이 지역에 연구소를 설립했습니다. 주요 공급업체와의 접근성을 높이기 위해 본사를 미시간주 리보니아로 이전했습니다.',\n",
       "  '\\n리비안의 초기 모델은 스포츠카 R1(원래 이름은 Avera)로, 2+2 좌석의 미드 엔진 하이브리드 쿠페로 피터 스티븐스가 디자인했습니다. 이 차는 쉽게 교체 가능한 본체 패널을 갖춘 모듈식 캡슐 구조를 특징으로 하며, 2013년 말에서 2014년 초 사이에 생산이 예상되었습니다. 리비안은 디젤 하이브리드 버전, 브라질 원메이크 시리즈를 위한 R1 GT 레이싱 버전, 4도어 세단 및 크로스오버 등 다양한 버전을 고려했습니다. 2011년에 프로토타입 해치백도 공개되었지만, R1과의 관계는 불명확합니다.',\n",
       "  '리비안은 2021년 10월 첫 번째 양산 차량인 R1T 트럭을 고객에게 인도하기 시작했습니다.',\n",
       "  '테슬라(Tesla, Inc.)는 텍사스주 오스틴에 본사를 둔 미국의 대표적인 전기차 제조업체입니다. 2003년 마틴 에버하드(CEO)와 마크 타페닝(CFO)에 의해 설립된 테슬라는 2004년 페이팔과 Zip2의 공동 창업자인 일론 머스크의 참여로 큰 전환점을 맞았습니다. 머스크는 최대 주주이자 회장으로서 회사를 현재의 성공으로 이끌었습니다. 회사 이름은 유명한 물리학자이자 전기공학자인 니콜라 테슬라의 이름을 따서 지어졌습니다. 테슬라는 2010년 6월 나스닥에 상장되었습니다.',\n",
       "  '2023년 테슬라는 1,808,581대의 차량을 판매하여 2022년에 비해 37.65% 증가했습니다. 2012년부터 2023년 3분기까지 테슬라의 전 세계 누적 판매량은 4,962,975대를 초과했습니다. SMT Packaging에 따르면, 2023년 테슬라의 판매량은 전 세계 전기차 시장의 약 12.9%를 차지했습니다.'],\n",
       " 'uris': None,\n",
       " 'data': None,\n",
       " 'metadatas': [{'chunk_number': 'chunk 1'},\n",
       "  {'chunk_number': 'chunk 2'},\n",
       "  {'chunk_number': 'chunk 3'},\n",
       "  {'chunk_number': 'chunk 4'},\n",
       "  {'chunk_number': 'chunk 5'},\n",
       "  {'chunk_number': 'chunk 6'},\n",
       "  {'chunk_number': 'chunk 7'},\n",
       "  {'chunk_number': 'chunk 8'},\n",
       "  {'chunk_number': 'chunk 9'},\n",
       "  {'chunk_number': 'chunk 10'},\n",
       "  {'chunk_number': 'chunk 11'},\n",
       "  {'chunk_number': 'chunk 12'},\n",
       "  {'chunk_number': 'chunk 13'}],\n",
       " 'included': [<IncludeEnum.documents: 'documents'>,\n",
       "  <IncludeEnum.metadatas: 'metadatas'>]}"
      ]
     },
     "execution_count": 10,
     "metadata": {},
     "output_type": "execute_result"
    }
   ],
   "source": [
    "chroma_db.get()"
   ]
  },
  {
   "cell_type": "markdown",
   "id": "edf6ba09",
   "metadata": {},
   "source": [
    "### DB에서 query 와 유사도 검색"
   ]
  },
  {
   "cell_type": "code",
   "execution_count": 11,
   "id": "9c805cda",
   "metadata": {},
   "outputs": [
    {
     "name": "stderr",
     "output_type": "stream",
     "text": [
      "Failed to send telemetry event CollectionQueryEvent: capture() takes 1 positional argument but 3 were given\n"
     ]
    },
    {
     "name": "stdout",
     "output_type": "stream",
     "text": [
      "질문 : 삼성은 어떤 회사인가?\n",
      "문서 ID : chunk 1, 문서내용 : 삼성전자는 1969년 설립된 세계적인 종합 전자기업으로, 1983년 반도체 사업에 본격 진출하며 메모리 반도체 중심의 글로벌 경쟁력을 쌓아왔습니다. 본사는 대한민국 경기도 수원에 있으며, 반도체 생산라인은 기흥, 화성, 평택, 그리고 미국 오스틴 및 텍사스 테일러시 등 국내외에 걸쳐 있습니다.\n",
      "문서 ID : chunk 5, 문서내용 : SK하이닉스는 1983년 현대전자산업으로 출발해, 2012년 SK그룹에 인수되면서 현재의 이름을 갖게 된 대한민국 대표 반도체 제조기업입니다. 본사는 경기도 이천에 위치하고 있으며, 글로벌 반도체 시장에서 삼성전자에 이어 세계 2위 D램 제조업체로 자리잡고 있습니다.\n"
     ]
    }
   ],
   "source": [
    "query = \"삼성은 어떤 회사인가?\"\n",
    "\n",
    "results = chroma_db.similarity_search(query=query, k=2)\n",
    "\n",
    "print(f\"질문 : {query}\")\n",
    "for doc in results:\n",
    "    print(f\"문서 ID : {doc.metadata['chunk_number']}, 문서내용 : {doc.page_content}\")\n"
   ]
  },
  {
   "cell_type": "markdown",
   "id": "3cb9e59b",
   "metadata": {},
   "source": [
    "## 교수님 코드"
   ]
  },
  {
   "cell_type": "code",
   "execution_count": null,
   "id": "a5c6377d",
   "metadata": {},
   "outputs": [],
   "source": [
    "from langchain_community.document_loaders import TextLoader\n",
    "from langchain_text_splitters import CharacterTextSplitter\n",
    "\n",
    "# 문서로딩\n",
    "\n",
    "def load_text_files(text_files):\n",
    "    data=[]\n",
    "    for file in text_files:\n",
    "        loader = TextLoader(file, encoding='utf-8')\n",
    "        data += loader.load() #load의 반환형은 리스트이기에 append가 아닌 += 복합 연산자가 사용된다.\n",
    "\n",
    "    return data\n",
    "\n",
    "korean_text_files = glob(os.path.join('data',\"*_kr.txt\")) \n",
    "korean_data = load_text_files(korean_text_files)"
   ]
  },
  {
   "cell_type": "code",
   "execution_count": null,
   "id": "ad0576c1",
   "metadata": {},
   "outputs": [
    {
     "name": "stdout",
     "output_type": "stream",
     "text": [
      "한국어 문서 수 : 19\n"
     ]
    }
   ],
   "source": [
    "# 문서 chunk\n",
    "from transformers import AutoTokenizer\n",
    "\n",
    "tokenizer = AutoTokenizer.from_pretrained(\"BAAI/bge-m3\")\n",
    "\n",
    "text_splitter = CharacterTextSplitter.from_huggingface_tokenizer(\n",
    "    tokenizer=tokenizer, # 이걸 넣으면 어떤 변화가 있는가\n",
    "    separator=r\"[.!?]\\s+\",\n",
    "    chunk_size=100,\n",
    "    chunk_overlap=0,\n",
    "    is_separator_regex=True,\n",
    "    keep_separator=True,\n",
    ")\n",
    "\n",
    "korean_docs = text_splitter.split_documents(korean_data)\n",
    "\n",
    "print(f\"한국어 문서 수 : {len(korean_docs)}\")"
   ]
  },
  {
   "cell_type": "code",
   "execution_count": 15,
   "id": "1a24763b",
   "metadata": {},
   "outputs": [],
   "source": [
    "# 문서 임베딩\n",
    "\n",
    "from langchain_huggingface.embeddings import HuggingFaceEmbeddings\n",
    "\n",
    "embedding_model = HuggingFaceEmbeddings(model_name = \"BAAI/bge-m3\")"
   ]
  },
  {
   "cell_type": "code",
   "execution_count": 16,
   "id": "b7b38797",
   "metadata": {},
   "outputs": [
    {
     "name": "stderr",
     "output_type": "stream",
     "text": [
      "Failed to send telemetry event ClientStartEvent: capture() takes 1 positional argument but 3 were given\n",
      "Failed to send telemetry event ClientCreateCollectionEvent: capture() takes 1 positional argument but 3 were given\n"
     ]
    }
   ],
   "source": [
    "from langchain_chroma import Chroma\n",
    "\n",
    "# 벡터 DB\n",
    "chroma_db = Chroma.from_documents(\n",
    "    documents = korean_docs,\n",
    "    embedding=embedding_model,\n",
    "    collection_name=\"langchain_assignment04_prof\",\n",
    "    persist_directory='./chroma_db',\n",
    "    collection_metadata={'hnsw:space' : 'cosine'}, #l2, cosine, ip\n",
    ")"
   ]
  },
  {
   "cell_type": "code",
   "execution_count": 17,
   "id": "c5a28b59",
   "metadata": {},
   "outputs": [
    {
     "name": "stderr",
     "output_type": "stream",
     "text": [
      "Failed to send telemetry event CollectionGetEvent: capture() takes 1 positional argument but 3 were given\n"
     ]
    },
    {
     "data": {
      "text/plain": [
       "{'ids': ['66ecea5f-214f-42d5-ad56-e59e70c54c9d',\n",
       "  '5f68898e-585b-4799-b0de-577af5955178',\n",
       "  '065b0eac-ad59-4414-bb67-379db37eb679',\n",
       "  '97510576-c5c2-44cd-b8ee-77681ab7fc95',\n",
       "  '935ce29a-d5a9-4588-81eb-1024d670db3b',\n",
       "  'ec8897f5-e01a-4f25-b2c6-f93dd39163fe',\n",
       "  'b267d73a-7e96-45eb-b635-072f4efd86c1',\n",
       "  'ac930ffb-0be0-49e5-97fe-ce2bdb8abf3f',\n",
       "  'a46e39fb-9617-4b70-af50-1fc366219507',\n",
       "  'b84485f8-a90d-4036-a4b5-aa24a43ec66e',\n",
       "  '91adbf1a-2910-4795-bfcf-1c0ad1dd5ca8',\n",
       "  '7bc3625f-41b1-4c76-9b43-39ccb1ecc903',\n",
       "  '4a3a854a-5726-4759-8b1b-a52f27aeefc8',\n",
       "  'd0da2d63-b45b-478a-b002-af3fc22bc681',\n",
       "  '6dbc5f8d-24d5-47a3-95da-e80aaed0c4da',\n",
       "  '00497b9d-cd80-4e2d-b854-b517880e8d8a',\n",
       "  'd972a446-1b6b-4cc4-aee4-fe26d50bb530',\n",
       "  'aa3c773a-85d3-4ec0-9c8e-e60503cf38b8',\n",
       "  '857dc974-2e9c-4ec3-8c10-66e102d7886d'],\n",
       " 'embeddings': None,\n",
       " 'documents': ['삼성전자는 1969년 설립된 세계적인 종합 전자기업으로, 1983년 반도체 사업에 본격 진출하며 메모리 반도체 중심의 글로벌 경쟁력을 쌓아왔습니다. 본사는 대한민국 경기도 수원에 있으며, 반도체 생산라인은 기흥, 화성, 평택, 그리고 미국 오스틴 및 텍사스 테일러시 등 국내외에 걸쳐 있습니다',\n",
       "  '.\\n\\n삼성전자의 반도체 부문은 크게 메모리 사업부와 시스템LSI 사업부로 구성되어 있습니다. 메모리 부문에서는 D램, 낸드플래시 등에서 수년간 세계 시장 점유율 1위를 유지하고 있으며, AI, 클라우드, 스마트폰 등 다양한 산업에 고성능 메모리 솔루션을 공급합니다',\n",
       "  '. 특히 5세대 HBM3E, 1b 나노급 D램, V-NAND 9세대 기술 등에서 혁신을 주도하고 있습니다',\n",
       "  '.\\n\\n시스템LSI 사업부는 SoC(System-on-Chip), 이미지 센서, 디스플레이 드라이버 IC 등 비메모리 분야를 담당하며, 모바일 애플리케이션 프로세서(Exynos)와 세계 1위 점유율을 가진 이미지 센서(ISOCELL)로 경쟁력을 강화하고 있습니다',\n",
       "  '. 또한, 삼성 파운드리는 3nm GAA(Gate-All-Around) 공정 양산을 세계 최초로 시작하며 TSMC와 경쟁하고 있습니다.\\n\\n삼성전자 파운드리 사업의 시장 점유율이 지속적으로 하락하고 있습니다. 2025년 1분기 기준, 삼성전자의 파운드리 시장 점유율은 17.7%로, 전년 동기 대비 감소했습니다',\n",
       "  '. 반면, TSMC는 시장 점유율을 확대하며 67.6%를 기록하여 격차가 더욱 커지고 있는 상황입니다.',\n",
       "  'SK하이닉스는 1983년 현대전자산업으로 출발해, 2012년 SK그룹에 인수되면서 현재의 이름을 갖게 된 대한민국 대표 반도체 제조기업입니다. 본사는 경기도 이천에 위치하고 있으며, 글로벌 반도체 시장에서 삼성전자에 이어 세계 2위 D램 제조업체로 자리잡고 있습니다',\n",
       "  '.\\n\\nSK하이닉스는 메모리 반도체 분야에서 높은 경쟁력을 갖추고 있으며, 주력 제품은 D램(DRAM), 낸드플래시(NAND Flash), MCP(Multi-Chip Package) 등입니다. 특히 서버, 모바일, 그래픽, PC용 고대역폭 메모리 제품군을 강화하며 AI 및 데이터센터 수요에 적극 대응하고 있습니다',\n",
       "  '. 2019년부터는 1znm 및 EUV(극자외선) 공정 기술을 적용해 생산 효율을 높이고 있습니다.\\n\\n2020년, SK하이닉스는 인텔의 낸드 사업 부문을 약 90억 달러에 인수하기로 발표하며 글로벌 시장 확대에 박차를 가했습니다',\n",
       "  '. 이를 통해 중국 다롄 공장과 SSD 관련 기술력을 확보하며 낸드플래시 경쟁력을 강화했습니다.\\n\\n또한, SK하이닉스는 지속가능한 반도체 생태계를 구축하기 위해 ‘2030 탄소중립’ 선언, 반도체 재생 기술 개발, 친환경 패키징 등 ESG 경영에도 힘쓰고 있습니다',\n",
       "  '. 최근에는 AI 특화 HBM(High Bandwidth Memory) 시장에서 엔비디아와 협력하며 초고속 메모리 기술을 선도하고 있습니다.',\n",
       "  '리비안은 MIT 박사 출신 RJ 스카린지가 2009년에 설립한 혁신적인 미국 전기차 제조업체입니다. 2011년부터 자율 전기차에 집중한 리비안은 2015년 대규모 투자를 통해 크게 성장하며 미시간과 베이 지역에 연구소를 설립했습니다. 주요 공급업체와의 접근성을 높이기 위해 본사를 미시간주 리보니아로 이전했습니다',\n",
       "  '.\\n\\n리비안의 초기 모델은 스포츠카 R1(원래 이름은 Avera)로, 2+2 좌석의 미드 엔진 하이브리드 쿠페로 피터 스티븐스가 디자인했습니다. 이 차는 쉽게 교체 가능한 본체 패널을 갖춘 모듈식 캡슐 구조를 특징으로 하며, 2013년 말에서 2014년 초 사이에 생산이 예상되었습니다',\n",
       "  '. 리비안은 디젤 하이브리드 버전, 브라질 원메이크 시리즈를 위한 R1 GT 레이싱 버전, 4도어 세단 및 크로스오버 등 다양한 버전을 고려했습니다. 2011년에 프로토타입 해치백도 공개되었지만, R1과의 관계는 불명확합니다',\n",
       "  '.\\n\\n리비안은 2021년 10월 첫 번째 양산 차량인 R1T 트럭을 고객에게 인도하기 시작했습니다.',\n",
       "  '테슬라(Tesla, Inc.)는 텍사스주 오스틴에 본사를 둔 미국의 대표적인 전기차 제조업체입니다. 2003년 마틴 에버하드(CEO)와 마크 타페닝(CFO)에 의해 설립된 테슬라는 2004년 페이팔과 Zip2의 공동 창업자인 일론 머스크의 참여로 큰 전환점을 맞았습니다',\n",
       "  '. 머스크는 최대 주주이자 회장으로서 회사를 현재의 성공으로 이끌었습니다. 회사 이름은 유명한 물리학자이자 전기공학자인 니콜라 테슬라의 이름을 따서 지어졌습니다. 테슬라는 2010년 6월 나스닥에 상장되었습니다',\n",
       "  '.\\n\\n2023년 테슬라는 1,808,581대의 차량을 판매하여 2022년에 비해 37.65% 증가했습니다. 2012년부터 2023년 3분기까지 테슬라의 전 세계 누적 판매량은 4,962,975대를 초과했습니다. SMT Packaging에 따르면, 2023년 테슬라의 판매량은 전 세계 전기차 시장의 약 12.9%를 차지했습니다',\n",
       "  '.'],\n",
       " 'uris': None,\n",
       " 'data': None,\n",
       " 'metadatas': [{'source': 'data\\\\samsung_kr.txt'},\n",
       "  {'source': 'data\\\\samsung_kr.txt'},\n",
       "  {'source': 'data\\\\samsung_kr.txt'},\n",
       "  {'source': 'data\\\\samsung_kr.txt'},\n",
       "  {'source': 'data\\\\samsung_kr.txt'},\n",
       "  {'source': 'data\\\\samsung_kr.txt'},\n",
       "  {'source': 'data\\\\skHynix_kr.txt'},\n",
       "  {'source': 'data\\\\skHynix_kr.txt'},\n",
       "  {'source': 'data\\\\skHynix_kr.txt'},\n",
       "  {'source': 'data\\\\skHynix_kr.txt'},\n",
       "  {'source': 'data\\\\skHynix_kr.txt'},\n",
       "  {'source': 'data\\\\리비안_KR.txt'},\n",
       "  {'source': 'data\\\\리비안_KR.txt'},\n",
       "  {'source': 'data\\\\리비안_KR.txt'},\n",
       "  {'source': 'data\\\\리비안_KR.txt'},\n",
       "  {'source': 'data\\\\테슬라_KR.txt'},\n",
       "  {'source': 'data\\\\테슬라_KR.txt'},\n",
       "  {'source': 'data\\\\테슬라_KR.txt'},\n",
       "  {'source': 'data\\\\테슬라_KR.txt'}],\n",
       " 'included': [<IncludeEnum.documents: 'documents'>,\n",
       "  <IncludeEnum.metadatas: 'metadatas'>]}"
      ]
     },
     "execution_count": 17,
     "metadata": {},
     "output_type": "execute_result"
    }
   ],
   "source": [
    "chroma_db.get()"
   ]
  },
  {
   "cell_type": "code",
   "execution_count": 20,
   "id": "5b8c5272",
   "metadata": {},
   "outputs": [
    {
     "name": "stdout",
     "output_type": "stream",
     "text": [
      "쿼리 : 삼성전자는 언제 사업을 시작했나요?\n",
      "검색 결과 : \n",
      " - 삼성전자는 1969년 설립된 세계적인 종합 전자기업으로, 1983년 반도체 사업에 본격 진출하며 메모리 반도체 중심의 글로벌 경쟁력을 쌓아왔습니다. 본사는 대한민국 경기도 수원에 있으며, 반도체 생산라인은 기흥, 화성, 평택, 그리고 미국 오스틴 및 텍사스 테일러시 등 국내외에 걸쳐 있습니다 \n",
      " [출처 : data\\samsung_kr.txt]\n",
      "==============================\n",
      " - SK하이닉스는 1983년 현대전자산업으로 출발해, 2012년 SK그룹에 인수되면서 현재의 이름을 갖게 된 대한민국 대표 반도체 제조기업입니다. 본사는 경기도 이천에 위치하고 있으며, 글로벌 반도체 시장에서 삼성전자에 이어 세계 2위 D램 제조업체로 자리잡고 있습니다 \n",
      " [출처 : data\\skHynix_kr.txt]\n",
      "==============================\n",
      " - .\n",
      "\n",
      "삼성전자의 반도체 부문은 크게 메모리 사업부와 시스템LSI 사업부로 구성되어 있습니다. 메모리 부문에서는 D램, 낸드플래시 등에서 수년간 세계 시장 점유율 1위를 유지하고 있으며, AI, 클라우드, 스마트폰 등 다양한 산업에 고성능 메모리 솔루션을 공급합니다 \n",
      " [출처 : data\\samsung_kr.txt]\n",
      "==============================\n",
      " - . 또한, 삼성 파운드리는 3nm GAA(Gate-All-Around) 공정 양산을 세계 최초로 시작하며 TSMC와 경쟁하고 있습니다.\n",
      "\n",
      "삼성전자 파운드리 사업의 시장 점유율이 지속적으로 하락하고 있습니다. 2025년 1분기 기준, 삼성전자의 파운드리 시장 점유율은 17.7%로, 전년 동기 대비 감소했습니다 \n",
      " [출처 : data\\samsung_kr.txt]\n",
      "==============================\n"
     ]
    }
   ],
   "source": [
    "# 검색기\n",
    "retriever = chroma_db.as_retriever(\n",
    "    search_kwarg={\"k\":2},\n",
    ")\n",
    "\n",
    "query = \"삼성전자는 언제 사업을 시작했나요?\"\n",
    "retriever_docs = retriever.invoke(query)\n",
    "\n",
    "print(f\"쿼리 : {query}\")\n",
    "print(\"검색 결과 : \")\n",
    "for doc in retriever_docs:\n",
    "    print(f\" - {doc.page_content} \\n [출처 : {doc.metadata['source']}]\")\n",
    "    print(\"=\"*30)"
   ]
  }
 ],
 "metadata": {
  "kernelspec": {
   "display_name": "langchain-env-aZmMjlRy-py3.11",
   "language": "python",
   "name": "python3"
  },
  "language_info": {
   "codemirror_mode": {
    "name": "ipython",
    "version": 3
   },
   "file_extension": ".py",
   "mimetype": "text/x-python",
   "name": "python",
   "nbconvert_exporter": "python",
   "pygments_lexer": "ipython3",
   "version": "3.11.9"
  }
 },
 "nbformat": 4,
 "nbformat_minor": 5
}

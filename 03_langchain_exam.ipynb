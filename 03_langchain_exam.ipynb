{
 "cells": [
  {
   "cell_type": "code",
   "execution_count": 1,
   "id": "329ccf13",
   "metadata": {},
   "outputs": [],
   "source": [
    "from dotenv import load_dotenv\n",
    "from glob import glob\n",
    "from pprint import pprint #json 형식 출력에 편리\n",
    "import os"
   ]
  },
  {
   "cell_type": "code",
   "execution_count": 2,
   "id": "4ad1c5b5",
   "metadata": {},
   "outputs": [
    {
     "data": {
      "text/plain": [
       "True"
      ]
     },
     "execution_count": 2,
     "metadata": {},
     "output_type": "execute_result"
    }
   ],
   "source": [
    "load_dotenv()"
   ]
  },
  {
   "cell_type": "markdown",
   "id": "674cafc7",
   "metadata": {},
   "source": [
    "## 여러 자료 형식에서 읽어오기"
   ]
  },
  {
   "cell_type": "markdown",
   "id": "3ec54e66",
   "metadata": {},
   "source": [
    "### pdf 문서 읽기"
   ]
  },
  {
   "cell_type": "code",
   "execution_count": null,
   "id": "68771d8f",
   "metadata": {},
   "outputs": [
    {
     "name": "stdout",
     "output_type": "stream",
     "text": [
      "15\n",
      "\n",
      "<class 'list'>\n",
      "\n",
      "page_content='Provided proper attribution is provided, Google hereby grants permission to\n",
      "reproduce the tables and figures in this paper solely for use in journalistic or\n",
      "scholarly works.\n",
      "Attention Is All You Need\n",
      "Ashish Vaswani∗\n",
      "Google Brain\n",
      "avaswani@google.comNoam Shazeer∗\n",
      "Google Brain\n",
      "noam@google.comNiki Parmar∗\n",
      "Google Research\n",
      "nikip@google.comJakob Uszkoreit∗\n",
      "Google Research\n",
      "usz@google.com\n",
      "Llion Jones∗\n",
      "Google Research\n",
      "llion@google.comAidan N. Gomez∗ †\n",
      "University of Toronto\n",
      "aidan@cs.toronto.eduŁukasz Kaiser∗\n",
      "Google Brain\n",
      "lukaszkaiser@google.com\n",
      "Illia Polosukhin∗ ‡\n",
      "illia.polosukhin@gmail.com\n",
      "Abstract\n",
      "The dominant sequence transduction models are based on complex recurrent or\n",
      "convolutional neural networks that include an encoder and a decoder. The best\n",
      "performing models also connect the encoder and decoder through an attention\n",
      "mechanism. We propose a new simple network architecture, the Transformer,\n",
      "based solely on attention mechanisms, dispensing with recurrence and convolutions\n",
      "entirely. Experiments on two machine translation tasks show these models to\n",
      "be superior in quality while being more parallelizable and requiring significantly\n",
      "less time to train. Our model achieves 28.4 BLEU on the WMT 2014 English-\n",
      "to-German translation task, improving over the existing best results, including\n",
      "ensembles, by over 2 BLEU. On the WMT 2014 English-to-French translation task,\n",
      "our model establishes a new single-model state-of-the-art BLEU score of 41.8 after\n",
      "training for 3.5 days on eight GPUs, a small fraction of the training costs of the\n",
      "best models from the literature. We show that the Transformer generalizes well to\n",
      "other tasks by applying it successfully to English constituency parsing both with\n",
      "large and limited training data.\n",
      "∗Equal contribution. Listing order is random. Jakob proposed replacing RNNs with self-attention and started\n",
      "the effort to evaluate this idea. Ashish, with Illia, designed and implemented the first Transformer models and\n",
      "has been crucially involved in every aspect of this work. Noam proposed scaled dot-product attention, multi-head\n",
      "attention and the parameter-free position representation and became the other person involved in nearly every\n",
      "detail. Niki designed, implemented, tuned and evaluated countless model variants in our original codebase and\n",
      "tensor2tensor. Llion also experimented with novel model variants, was responsible for our initial codebase, and\n",
      "efficient inference and visualizations. Lukasz and Aidan spent countless long days designing various parts of and\n",
      "implementing tensor2tensor, replacing our earlier codebase, greatly improving results and massively accelerating\n",
      "our research.\n",
      "†Work performed while at Google Brain.\n",
      "‡Work performed while at Google Research.\n",
      "31st Conference on Neural Information Processing Systems (NIPS 2017), Long Beach, CA, USA.arXiv:1706.03762v7  [cs.CL]  2 Aug 2023' metadata={'source': './data/transformer.pdf', 'page': 0}\n"
     ]
    }
   ],
   "source": [
    "from langchain_community.document_loaders import PyPDFLoader\n",
    "\n",
    "pdf_loader = PyPDFLoader('./data/transformer.pdf')\n",
    "pdf_docs = pdf_loader.load()\n",
    "\n",
    "print(len(pdf_docs)) # number of documents\n",
    "print()\n",
    "print(type(pdf_docs)) # list of documents\n",
    "print()\n",
    "print(pdf_docs[0]) # document"
   ]
  },
  {
   "cell_type": "code",
   "execution_count": null,
   "id": "b2aed0fb",
   "metadata": {},
   "outputs": [
    {
     "name": "stdout",
     "output_type": "stream",
     "text": [
      "Provided proper attribution is provided, Google hereby grants permission to\n",
      "reproduce the tables and figures in this paper solely for use in journalistic or\n",
      "scholarly works.\n",
      "Attention Is All You Need\n",
      "Ashish Vaswani∗\n",
      "Google Brain\n",
      "avaswani@google.comNoam Shazeer∗\n",
      "Google Brain\n",
      "noam@google.comNiki Parmar∗\n",
      "Google Research\n",
      "nikip@google.comJakob Uszkoreit∗\n",
      "Google Research\n",
      "usz@google.com\n",
      "Llion Jones∗\n",
      "Google Research\n",
      "llion@google.comAidan N. Gomez∗ †\n",
      "University of Toronto\n",
      "aidan@cs.toronto.eduŁukasz Kaiser∗\n",
      "Google Brain\n",
      "lukaszkaiser@google.com\n",
      "Illia Polosukhin∗ ‡\n",
      "illia.polosukhin@gmail.com\n",
      "Abstract\n",
      "The dominant sequence transduction models are based on complex recurrent or\n",
      "convolutional neural networks that include an encoder and a decoder. The best\n",
      "performing models also connect the encoder and decoder through an attention\n",
      "mechanism. We propose a new simple network architecture, the Transformer,\n",
      "based solely on attention mechanisms, dispensing with recurrence and convolutions\n",
      "entirely. Experiments on two machine translation tasks show these models to\n",
      "be superior in quality while being more parallelizable and requiring significantly\n",
      "less time to train. Our model achieves 28.4 BLEU on the WMT 2014 English-\n",
      "to-German translation task, improving over the existing best results, including\n",
      "ensembles, by over 2 BLEU. On the WMT 2014 English-to-French translation task,\n",
      "our model establishes a new single-model state-of-the-art BLEU score of 41.8 after\n",
      "training for 3.5 days on eight GPUs, a small fraction of the training costs of the\n",
      "best models from the literature. We show that the Transformer generalizes well to\n",
      "other tasks by applying it successfully to English constituency parsing both with\n",
      "large and limited training data.\n",
      "∗Equal contribution. Listing order is random. Jakob proposed replacing RNNs with self-attention and started\n",
      "the effort to evaluate this idea. Ashish, with Illia, designed and implemented the first Transformer models and\n",
      "has been crucially involved in every aspect of this work. Noam proposed scaled dot-product attention, multi-head\n",
      "attention and the parameter-free position representation and became the other person involved in nearly every\n",
      "detail. Niki designed, implemented, tuned and evaluated countless model variants in our original codebase and\n",
      "tensor2tensor. Llion also experimented with novel model variants, was responsible for our initial codebase, and\n",
      "efficient inference and visualizations. Lukasz and Aidan spent countless long days designing various parts of and\n",
      "implementing tensor2tensor, replacing our earlier codebase, greatly improving results and massively accelerating\n",
      "our research.\n",
      "†Work performed while at Google Brain.\n",
      "‡Work performed while at Google Research.\n",
      "31st Conference on Neural Information Processing Systems (NIPS 2017), Long Beach, CA, USA.arXiv:1706.03762v7  [cs.CL]  2 Aug 2023\n",
      "\n",
      "{'source': './data/transformer.pdf', 'page': 0}\n"
     ]
    }
   ],
   "source": [
    "print(pdf_docs[0].page_content) # content of the document\n",
    "print()\n",
    "print(pdf_docs[0].metadata) # metadata of the document"
   ]
  },
  {
   "cell_type": "markdown",
   "id": "b92993df",
   "metadata": {},
   "source": [
    "### web 에서 읽어오기"
   ]
  },
  {
   "cell_type": "code",
   "execution_count": 10,
   "id": "6f4acb47",
   "metadata": {},
   "outputs": [
    {
     "name": "stdout",
     "output_type": "stream",
     "text": [
      "2\n",
      "\n",
      "<class 'langchain_core.documents.base.Document'>\n",
      "\n",
      "page_content='\n",
      "\n",
      "\n",
      "\n",
      "\n",
      "Introduction | 🦜️🔗 LangChain\n",
      "\n",
      "\n",
      "\n",
      "\n",
      "\n",
      "\n",
      "\n",
      "\n",
      "Skip to main contentOur new LangChain Academy Course Deep Research with LangGraph is now live! Enroll for free.IntegrationsAPI ReferenceMoreContributingPeopleError referenceLangSmithLangGraphLangChain HubLangChain JS/TSv0.3v0.3v0.2v0.1💬SearchIntroductionTutorialsBuild a Question Answering application over a Graph DatabaseTutorialsBuild a simple LLM application with chat models and prompt templatesBuild a ChatbotBuild a Retrieval Augmented Generation (RAG) App: Part 2Build an Extraction ChainBuild an AgentTaggingBuild a Retrieval Augmented Generation (RAG) App: Part 1Build a semantic search engineBuild a Question/Answering system over SQL dataSummarize TextHow-to guidesHow-to guidesHow to use tools in a chainHow to use a vectorstore as a retrieverHow to add memory to chatbotsHow to use example selectorsHow to add a semantic layer over graph databaseHow to invoke runnables in parallelHow to stream chat model responsesHow to add default invocation args to a RunnableHow to add retrieval to chatbotsHow to use few shot examples in chat modelsHow to do tool/function callingHow to install LangChain packagesHow to add examples to the prompt for query analysisHow to use few shot examplesHow to run custom functionsHow to use output parsers to parse an LLM response into structured formatHow to handle cases where no queries are generatedHow to route between sub-chainsHow to return structured data from a modelHow to summarize text through parallelizationHow to summarize text through iterative refinementHow to summarize text in a single LLM callHow to use toolkitsHow to add ad-hoc tool calling capability to LLMs and Chat ModelsBuild an Agent with AgentExecutor (Legacy)How to construct knowledge graphsHow to partially format prompt templatesHow to handle multiple queries when doing query analysisHow to use built-in tools and toolkitsHow to pass through arguments from one step to the nextHow to compose prompts togetherHow to handle multiple retrievers when doing query analysisHow to add values to a chain's stateHow to construct filters for query analysisHow to configure runtime chain internalsHow to deal with high-cardinality categoricals when doing query analysisCustom Document LoaderHow to use the MultiQueryRetrieverHow to add scores to retriever resultsCachingHow to use callbacks in async environmentsHow to attach callbacks to a runnableHow to propagate callbacks  constructorHow to dispatch custom callback eventsHow to pass callbacks in at runtimeHow to split by characterHow to cache chat model responsesHow to handle rate limitsHow to init any model in one lineHow to track token usage in ChatModelsHow to add tools to chatbotsHow to split codeHow to do retrieval with contextual compressionHow to convert Runnables to ToolsHow to create custom callback handlersHow to create a custom chat model classCustom EmbeddingsHow to create a custom LLM classCustom RetrieverHow to create toolsHow to debug your LLM appsHow to load CSVsHow to load documents from a directoryHow to load HTMLHow to load JSONHow to load MarkdownHow to load Microsoft Office filesHow to load PDFsHow to load web pagesHow to create a dynamic (self-constructing) chainText embedding modelsHow to combine results from multiple retrieversHow to select examples from a LangSmith datasetHow to select examples by lengthHow to select examples by maximal marginal relevance (MMR)How to select examples by n-gram overlapHow to select examples by similarityHow to use reference examples when doing extractionHow to handle long text when doing extractionHow to use prompting alone (no tool calling) to do extractionHow to add fallbacks to a runnableHow to filter messagesHybrid SearchHow to use the LangChain indexing APIHow to inspect runnablesLangChain Expression Language CheatsheetHow to cache LLM responsesHow to track token usage for LLMsRun models locallyHow to get log probabilitiesHow to reorder retrieved results to mitigate the \"lost in the middle\" effectHow to split Markdown by HeadersHow to merge consecutive messages of the same typeHow to add message historyHow to migrate from legacy LangChain agents to LangGraphHow to retrieve using multiple vectors per documentHow to pass multimodal data to modelsHow to use multimodal promptsHow to create a custom Output ParserHow to use the output-fixing parserHow to parse JSON outputHow to retry when a parsing error occursHow to parse text from message objectsHow to parse XML outputHow to parse YAML outputHow to use the Parent Document RetrieverHow to use LangChain with different Pydantic versionsHow to add chat historyHow to get a RAG application to add citationsHow to do per-user retrievalHow to get your RAG application to return sourcesHow to stream results from your RAG applicationHow to split JSON dataHow to recursively split text by charactersResponse metadataHow to pass runtime secrets to runnablesHow to do \"self-querying\" retrievalHow to split text based on semantic similarityHow to chain runnablesHow to save and load LangChain objectsHow to split text by tokensHow to split HTMLHow to do question answering over CSVsHow to deal with large databases when doing SQL question-answeringHow to better prompt when doing SQL question-answeringHow to do query validation as part of SQL question-answeringHow to stream runnablesHow to stream responses from an LLMHow to use a time-weighted vector store retrieverHow to return artifacts from a toolHow to use chat models to call toolsHow to disable parallel tool callingHow to force models to call a toolHow to access the RunnableConfig from a toolHow to pass tool outputs to chat modelsHow to pass run time values to toolsHow to stream events from a toolHow to stream tool callsHow to convert tools to OpenAI FunctionsHow to handle tool errorsHow to use few-shot prompting with tool callingHow to add a human-in-the-loop for toolsHow to bind model-specific toolsHow to trim messagesHow to create and query vector storesConceptual guideAgentsArchitectureAsync programming with LangChainCallbacksChat historyChat modelsDocument loadersEmbedding modelsEvaluationExample selectorsFew-shot promptingConceptual guideKey-value storesLangChain Expression Language (LCEL)MessagesMultimodalityOutput parsersPrompt TemplatesRetrieval augmented generation (RAG)RetrievalRetrieversRunnable interfaceStreamingStructured outputsTestingString-in, string-out llmsText splittersTokensTool callingToolsTracingVector storesWhy LangChain?Ecosystem🦜🛠️ LangSmith🦜🕸️ LangGraphVersionsv0.3v0.2Pydantic compatibilityMigrating from v0.0 chainsHow to migrate from v0.0 chainsMigrating from ConstitutionalChainMigrating from ConversationalChainMigrating from ConversationalRetrievalChainMigrating from LLMChainMigrating from LLMMathChainMigrating from LLMRouterChainMigrating from MapReduceDocumentsChainMigrating from MapRerankDocumentsChainMigrating from MultiPromptChainMigrating from RefineDocumentsChainMigrating from RetrievalQAMigrating from StuffDocumentsChainUpgrading to LangGraph memoryHow to migrate to LangGraph memoryHow to use BaseChatMessageHistory with LangGraphMigrating off ConversationBufferMemory or ConversationStringBufferMemoryMigrating off ConversationBufferWindowMemory or ConversationTokenBufferMemoryMigrating off ConversationSummaryMemory or ConversationSummaryBufferMemoryA Long-Term Memory AgentRelease policySecurity PolicyIntroductionOn this pageIntroduction\n",
      "LangChain is a framework for developing applications powered by large language models (LLMs).\n",
      "LangChain simplifies every stage of the LLM application lifecycle:\n",
      "\n",
      "Development: Build your applications using LangChain's open-source components and third-party integrations.\n",
      "Use LangGraph to build stateful agents with first-class streaming and human-in-the-loop support.\n",
      "Productionization: Use LangSmith to inspect, monitor and evaluate your applications, so that you can continuously optimize and deploy with confidence.\n",
      "Deployment: Turn your LangGraph applications into production-ready APIs and Assistants with LangGraph Platform.\n",
      "\n",
      "\n",
      "\n",
      "LangChain implements a standard interface for large language models and related\n",
      "technologies, such as embedding models and vector stores, and integrates with\n",
      "hundreds of providers. See the integrations page for\n",
      "more.\n",
      "\n",
      "Select chat model:Google Gemini▾OpenAIAnthropicAzureGoogle GeminiGoogle VertexAWSGroqCohereNVIDIAFireworks AIMistral AITogether AIIBM watsonxDatabricksxAIPerplexityDeepSeekpip install -qU \"langchain[google-genai]\"import getpassimport osif not os.environ.get(\"GOOGLE_API_KEY\"):  os.environ[\"GOOGLE_API_KEY\"] = getpass.getpass(\"Enter API key for Google Gemini: \")from langchain.chat_models import init_chat_modelmodel = init_chat_model(\"gemini-2.5-flash\", model_provider=\"google_genai\")\n",
      "model.invoke(\"Hello, world!\")\n",
      "noteThese docs focus on the Python LangChain library. Head here for docs on the JavaScript LangChain library.\n",
      "Architecture​\n",
      "The LangChain framework consists of multiple open-source libraries. Read more in the\n",
      "Architecture page.\n",
      "\n",
      "langchain-core: Base abstractions for chat models and other components.\n",
      "Integration packages (e.g. langchain-openai, langchain-anthropic, etc.): Important integrations have been split into lightweight packages that are co-maintained by the LangChain team and the integration developers.\n",
      "langchain: Chains, agents, and retrieval strategies that make up an application's cognitive architecture.\n",
      "langchain-community: Third-party integrations that are community maintained.\n",
      "langgraph: Orchestration framework for combining LangChain components into production-ready applications with persistence, streaming, and other key features. See LangGraph documentation.\n",
      "\n",
      "Guides​\n",
      "Tutorials​\n",
      "If you're looking to build something specific or are more of a hands-on learner, check out our tutorials section.\n",
      "This is the best place to get started.\n",
      "These are the best ones to get started with:\n",
      "\n",
      "Build a Simple LLM Application\n",
      "Build a Chatbot\n",
      "Build an Agent\n",
      "Introduction to LangGraph\n",
      "\n",
      "Explore the full list of LangChain tutorials here, and check out other LangGraph tutorials here. To learn more about LangGraph, check out our first LangChain Academy course, Introduction to LangGraph, available here.\n",
      "How-to guides​\n",
      "Here you’ll find short answers to “How do I….?” types of questions.\n",
      "These how-to guides don’t cover topics in depth – you’ll find that material in the Tutorials and the API Reference.\n",
      "However, these guides will help you quickly accomplish common tasks using chat models,\n",
      "vector stores, and other common LangChain components.\n",
      "Check out LangGraph-specific how-tos here.\n",
      "Conceptual guide​\n",
      "Introductions to all the key parts of LangChain you’ll need to know! Here you'll find high level explanations of all LangChain concepts.\n",
      "For a deeper dive into LangGraph concepts, check out this page.\n",
      "Integrations​\n",
      "LangChain is part of a rich ecosystem of tools that integrate with our framework and build on top of it.\n",
      "If you're looking to get up and running quickly with chat models, vector stores,\n",
      "or other LangChain components from a specific provider, check out our growing list of integrations.\n",
      "API reference​\n",
      "Head to the reference section for full documentation of all classes and methods in the LangChain Python packages.\n",
      "Ecosystem​\n",
      "🦜🛠️ LangSmith​\n",
      "Trace and evaluate your language model applications and intelligent agents to help you move from prototype to production.\n",
      "🦜🕸️ LangGraph​\n",
      "Build stateful, multi-actor applications with LLMs. Integrates smoothly with LangChain, but can be used without it. LangGraph powers production-grade agents, trusted by Linkedin, Uber, Klarna, GitLab, and many more.\n",
      "Additional resources​\n",
      "Versions​\n",
      "See what changed in v0.3, learn how to migrate legacy code, read up on our versioning policies, and more.\n",
      "Security​\n",
      "Read up on security best practices to make sure you're developing safely with LangChain.\n",
      "Contributing​\n",
      "Check out the developer's guide for guidelines on contributing and help getting your dev environment set up.Edit this pageNextTutorialsArchitectureGuidesTutorialsHow-to guidesConceptual guideIntegrationsAPI referenceEcosystem🦜🛠️ LangSmith🦜🕸️ LangGraphAdditional resourcesVersionsSecurityContributingCommunityLangChain ForumTwitterSlackGitHubOrganizationPythonJS/TSMoreHomepageBlogYouTubeCopyright © 2025 LangChain, Inc.\n",
      "\n",
      "' metadata={'source': 'https://python.langchain.com/docs/introduction/', 'title': 'Introduction | 🦜️🔗 LangChain', 'description': 'LangChain is a framework for developing applications powered by large language models (LLMs).', 'language': 'en'}\n"
     ]
    }
   ],
   "source": [
    "from langchain_community.document_loaders import WebBaseLoader\n",
    "\n",
    "web_loader = WebBaseLoader(['https://python.langchain.com/docs/introduction/', 'https://js.langchain.com/docs/introduction/'])\n",
    "\n",
    "web_docs = web_loader.load()\n",
    "\n",
    "print(len(web_docs))\n",
    "print()\n",
    "print(type(web_docs[0]))\n",
    "print()\n",
    "print(web_docs[0])"
   ]
  },
  {
   "cell_type": "code",
   "execution_count": null,
   "id": "3337fa7d",
   "metadata": {},
   "outputs": [
    {
     "name": "stdout",
     "output_type": "stream",
     "text": [
      "\n",
      "\n",
      "\n",
      "\n",
      "\n",
      "Introduction | 🦜️🔗 LangChain\n",
      "\n",
      "\n",
      "\n",
      "\n",
      "\n",
      "\n",
      "\n",
      "\n",
      "Skip to main contentOur new LangChain Academy Course Deep Research with LangGraph is now live! Enroll for free.IntegrationsAPI ReferenceMoreContributingPeopleError referenceLangSmithLangGraphLangChain HubLangChain JS/TSv0.3v0.3v0.2v0.1💬SearchIntroductionTutorialsBuild a Question Answering application over a Graph DatabaseTutorialsBuild a simple LLM application with chat models and prompt templatesBuild a ChatbotBuild a Retrieval Augmented Generation (RAG) App: Part 2Build an Extraction ChainBuild an AgentTaggingBuild a Retrieval Augmented Generation (RAG) App: Part 1Build a semantic search engineBuild a Question/Answering system over SQL dataSummarize TextHow-to guidesHow-to guidesHow to use tools in a chainHow to use a vectorstore as a retrieverHow to add memory to chatbotsHow to use example selectorsHow to add a semantic layer over graph databaseHow to invoke runnables in parallelHow to stream chat model responsesHow to add default invocation args to a RunnableHow to add retrieval to chatbotsHow to use few shot examples in chat modelsHow to do tool/function callingHow to install LangChain packagesHow to add examples to the prompt for query analysisHow to use few shot examplesHow to run custom functionsHow to use output parsers to parse an LLM response into structured formatHow to handle cases where no queries are generatedHow to route between sub-chainsHow to return structured data from a modelHow to summarize text through parallelizationHow to summarize text through iterative refinementHow to summarize text in a single LLM callHow to use toolkitsHow to add ad-hoc tool calling capability to LLMs and Chat ModelsBuild an Agent with AgentExecutor (Legacy)How to construct knowledge graphsHow to partially format prompt templatesHow to handle multiple queries when doing query analysisHow to use built-in tools and toolkitsHow to pass through arguments from one step to the nextHow to compose prompts togetherHow to handle multiple retrievers when doing query analysisHow to add values to a chain's stateHow to construct filters for query analysisHow to configure runtime chain internalsHow to deal with high-cardinality categoricals when doing query analysisCustom Document LoaderHow to use the MultiQueryRetrieverHow to add scores to retriever resultsCachingHow to use callbacks in async environmentsHow to attach callbacks to a runnableHow to propagate callbacks  constructorHow to dispatch custom callback eventsHow to pass callbacks in at runtimeHow to split by characterHow to cache chat model responsesHow to handle rate limitsHow to init any model in one lineHow to track token usage in ChatModelsHow to add tools to chatbotsHow to split codeHow to do retrieval with contextual compressionHow to convert Runnables to ToolsHow to create custom callback handlersHow to create a custom chat model classCustom EmbeddingsHow to create a custom LLM classCustom RetrieverHow to create toolsHow to debug your LLM appsHow to load CSVsHow to load documents from a directoryHow to load HTMLHow to load JSONHow to load MarkdownHow to load Microsoft Office filesHow to load PDFsHow to load web pagesHow to create a dynamic (self-constructing) chainText embedding modelsHow to combine results from multiple retrieversHow to select examples from a LangSmith datasetHow to select examples by lengthHow to select examples by maximal marginal relevance (MMR)How to select examples by n-gram overlapHow to select examples by similarityHow to use reference examples when doing extractionHow to handle long text when doing extractionHow to use prompting alone (no tool calling) to do extractionHow to add fallbacks to a runnableHow to filter messagesHybrid SearchHow to use the LangChain indexing APIHow to inspect runnablesLangChain Expression Language CheatsheetHow to cache LLM responsesHow to track token usage for LLMsRun models locallyHow to get log probabilitiesHow to reorder retrieved results to mitigate the \"lost in the middle\" effectHow to split Markdown by HeadersHow to merge consecutive messages of the same typeHow to add message historyHow to migrate from legacy LangChain agents to LangGraphHow to retrieve using multiple vectors per documentHow to pass multimodal data to modelsHow to use multimodal promptsHow to create a custom Output ParserHow to use the output-fixing parserHow to parse JSON outputHow to retry when a parsing error occursHow to parse text from message objectsHow to parse XML outputHow to parse YAML outputHow to use the Parent Document RetrieverHow to use LangChain with different Pydantic versionsHow to add chat historyHow to get a RAG application to add citationsHow to do per-user retrievalHow to get your RAG application to return sourcesHow to stream results from your RAG applicationHow to split JSON dataHow to recursively split text by charactersResponse metadataHow to pass runtime secrets to runnablesHow to do \"self-querying\" retrievalHow to split text based on semantic similarityHow to chain runnablesHow to save and load LangChain objectsHow to split text by tokensHow to split HTMLHow to do question answering over CSVsHow to deal with large databases when doing SQL question-answeringHow to better prompt when doing SQL question-answeringHow to do query validation as part of SQL question-answeringHow to stream runnablesHow to stream responses from an LLMHow to use a time-weighted vector store retrieverHow to return artifacts from a toolHow to use chat models to call toolsHow to disable parallel tool callingHow to force models to call a toolHow to access the RunnableConfig from a toolHow to pass tool outputs to chat modelsHow to pass run time values to toolsHow to stream events from a toolHow to stream tool callsHow to convert tools to OpenAI FunctionsHow to handle tool errorsHow to use few-shot prompting with tool callingHow to add a human-in-the-loop for toolsHow to bind model-specific toolsHow to trim messagesHow to create and query vector storesConceptual guideAgentsArchitectureAsync programming with LangChainCallbacksChat historyChat modelsDocument loadersEmbedding modelsEvaluationExample selectorsFew-shot promptingConceptual guideKey-value storesLangChain Expression Language (LCEL)MessagesMultimodalityOutput parsersPrompt TemplatesRetrieval augmented generation (RAG)RetrievalRetrieversRunnable interfaceStreamingStructured outputsTestingString-in, string-out llmsText splittersTokensTool callingToolsTracingVector storesWhy LangChain?Ecosystem🦜🛠️ LangSmith🦜🕸️ LangGraphVersionsv0.3v0.2Pydantic compatibilityMigrating from v0.0 chainsHow to migrate from v0.0 chainsMigrating from ConstitutionalChainMigrating from ConversationalChainMigrating from ConversationalRetrievalChainMigrating from LLMChainMigrating from LLMMathChainMigrating from LLMRouterChainMigrating from MapReduceDocumentsChainMigrating from MapRerankDocumentsChainMigrating from MultiPromptChainMigrating from RefineDocumentsChainMigrating from RetrievalQAMigrating from StuffDocumentsChainUpgrading to LangGraph memoryHow to migrate to LangGraph memoryHow to use BaseChatMessageHistory with LangGraphMigrating off ConversationBufferMemory or ConversationStringBufferMemoryMigrating off ConversationBufferWindowMemory or ConversationTokenBufferMemoryMigrating off ConversationSummaryMemory or ConversationSummaryBufferMemoryA Long-Term Memory AgentRelease policySecurity PolicyIntroductionOn this pageIntroduction\n",
      "LangChain is a framework for developing applications powered by large language models (LLMs).\n",
      "LangChain simplifies every stage of the LLM application lifecycle:\n",
      "\n",
      "Development: Build your applications using LangChain's open-source components and third-party integrations.\n",
      "Use LangGraph to build stateful agents with first-class streaming and human-in-the-loop support.\n",
      "Productionization: Use LangSmith to inspect, monitor and evaluate your applications, so that you can continuously optimize and deploy with confidence.\n",
      "Deployment: Turn your LangGraph applications into production-ready APIs and Assistants with LangGraph Platform.\n",
      "\n",
      "\n",
      "\n",
      "LangChain implements a standard interface for large language models and related\n",
      "technologies, such as embedding models and vector stores, and integrates with\n",
      "hundreds of providers. See the integrations page for\n",
      "more.\n",
      "\n",
      "Select chat model:Google Gemini▾OpenAIAnthropicAzureGoogle GeminiGoogle VertexAWSGroqCohereNVIDIAFireworks AIMistral AITogether AIIBM watsonxDatabricksxAIPerplexityDeepSeekpip install -qU \"langchain[google-genai]\"import getpassimport osif not os.environ.get(\"GOOGLE_API_KEY\"):  os.environ[\"GOOGLE_API_KEY\"] = getpass.getpass(\"Enter API key for Google Gemini: \")from langchain.chat_models import init_chat_modelmodel = init_chat_model(\"gemini-2.5-flash\", model_provider=\"google_genai\")\n",
      "model.invoke(\"Hello, world!\")\n",
      "noteThese docs focus on the Python LangChain library. Head here for docs on the JavaScript LangChain library.\n",
      "Architecture​\n",
      "The LangChain framework consists of multiple open-source libraries. Read more in the\n",
      "Architecture page.\n",
      "\n",
      "langchain-core: Base abstractions for chat models and other components.\n",
      "Integration packages (e.g. langchain-openai, langchain-anthropic, etc.): Important integrations have been split into lightweight packages that are co-maintained by the LangChain team and the integration developers.\n",
      "langchain: Chains, agents, and retrieval strategies that make up an application's cognitive architecture.\n",
      "langchain-community: Third-party integrations that are community maintained.\n",
      "langgraph: Orchestration framework for combining LangChain components into production-ready applications with persistence, streaming, and other key features. See LangGraph documentation.\n",
      "\n",
      "Guides​\n",
      "Tutorials​\n",
      "If you're looking to build something specific or are more of a hands-on learner, check out our tutorials section.\n",
      "This is the best place to get started.\n",
      "These are the best ones to get started with:\n",
      "\n",
      "Build a Simple LLM Application\n",
      "Build a Chatbot\n",
      "Build an Agent\n",
      "Introduction to LangGraph\n",
      "\n",
      "Explore the full list of LangChain tutorials here, and check out other LangGraph tutorials here. To learn more about LangGraph, check out our first LangChain Academy course, Introduction to LangGraph, available here.\n",
      "How-to guides​\n",
      "Here you’ll find short answers to “How do I….?” types of questions.\n",
      "These how-to guides don’t cover topics in depth – you’ll find that material in the Tutorials and the API Reference.\n",
      "However, these guides will help you quickly accomplish common tasks using chat models,\n",
      "vector stores, and other common LangChain components.\n",
      "Check out LangGraph-specific how-tos here.\n",
      "Conceptual guide​\n",
      "Introductions to all the key parts of LangChain you’ll need to know! Here you'll find high level explanations of all LangChain concepts.\n",
      "For a deeper dive into LangGraph concepts, check out this page.\n",
      "Integrations​\n",
      "LangChain is part of a rich ecosystem of tools that integrate with our framework and build on top of it.\n",
      "If you're looking to get up and running quickly with chat models, vector stores,\n",
      "or other LangChain components from a specific provider, check out our growing list of integrations.\n",
      "API reference​\n",
      "Head to the reference section for full documentation of all classes and methods in the LangChain Python packages.\n",
      "Ecosystem​\n",
      "🦜🛠️ LangSmith​\n",
      "Trace and evaluate your language model applications and intelligent agents to help you move from prototype to production.\n",
      "🦜🕸️ LangGraph​\n",
      "Build stateful, multi-actor applications with LLMs. Integrates smoothly with LangChain, but can be used without it. LangGraph powers production-grade agents, trusted by Linkedin, Uber, Klarna, GitLab, and many more.\n",
      "Additional resources​\n",
      "Versions​\n",
      "See what changed in v0.3, learn how to migrate legacy code, read up on our versioning policies, and more.\n",
      "Security​\n",
      "Read up on security best practices to make sure you're developing safely with LangChain.\n",
      "Contributing​\n",
      "Check out the developer's guide for guidelines on contributing and help getting your dev environment set up.Edit this pageNextTutorialsArchitectureGuidesTutorialsHow-to guidesConceptual guideIntegrationsAPI referenceEcosystem🦜🛠️ LangSmith🦜🕸️ LangGraphAdditional resourcesVersionsSecurityContributingCommunityLangChain ForumTwitterSlackGitHubOrganizationPythonJS/TSMoreHomepageBlogYouTubeCopyright © 2025 LangChain, Inc.\n",
      "\n",
      "\n"
     ]
    }
   ],
   "source": [
    "print(web_docs[0].page_content)"
   ]
  },
  {
   "cell_type": "code",
   "execution_count": 13,
   "id": "9bfc480a",
   "metadata": {},
   "outputs": [
    {
     "name": "stdout",
     "output_type": "stream",
     "text": [
      "{'source': 'https://python.langchain.com/docs/introduction/', 'title': 'Introduction | 🦜️🔗 LangChain', 'description': 'LangChain is a framework for developing applications powered by large language models (LLMs).', 'language': 'en'}\n"
     ]
    }
   ],
   "source": [
    "print(web_docs[0].metadata)"
   ]
  },
  {
   "cell_type": "code",
   "execution_count": 12,
   "id": "aca051c8",
   "metadata": {},
   "outputs": [
    {
     "name": "stdout",
     "output_type": "stream",
     "text": [
      "\n",
      "\n",
      "\n",
      "\n",
      "\n",
      "Introduction | 🦜️🔗 Langchain\n",
      "\n",
      "\n",
      "\n",
      "\n",
      "\n",
      "\n",
      "\n",
      "\n",
      "\n",
      "\n",
      "Skip to main contentOur new LangChain Academy Course Deep Research with LangGraph is now live! Enroll for free.IntegrationsAPI ReferenceMorePeopleCommunityError referenceExternal guidesContributingv0.3v0.3v0.2v0.1🦜🔗LangSmithLangSmith DocsLangChain HubLangServePython DocsChatSearchIntroductionTutorialsBuild a Question Answering application over a Graph DatabaseTutorialsBuild a simple LLM application with chat models and prompt templatesBuild a ChatbotBuild a Retrieval Augmented Generation (RAG) App: Part 2Build an Extraction ChainTaggingBuild a Retrieval Augmented Generation (RAG) App: Part 1Build a semantic search engineBuild a Question/Answering system over SQL dataSummarize TextHow-to guidesHow-to guidesHow to add memory to chatbotsHow to use example selectorsInstallationHow to stream responses from an LLMHow to stream chat model responsesHow to embed text dataHow to use few shot examples in chat modelsHow to cache model responsesHow to cache chat model responsesRicher outputsHow to use few shot examplesHow to use output parsers to parse an LLM response into structured formatHow to return structured data from a modelHow to add ad-hoc tool calling capability to LLMs and Chat ModelsRicher outputsHow to do per-user retrievalHow to track token usageHow to track token usageHow to pass through arguments from one step to the nextHow to compose prompts togetherHow to use legacy LangChain Agents (AgentExecutor)How to add values to a chain's stateHow to attach runtime configuration to a RunnableHow to cache embedding resultsHow to attach callbacks to a moduleHow to pass callbacks into a module constructorHow to dispatch custom callback eventsHow to pass callbacks in at runtimeHow to await callbacks in serverless environmentsHow to cancel executionHow to split by characterHow to init any model in one lineHow to do retrievalHow to add tools to chatbotsHow to split codeHow to do retrieval with contextual compressionHow to convert Runnables to ToolsHow to create custom callback handlersHow to write a custom retriever classHow to create ToolsHow to debug your LLM appsHow to load CSV dataHow to write a custom document loaderHow to load data from a directoryHow to load HTMLHow to load MarkdownHow to load PDF filesHow to load JSON dataHow to combine results from multiple retrieversHow to select examples from a LangSmith datasetHow to select examples by lengthHow to select examples by similarityHow to use reference examplesHow to handle long textHow to do extraction without using function callingFallbacksFew Shot Prompt TemplatesHow to filter messagesHow to run custom functionsHow to build an LLM generated UIHow to construct knowledge graphsHow to map values to a databaseHow to improve results with promptingHow to add a semantic layer over the databaseHow to reindex data to keep your vectorstore in-sync with the underlying data sourceLangChain Expression Language CheatsheetHow to get log probabilitiesHow to merge consecutive messages of the same typeHow to add message historyHow to migrate from legacy LangChain agents to LangGraphHow to generate multiple embeddings per documentHow to pass multimodal data directly to modelsHow to use multimodal promptsHow to generate multiple queries to retrieve data forHow to try to fix errors in output parsingHow to parse JSON outputHow to parse XML outputHow to invoke runnables in parallelHow to retrieve the whole document for a chunkHow to partially format prompt templatesHow to add chat historyHow to return citationsHow to return sourcesHow to stream from a question-answering chainHow to construct filtersHow to add examples to the promptHow to deal with high cardinality categorical variablesHow to handle multiple queriesHow to handle multiple retrieversHow to handle cases where no queries are generatedHow to recursively split text by charactersHow to reduce retrieval latencyHow to route execution within a chainHow to do \"self-querying\" retrievalHow to chain runnablesHow to split text by tokensHow to deal with large databasesHow to use prompting to improve resultsHow to do query validationHow to stream agent data to the clientHow to stream structured output to the clientHow to streamHow to create a time-weighted retrieverHow to return artifacts from a toolHow to use chat models to call toolsHow to disable parallel tool callingHow to call tools with multimodal dataHow to force tool calling behaviorHow to access the RunnableConfig from a toolHow to pass tool outputs to chat modelsHow to pass run time values to toolsHow to stream events from a toolHow to stream tool callsHow to use LangChain toolsHow to handle tool errorsHow to use few-shot prompting with tool callingHow to trim messagesHow use a vector store to retrieve dataHow to create and query vector storesConceptual GuideAgentsArchitectureCallbacksChat historyChat modelsDocument loadersEmbedding modelsEvaluationExample selectorsFew-shot promptingConceptual guideKey-value storesLangChain Expression Language (LCEL)MessagesMultimodalityOutput parsersPrompt TemplatesRetrieval augmented generation (rag)RetrievalRetrieversRunnable interfaceStreamingStructured outputstString-in, string-out llmsText splittersTokensTool callingToolsTracingVector storesWhy LangChain?Ecosystem🦜🛠️ LangSmith🦜🕸️ LangGraph.jsVersionsv0.3v0.2Migrating from v0.0 memoryHow to migrate to LangGraph memoryHow to use BaseChatMessageHistory with LangGraphMigrating off ConversationTokenBufferMemoryMigrating off ConversationSummaryMemory or ConversationSummaryBufferMemoryRelease PolicySecurityIntroductionOn this pageIntroductionLangChain is a framework for developing applications powered by large language models (LLMs).LangChain simplifies every stage of the LLM application lifecycle:Development: Build your applications using LangChain's open-source building blocks, components, and third-party integrations.\n",
      "Use LangGraph.js to build stateful agents with first-class streaming and human-in-the-loop support.Productionization: Use LangSmith to inspect, monitor and evaluate your chains, so that you can continuously optimize and deploy with confidence.Deployment: Turn your LangGraph applications into production-ready APIs and Assistants with LangGraph Cloud.Concretely, the framework consists of the following open-source libraries:@langchain/core: Base abstractions and LangChain Expression Language.@langchain/community: Third party integrations.Partner packages (e.g. @langchain/openai, @langchain/anthropic, etc.): Some integrations have been further split into their own lightweight packages that only depend on @langchain/core.langchain: Chains, agents, and retrieval strategies that make up an application's cognitive architecture.LangGraph.js: Build robust and stateful multi-actor applications with LLMs by modeling steps as edges and nodes in a graph.LangSmith: A developer platform that lets you debug, test, evaluate, and monitor LLM applications.noteThese docs focus on the JavaScript LangChain library. Head here for docs on the Python LangChain library.Tutorials​If you're looking to build something specific or are more of a hands-on learner, check out our tutorials.\n",
      "This is the best place to get started.These are the best ones to get started with:Build a Simple LLM ApplicationBuild a ChatbotBuild an AgentLangGraph.js quickstartExplore the full list of LangChain tutorials here, and check out other LangGraph tutorials here.How-To Guides​Here you'll find short answers to “How do I….?” types of questions.\n",
      "These how-to guides don't cover topics in depth - you'll find that material in the Tutorials and the API Reference.\n",
      "However, these guides will help you quickly accomplish common tasks.Check out LangGraph-specific how-tos here.Conceptual Guide​Introductions to all the key parts of LangChain you'll need to know! Here you'll find high level explanations of all LangChain concepts.For a deeper dive into LangGraph concepts, check out this page.API reference​Head to the reference section for full documentation of all classes and methods in the LangChain JavaScript packages.Ecosystem​🦜🛠️ LangSmith​Trace and evaluate your language model applications and intelligent agents to help you move from prototype to production.🦜🕸️ LangGraph​Build stateful, multi-actor applications with LLMs. Integrates smoothly with LangChain, but can be used without it. LangGraph powers production-grade agents, trusted by Linkedin, Uber, Klarna, GitLab, and many more.Additional resources​Security​Read up on our Security best practices to make sure you're developing safely with LangChain.Integrations​LangChain is part of a rich ecosystem of tools that integrate with our framework and build on top of it. Check out our growing list of integrations.Contributing​Check out the developer's guide for guidelines on contributing and help getting your dev environment set up.Was this page helpful?You can also leave detailed feedback on GitHub.NextTutorialsTutorialsHow-To GuidesConceptual GuideAPI referenceEcosystem🦜🛠️ LangSmith🦜🕸️ LangGraphAdditional resourcesSecurityIntegrationsContributingCommunityLangChain ForumTwitterGitHubPythonJS/TSMoreHomepageBlogCopyright © 2025 LangChain, Inc.\n",
      "\n",
      "\n",
      "\n",
      "\n"
     ]
    }
   ],
   "source": [
    "print(web_docs[1].page_content)"
   ]
  },
  {
   "cell_type": "markdown",
   "id": "128b00db",
   "metadata": {},
   "source": [
    "### csv 파일 읽어오기"
   ]
  },
  {
   "cell_type": "code",
   "execution_count": null,
   "id": "d066085f",
   "metadata": {},
   "outputs": [
    {
     "name": "stdout",
     "output_type": "stream",
     "text": [
      "문서의 수 :  10\n",
      "==============================\n",
      "첫 번째 문서의 내용 :  Team: KIA 타이거즈\n",
      "City: 광주\n",
      "Founded: 1982\n",
      "Home Stadium: 광주-기아 챔피언스 필드\n",
      "Championships: 11\n",
      "Introduction: KBO 리그의 전통 강호로, 역대 최다 우승 기록을 보유하고 있다. '타이거즈 스피릿'으로 유명하며, 양현종, 안치홍 등 스타 선수들을 배출했다. 광주를 연고로 하는 유일한 프로야구팀으로 지역 사랑이 강하다.\n",
      "==============================\n",
      "첫 번째 문서의 메타데이터 :  {'source': './data/kbo_teams_2023.csv', 'row': 0}\n"
     ]
    }
   ],
   "source": [
    "from langchain_community.document_loaders import CSVLoader\n",
    "\n",
    "csv_loader = CSVLoader(file_path='./data/kbo_teams_2023.csv', encoding='utf-8')\n",
    "\n",
    "csv_docs = csv_loader.load() #각 행을 document 로 List[Document] 형태로 반환\n",
    "\n",
    "print(\"문서의 수 : \", len(csv_docs))\n",
    "print(\"=\"*30)\n",
    "print(\"첫 번째 문서의 내용 : \", csv_docs[0].page_content) # 각 행 별로 문서로 불러와 지는 것을 확인\n",
    "print(\"=\"*30)\n",
    "print(\"첫 번째 문서의 메타데이터 : \", csv_docs[0].metadata)"
   ]
  },
  {
   "cell_type": "markdown",
   "id": "4d0e691d",
   "metadata": {},
   "source": [
    "## chunk 만들기"
   ]
  },
  {
   "cell_type": "markdown",
   "id": "2cfc83ed",
   "metadata": {},
   "source": [
    "### RecursiveCharacterTextSplitter\n",
    "\n",
    "꼭 글자수 만이 아니라, 여러 기준으로 자를 수 있다. Separators 를 여러 개 등록할 수 있다."
   ]
  },
  {
   "cell_type": "code",
   "execution_count": null,
   "id": "72d666d2",
   "metadata": {},
   "outputs": [
    {
     "name": "stdout",
     "output_type": "stream",
     "text": [
      "생성된 텍스트 청크 수 : 52\n",
      "각 청크의 길이 : [981, 910, 975, 451, 932, 998, 904, 907, 995, 385, 926, 953, 216, 920, 996, 829, 975, 910, 906, 870, 929, 961, 945, 997, 195, 977, 968, 947, 933, 965, 938, 915, 733, 952, 945, 948, 618, 980, 989, 994, 624, 945, 914, 946, 918, 988, 929, 929, 849, 812, 814, 817]\n"
     ]
    }
   ],
   "source": [
    "from langchain_text_splitters import RecursiveCharacterTextSplitter\n",
    "\n",
    "text_splitter = RecursiveCharacterTextSplitter(\n",
    "    chunk_size = 1000,\n",
    "    chunk_overlap = 200, # 문맥을 살리기 위해서 겹치는 부분 크기\n",
    "    length_function = len, # 글자 수를 기준 -> 이걸 왜씀? 청크 사이즈 1000이 글자수 1000이 되도록 한다.\n",
    "    separators = [\"\\n\\n\", \"\\n\", \" \", \"\"], # 여러 기준으로 청크 나누기가 가능, 앞에 나오는 것 우선 -> 이게 RecursiveCharacterTextSplitter의 핵심 기능\n",
    ")\n",
    "\n",
    "texts = text_splitter.split_documents(pdf_docs) # 위에서 읽은 pdf\n",
    "print(f\"생성된 텍스트 청크 수 : {len(texts)}\")\n",
    "print(f\"각 청크의 길이 : {list(len(text.page_content) for text in texts)}\")"
   ]
  },
  {
   "cell_type": "code",
   "execution_count": 20,
   "id": "9e2a67a5",
   "metadata": {},
   "outputs": [
    {
     "name": "stdout",
     "output_type": "stream",
     "text": [
      "Provided proper attribution is provided, Google hereby grants permission to\n",
      "reproduce the tables and figures in this paper solely for use in journalistic or\n",
      "scholarly works.\n",
      "Attention Is All You Need\n",
      "\n",
      "----------------------------------------\n",
      "the encoder and decoder through an attention\n",
      "mechanism. We propose a new simple network architecture, the Transformer,\n",
      "based solely on attention mechanisms, dispensing with recurrence and convolutions\n",
      "========================================\n",
      "mechanism. We propose a new simple network architecture, the Transformer,\n",
      "based solely on attention mechanisms, dispensing with recurrence and convolutions\n",
      "entirely. Experiments on two machine transla\n",
      "----------------------------------------\n",
      "the\n",
      "best models from the literature. We show that the Transformer generalizes well to\n",
      "other tasks by applying it successfully to English constituency parsing both with\n",
      "large and limited training data.\n",
      "========================================\n",
      "best models from the literature. We show that the Transformer generalizes well to\n",
      "other tasks by applying it successfully to English constituency parsing both with\n",
      "large and limited training data.\n",
      "∗Eq\n",
      "----------------------------------------\n",
      " experimented with novel model variants, was responsible for our initial codebase, and\n",
      "efficient inference and visualizations. Lukasz and Aidan spent countless long days designing various parts of and\n",
      "========================================\n",
      "efficient inference and visualizations. Lukasz and Aidan spent countless long days designing various parts of and\n",
      "implementing tensor2tensor, replacing our earlier codebase, greatly improving results \n",
      "----------------------------------------\n",
      "ormed while at Google Brain.\n",
      "‡Work performed while at Google Research.\n",
      "31st Conference on Neural Information Processing Systems (NIPS 2017), Long Beach, CA, USA.arXiv:1706.03762v7  [cs.CL]  2 Aug 2023\n",
      "========================================\n",
      "1 Introduction\n",
      "Recurrent neural networks, long short-term memory [ 13] and gated recurrent [ 7] neural networks\n",
      "in particular, have been firmly established as state of the art approaches in sequence m\n",
      "----------------------------------------\n",
      "\n",
      "sequential nature precludes parallelization within training examples, which becomes critical at longer\n",
      "sequence lengths, as memory constraints limit batching across examples. Recent work has achieved\n",
      "========================================\n"
     ]
    }
   ],
   "source": [
    "for text in texts[:5]:\n",
    "    print(text.page_content[:200])\n",
    "    print(\"-\"*40)\n",
    "    print(text.page_content[-200:])\n",
    "    print(\"=\"*40)"
   ]
  },
  {
   "cell_type": "markdown",
   "id": "faf2c03e",
   "metadata": {},
   "source": [
    "### 정규 표현식 분할"
   ]
  },
  {
   "cell_type": "code",
   "execution_count": 23,
   "id": "2315f7dc",
   "metadata": {},
   "outputs": [
    {
     "name": "stdout",
     "output_type": "stream",
     "text": [
      "생성된 텍스트 청크 수 : 49\n",
      "각 청크의 길이 : [991, 886, 940, 210, 907, 823, 785, 945, 880, 1000, 899, 838, 842, 865, 773, 927, 939, 527, 979, 928, 944, 594, 922, 935, 991, 534, 965, 780, 926, 524, 974, 944, 844, 291, 882, 996, 987, 400, 945, 982, 937, 617, 988, 921, 974, 548, 812, 814, 817]\n"
     ]
    }
   ],
   "source": [
    "from langchain_text_splitters import CharacterTextSplitter\n",
    "\n",
    "text_splitter = CharacterTextSplitter(\n",
    "    chunk_size = 1000,\n",
    "    chunk_overlap = 100,\n",
    "    separator= r'(?<=[.!?])\\s+', # 정규 표현식을 통한 문자열 seperator\n",
    "    is_separator_regex=True,\n",
    "    keep_separator = True,\n",
    ")\n",
    "\n",
    "texts = text_splitter.split_documents(pdf_docs) # 위에서 읽은 pdf\n",
    "print(f\"생성된 텍스트 청크 수 : {len(texts)}\")\n",
    "print(f\"각 청크의 길이 : {list(len(text.page_content) for text in texts)}\")"
   ]
  },
  {
   "cell_type": "code",
   "execution_count": 26,
   "id": "03433fd0",
   "metadata": {},
   "outputs": [
    {
     "name": "stdout",
     "output_type": "stream",
     "text": [
      "Provided proper attribution is provided, Google hereby grants permission to\n",
      "reproduce the tables and figures in this paper solely for use in journalistic or\n",
      "scholarly works.\n",
      "Attention Is All You Need\n",
      "\n",
      "----------------------------------------\n",
      "r and decoder through an attention\n",
      "mechanism. We propose a new simple network architecture, the Transformer,\n",
      "based solely on attention mechanisms, dispensing with recurrence and convolutions\n",
      "entirely.\n",
      "========================================\n",
      "Experiments on two machine translation tasks show these models to\n",
      "be superior in quality while being more parallelizable and requiring significantly\n",
      "less time to train. Our model achieves 28.4 BLEU on\n",
      "----------------------------------------\n",
      "ituency parsing both with\n",
      "large and limited training data.\n",
      "∗Equal contribution. Listing order is random. Jakob proposed replacing RNNs with self-attention and started\n",
      "the effort to evaluate this idea.\n",
      "========================================\n",
      "Jakob proposed replacing RNNs with self-attention and started\n",
      "the effort to evaluate this idea. Ashish, with Illia, designed and implemented the first Transformer models and\n",
      "has been crucially involve\n",
      "----------------------------------------\n",
      "nting tensor2tensor, replacing our earlier codebase, greatly improving results and massively accelerating\n",
      "our research.\n",
      "†Work performed while at Google Brain.\n",
      "‡Work performed while at Google Research.\n",
      "========================================\n",
      "†Work performed while at Google Brain.\n",
      "‡Work performed while at Google Research.\n",
      "31st Conference on Neural Information Processing Systems (NIPS 2017), Long Beach, CA, USA.arXiv:1706.03762v7  [cs.CL]  \n",
      "----------------------------------------\n",
      "ormed while at Google Brain.\n",
      "‡Work performed while at Google Research.\n",
      "31st Conference on Neural Information Processing Systems (NIPS 2017), Long Beach, CA, USA.arXiv:1706.03762v7  [cs.CL]  2 Aug 2023\n",
      "========================================\n",
      "1 Introduction\n",
      "Recurrent neural networks, long short-term memory [ 13] and gated recurrent [ 7] neural networks\n",
      "in particular, have been firmly established as state of the art approaches in sequence m\n",
      "----------------------------------------\n",
      "sition t. This inherently\n",
      "sequential nature precludes parallelization within training examples, which becomes critical at longer\n",
      "sequence lengths, as memory constraints limit batching across examples.\n",
      "========================================\n"
     ]
    }
   ],
   "source": [
    "for text in texts[:5]:\n",
    "    print(text.page_content[:200])\n",
    "    print(\"-\"*40)\n",
    "    print(text.page_content[-200:])\n",
    "    print(\"=\"*40)"
   ]
  },
  {
   "cell_type": "markdown",
   "id": "8b3a4aa4",
   "metadata": {},
   "source": [
    "### 허깅페이스에서 토크나이저 사용하기"
   ]
  },
  {
   "cell_type": "code",
   "execution_count": 27,
   "id": "fe4fa0cc",
   "metadata": {},
   "outputs": [
    {
     "name": "stderr",
     "output_type": "stream",
     "text": [
      "c:\\Users\\USER\\AppData\\Local\\pypoetry\\Cache\\virtualenvs\\langchain-env-aZmMjlRy-py3.11\\Lib\\site-packages\\huggingface_hub\\file_download.py:143: UserWarning: `huggingface_hub` cache-system uses symlinks by default to efficiently store duplicated files but your machine does not support them in C:\\Users\\USER\\.cache\\huggingface\\hub\\models--BAAI--bge-m3. Caching files will still work but in a degraded version that might require more space on your disk. This warning can be disabled by setting the `HF_HUB_DISABLE_SYMLINKS_WARNING` environment variable. For more details, see https://huggingface.co/docs/huggingface_hub/how-to-cache#limitations.\n",
      "To support symlinks on Windows, you either need to activate Developer Mode or to run Python as an administrator. In order to activate developer mode, see this article: https://docs.microsoft.com/en-us/windows/apps/get-started/enable-your-device-for-development\n",
      "  warnings.warn(message)\n"
     ]
    }
   ],
   "source": [
    "from transformers import AutoTokenizer\n",
    "\n",
    "tokenizer = AutoTokenizer.from_pretrained(\"BAAI/bge-m3\")"
   ]
  },
  {
   "cell_type": "code",
   "execution_count": 28,
   "id": "b126ed20",
   "metadata": {},
   "outputs": [
    {
     "data": {
      "text/plain": [
       "XLMRobertaTokenizerFast(name_or_path='BAAI/bge-m3', vocab_size=250002, model_max_length=8192, is_fast=True, padding_side='right', truncation_side='right', special_tokens={'bos_token': '<s>', 'eos_token': '</s>', 'unk_token': '<unk>', 'sep_token': '</s>', 'pad_token': '<pad>', 'cls_token': '<s>', 'mask_token': '<mask>'}, clean_up_tokenization_spaces=True),  added_tokens_decoder={\n",
       "\t0: AddedToken(\"<s>\", rstrip=False, lstrip=False, single_word=False, normalized=False, special=True),\n",
       "\t1: AddedToken(\"<pad>\", rstrip=False, lstrip=False, single_word=False, normalized=False, special=True),\n",
       "\t2: AddedToken(\"</s>\", rstrip=False, lstrip=False, single_word=False, normalized=False, special=True),\n",
       "\t3: AddedToken(\"<unk>\", rstrip=False, lstrip=False, single_word=False, normalized=False, special=True),\n",
       "\t250001: AddedToken(\"<mask>\", rstrip=False, lstrip=True, single_word=False, normalized=False, special=True),\n",
       "}"
      ]
     },
     "execution_count": 28,
     "metadata": {},
     "output_type": "execute_result"
    }
   ],
   "source": [
    "tokenizer"
   ]
  },
  {
   "cell_type": "code",
   "execution_count": 29,
   "id": "e485fd15",
   "metadata": {},
   "outputs": [
    {
     "name": "stdout",
     "output_type": "stream",
     "text": [
      "[0, 107687, 5, 20451, 54272, 16367, 5, 2]\n"
     ]
    }
   ],
   "source": [
    "tokens = tokenizer.encode('안녕하세요. 반갑습니다.')\n",
    "\n",
    "print(tokens)"
   ]
  },
  {
   "cell_type": "code",
   "execution_count": null,
   "id": "267551c7",
   "metadata": {},
   "outputs": [
    {
     "name": "stdout",
     "output_type": "stream",
     "text": [
      "['<s>', '▁안녕하세요', '.', '▁반', '갑', '습니다', '.', '</s>']\n"
     ]
    }
   ],
   "source": [
    "print(tokenizer.convert_ids_to_tokens(tokens)) # tokens 을 가지고 id 토큰을 text 토큰으로 변환"
   ]
  },
  {
   "cell_type": "code",
   "execution_count": null,
   "id": "ef5c90d4",
   "metadata": {},
   "outputs": [
    {
     "name": "stdout",
     "output_type": "stream",
     "text": [
      "<s> 안녕하세요. 반갑습니다.</s>\n"
     ]
    }
   ],
   "source": [
    "print(tokenizer.decode(tokens)) # 다시 문자열로 디코딩"
   ]
  },
  {
   "cell_type": "markdown",
   "id": "7691dc0d",
   "metadata": {},
   "source": [
    "## 임베딩 (Embedding)\n",
    "\n",
    "이전까지 우리는 openAI 임베딩 모델을 사용\n",
    "\n",
    "임베딩 : 텍스트를 벡터로 표현함으로써 의미적으로 가장 유사한 다른 텍스트를 찾는 등 수학적 연산을 수행가능하기 위해 하는 것"
   ]
  },
  {
   "cell_type": "markdown",
   "id": "2ae31bca",
   "metadata": {},
   "source": [
    "### openAI"
   ]
  },
  {
   "cell_type": "code",
   "execution_count": 32,
   "id": "0b01ff73",
   "metadata": {},
   "outputs": [
    {
     "data": {
      "text/plain": [
       "OpenAIEmbeddings(client=<openai.resources.embeddings.Embeddings object at 0x000002846CD27A10>, async_client=<openai.resources.embeddings.AsyncEmbeddings object at 0x00000284667EAF90>, model='text-embedding-3-small', dimensions=None, deployment='text-embedding-ada-002', openai_api_version='', openai_api_base=None, openai_api_type='', openai_proxy='', embedding_ctx_length=8191, openai_api_key=SecretStr('**********'), openai_organization=None, allowed_special=None, disallowed_special=None, chunk_size=1000, max_retries=2, request_timeout=None, headers=None, tiktoken_enabled=True, tiktoken_model_name=None, show_progress_bar=False, model_kwargs={}, skip_empty=False, default_headers=None, default_query=None, retry_min_seconds=4, retry_max_seconds=20, http_client=None, http_async_client=None, check_embedding_ctx_length=True)"
      ]
     },
     "execution_count": 32,
     "metadata": {},
     "output_type": "execute_result"
    }
   ],
   "source": [
    "from langchain_openai import OpenAIEmbeddings\n",
    "\n",
    "embeddings_model = OpenAIEmbeddings(model = \"text-embedding-3-small\")\n",
    "\n",
    "embeddings_model"
   ]
  },
  {
   "cell_type": "markdown",
   "id": "c00c26e1",
   "metadata": {},
   "source": [
    "embedding_ctx_length=8191, 이라는 부분이 임베딩 할 수 있는 토큰의 한계, context의 한계 토큰 수\n",
    "\n",
    "따라서 chunk 할 때도 이 이상의 토큰을 가지도록 하면 안된다."
   ]
  },
  {
   "cell_type": "code",
   "execution_count": 34,
   "id": "b2f311ac",
   "metadata": {},
   "outputs": [
    {
     "data": {
      "text/plain": [
       "8191"
      ]
     },
     "execution_count": 34,
     "metadata": {},
     "output_type": "execute_result"
    }
   ],
   "source": [
    "embeddings_model.embedding_ctx_length"
   ]
  },
  {
   "cell_type": "code",
   "execution_count": 36,
   "id": "dc39125d",
   "metadata": {},
   "outputs": [
    {
     "name": "stdout",
     "output_type": "stream",
     "text": [
      "임베딩 벡터의 개수 : 5\n",
      "임베딩 벡터의 차원 : 1536\n",
      "[-0.002310403622686863, 0.012099752202630043, -0.002436630427837372, 0.015039036981761456, 0.018447164446115494, -0.04565808176994324, -0.003119608387351036, 0.046956416219472885, -0.018239790573716164, -0.031881313771009445, 0.006847810931503773, 0.006965021602809429, -0.018591422587633133, -0.027138788253068924, 0.004891293589025736, -0.015580009669065475, -0.041546691209077835, 0.010053073056042194, 0.05157271400094032, -0.045874472707509995, -0.01464232336729765, -0.027751890942454338, -0.018753714859485626, -0.022702815011143684, 0.004363845102488995, -0.03981557860970497, 0.05031044781208038, 0.017716851085424423, 0.00028372881934046745, -0.023333948105573654, 0.048976048827171326, -0.015273458324372768, -0.029933813959360123, -0.06159874051809311, 0.02044876292347908, 0.03537960350513458, 0.002585398033261299, -0.006807237863540649, -0.005130222998559475, 0.02477654255926609, 0.00756459916010499, 0.02753550186753273, -0.0025651114992797375, 0.025984713807702065, -0.017996354028582573, 0.005590049549937248, -0.025840455666184425, 0.0036064835730940104, 0.0075150104239583015, 0.056657858192920685, -0.025010963901877403, 0.030096106231212616, 0.007974836975336075, -0.03480256721377373, -0.0020331551786512136, 0.09542755782604218, 0.01380381640046835, 0.0292846467345953, 0.003762013278901577, 0.030276430770754814, 0.015165263786911964, 0.01509313378483057, 0.0036650889087468386, 0.02093563787639141, -0.0518612340092659, -0.024379828944802284, 0.036389417946338654, 0.026183070614933968, -0.01988975703716278, -0.02921251766383648, 0.008971127681434155, -0.019637303426861763, -0.04508104547858238, 0.02122415602207184, -0.000698756193742156, -0.012388271279633045, -0.0649167075753212, 0.025461774319410324, 0.01275793556123972, 0.024379828944802284, -0.004253396764397621, 0.0005328016122803092, 0.048002295196056366, -0.059939756989479065, -0.009241614490747452, -0.02282904088497162, -0.00111462885979563, -0.057667672634124756, -0.05326776206493378, -0.004670396447181702, -0.030492819845676422, 0.049012113362550735, 0.0043886397033929825, 0.0041722506284713745, -0.05305137485265732, 0.03235015645623207, 0.061057768762111664, -0.052149754017591476, 0.0037980780471116304, 0.02787811867892742, -0.05168091133236885, -0.005729801021516323, 0.0318993479013443, 0.05474642291665077, 0.001877625472843647, -0.021620869636535645, -0.007194934878498316, 0.019835660234093666, -0.021692998707294464, 0.008159669116139412, -0.010161267593502998, -0.004936374258249998, -0.07566402852535248, 0.040609005838632584, -0.05795619264245033, -0.01954714208841324, 0.02850925363600254, -0.023297883570194244, -0.023388046771287918, -0.0073527186177670956, -0.023496240377426147, 0.02962726354598999, 0.03447798267006874, -0.004454007372260094, -0.01800536923110485, -0.0248126070946455, 0.014948874711990356, -0.03269277513027191, -0.025083092972636223, -0.004357083234935999, -0.004864244721829891, -0.026615848764777184, -0.012135817669332027, 0.02798631228506565, 0.041727013885974884, -0.016526710242033005, 0.005242925602942705, 0.0251912884414196, -0.001341161085292697, -0.05326776206493378, 0.019258622080087662, -0.019529107958078384, 0.01779799722135067, 0.012784983962774277, -0.028942031785845757, -0.05251040309667587, -0.012929243966937065, 0.01793324016034603, 0.03988770768046379, 0.041546691209077835, -0.046920351684093475, -0.01880781166255474, -0.07057888060808182, -0.039238542318344116, -0.05052683502435684, 0.024163439869880676, 0.0005026536528021097, 0.03278293460607529, -0.011856314726173878, -0.028635479509830475, 0.008231799118220806, -0.008191226050257683, -0.03319768235087395, 0.009971926920115948, -0.026110941544175148, 0.040609005838632584, -0.022342165932059288, 0.046920351684093475, -0.018681585788726807, 0.002396057592704892, -0.027842054143548012, -0.010386672802269459, -0.024488024413585663, -0.021260220557451248, 0.005842503625899553, 0.014651339501142502, 0.021368416026234627, 0.01573328487575054, -0.049048177897930145, -0.026237167418003082, -0.030961662530899048, -0.018681585788726807, -0.0002795024774968624, 0.027030594646930695, -0.008358025923371315, -0.024794574826955795, 0.016689002513885498, -0.04771377891302109, -0.029122354462742805, 0.019384849816560745, 0.03651564568281174, 0.026128973811864853, 0.019222557544708252, 0.043566323816776276, 0.008258847519755363, -0.026615848764777184, -0.0011743612121790648, -0.05377266928553581, -0.010756337083876133, -0.0032345650251954794, 0.028942031785845757, -0.040500812232494354, -0.025389645248651505, -0.01397512387484312, 0.012262044474482536, 0.00656830845400691, 0.04187127575278282, 0.006784697063267231, -0.03161082789301872, -0.026814205572009087, -0.01869961805641651, -0.02551587112247944, 0.07328374683856964, 0.00046461651800200343, -0.03409930318593979, -0.06033647060394287, 0.020304502919316292, 0.007587139960378408, -0.014083318412303925, 0.03011413849890232, -0.006577324587851763, -0.008141636848449707, 0.013028422370553017, -0.005220384802669287, 0.005184320267289877, -0.0026192087680101395, 0.021692998707294464, -0.036245159804821014, 0.02593061700463295, -0.03418946638703346, -0.023568371310830116, 0.02977152168750763, 0.0028333435766398907, -0.00833999365568161, 0.0023442143574357033, -0.01326284371316433, -0.011730087921023369, -0.02272084727883339, 0.011459602043032646, 0.0057388171553611755, 0.008425647392868996, -0.00024780488456599414, -0.005125714931637049, -0.020015984773635864, -0.008646544069051743, -0.00591463316231966, -0.0004423577629495412, 0.027355177327990532, -0.00403024535626173, -0.011802217923104763, 0.01794225536286831, -0.028797771781682968, 0.023532304912805557, -0.02115202695131302, 0.011360423639416695, 0.004638839513063431, 0.030042007565498352, -0.026814205572009087, 0.005450298544019461, -0.0020162498112767935, -0.01451609656214714, 0.013641524128615856, -0.026201102882623672, -0.032332126051187515, 0.013217762112617493, 0.007271572481840849, -0.002925759879872203, 0.027156822383403778, -0.03887789323925972, -0.026147006079554558, -0.013289892114698887, 0.04035655036568642, 0.014633307233452797, -0.025389645248651505, -0.04075326398015022, 0.012433351948857307, -0.03689432889223099, 0.021692998707294464, -0.02246839366853237, 0.05052683502435684, -0.052330076694488525, 0.029951846227049828, 0.04573021084070206, -0.003597467439249158, -0.00174689048435539, 3.349380858708173e-05, -0.036659907549619675, -0.020917605608701706, -0.012262044474482536, -0.06286101043224335, 0.06253642588853836, 0.0021548739168792963, -0.01587754487991333, 0.04320567473769188, 0.02977152168750763, -0.01769881881773472, -0.011468618176877499, 0.046848222613334656, -0.005247433669865131, 0.00660437298938632, 0.023856889456510544, -0.05838897079229355, -0.017770947888493538, -0.02055695652961731, 0.004859736654907465, 0.023983115330338478, -0.04944489151239395, 0.01605786755681038, -0.0021965738851577044, -0.03696645796298981, -0.015589025802910328, 0.007289605215191841, 0.07443781942129135, 0.009038749150931835, -0.0274273082613945, -0.01626524142920971, -0.017428332939743996, -0.0570906363427639, 0.002955062547698617, -0.017220959067344666, -0.014759534038603306, 0.03812053054571152, 0.012334173545241356, -0.02795024774968624, -0.03056494891643524, 0.012703838758170605, -0.0008695006836205721, 0.01936681754887104, -0.014687404967844486, -0.04735312983393669, 0.07169689238071442, 0.06159874051809311, -0.030492819845676422, 0.004985963460057974, -0.008204749785363674, -0.03440585359930992, -0.02679617330431938, 0.014209545217454433, -0.05081535503268242, -0.03590254485607147, -0.05636933818459511, 0.02149464190006256, -0.048110492527484894, 0.050130121409893036, 0.010305526666343212, 0.0001662363501964137, -0.0021019037812948227, 0.007753939833492041, 0.019619271159172058, -0.0006102846236899495, 0.018825843930244446, -0.0112882936373353, -0.01751849427819252, -0.020394664257764816, -0.0369303934276104, -0.006550275720655918, -0.047064609825611115, -0.008678101003170013, -0.02425360307097435, -0.04024835675954819, -0.04839900881052017, -0.0013276367681100965, 0.03786807879805565, 0.042628634721040726, 0.03985164314508438, 0.010017008520662785, 0.002522284397855401, -0.026687977835536003, -0.007086740341037512, 0.0016082662623375654, -0.03235015645623207, -0.0003755814686883241, 0.011982541531324387, -0.07144443690776825, -0.009313743561506271, -0.029879717156291008, -0.01845617964863777, 0.0270486269146204, -0.045802343636751175, 0.01612098142504692, 0.02630929835140705, 0.05499887466430664, 0.007375258952379227, -0.0225765872746706, -0.032259996980428696, 0.005364644341170788, -0.01106288842856884, -0.012658757157623768, -0.06870350986719131, 0.032223932445049286, 0.029158420860767365, -0.03200754150748253, -0.029302679002285004, 0.003845413215458393, -0.012361222878098488, -0.027319112792611122, -0.018789779394865036, -0.05539558827877045, -0.0395631268620491, 0.024488024413585663, -0.03150263428688049, -0.030997727066278458, -0.02436179667711258, 0.021999549120664597, 0.014525112695991993, -0.04032048583030701, 0.05622508004307747, 0.059723369777202606, 0.009737505577504635, 0.03458617627620697, 0.004284953232854605, -0.06257249414920807, 0.038481179624795914, -0.00038966929423622787, -0.03510911762714386, -0.049120306968688965, -0.01985369250178337, 0.033305875957012177, 0.020827442407608032, 0.0006728345761075616, 0.01947501115500927, 0.027337145060300827, 0.03995983675122261, -0.03458617627620697, 0.007064200006425381, 0.02044876292347908, 0.037327107042074203, 0.0052699740044772625, 0.05283498391509056, -0.012225979007780552, -0.004823671653866768, 0.006744124460965395, -0.023225754499435425, -0.0034261594992130995, -0.05178910493850708, -0.0007274953532032669, 0.023225754499435425, 0.015561976470053196, -0.009710457175970078, 0.024469992145895958, 0.0032638676930218935, -0.02118809148669243, 0.006203151773661375, -0.02153070643544197, -0.014056270010769367, 0.038481179624795914, -0.0292846467345953, -0.02492080256342888, -0.010891580954194069, -0.05366447567939758, 0.02903219312429428, -0.065313421189785, 0.030997727066278458, 0.03891395777463913, -0.015543944202363491, -0.04937276244163513, 0.021278252825140953, -0.034459952265024185, 0.01141452044248581, 0.024830639362335205, -0.0006970656686462462, 0.016625888645648956, -0.026056844741106033, -0.008303928188979626, -0.005693736020475626, 0.038372986018657684, 0.04634331539273262, 0.006847810931503773, -0.051464520394802094, 0.038445115089416504, -0.011279277503490448, -0.035722218453884125, 0.01794225536286831, -0.02309952676296234, 0.015002971515059471, -0.0002056822704616934, -0.004523883108049631, -0.013073503039777279, -0.04500891640782356, -0.0071543618105351925, 0.00863752793520689, -0.002470441162586212, 0.010684208013117313, 0.011261245235800743, 0.035992708057165146, 0.04230405390262604, -0.06726092100143433, 0.005982254631817341, 0.059867627918720245, -0.0047064609825611115, 0.012415319681167603, -0.03267474099993706, 0.07941477000713348, 0.0025606034323573112, 0.02969939261674881, 0.049012113362550735, -0.012162866070866585, 0.006437573116272688, 0.010675191879272461, 0.013181697577238083, 0.023460175842046738, -0.029753489419817924, -0.010287494398653507, 0.02771582640707493, 0.005513411946594715, -0.0004795496060978621, -0.052257947623729706, 0.02208971232175827, -0.004264666698873043, -0.019745497032999992, 0.03207967057824135, 0.04302534833550453, -0.003737218677997589, 0.009737505577504635, -0.009800619445741177, 0.006671994458884001, -0.009313743561506271, 0.007943280041217804, 0.027174854651093483, -0.027228951454162598, -0.009313743561506271, -0.022288069128990173, -0.029014160856604576, 0.0022934982553124428, -0.000124254627735354, -0.05420544743537903, -0.009620294906198978, -0.01660785637795925, 0.00949406810104847, -0.017121780663728714, 0.016139013692736626, -0.01713981293141842, 0.015543944202363491, -0.03913034871220589, -0.01796930469572544, 0.013010389171540737, 0.010152251459658146, 0.01512919832020998, -0.04190734028816223, -0.010630110278725624, 0.016382452100515366, -0.014813631772994995, 0.009313743561506271, 0.0249929316341877, -0.007194934878498316, 0.047064609825611115, -0.01102682389318943, -0.037110716104507446, 0.003840905148535967, 0.029050225391983986, 0.020430728793144226, 0.00036177539732307196, 0.03696645796298981, -0.02302739769220352, 0.011198131367564201, -0.0045982664451003075, 0.00649167038500309, -0.025948649272322655, -0.0026349870022386312, -0.02690436691045761, 0.008583431132137775, -0.020791377872228622, -0.04212372750043869, -0.004192537162452936, 0.008457204326987267, 0.010494867339730263, 0.028455154970288277, -0.01643654890358448, 0.021873323246836662, 0.029483003541827202, -0.04554988816380501, 0.029789553955197334, -0.016382452100515366, 0.06235610321164131, -0.009800619445741177, -0.04205159842967987, 0.01003504078835249, -0.027301080524921417, -0.012117785401642323, 0.024542121216654778, 0.020502859726548195, 0.015480831265449524, 0.03202557563781738, 0.013154649175703526, 0.04075326398015022, 5.191364107304253e-05, 0.002767976140603423, 0.020502859726548195, 0.03262064605951309, -0.029230549931526184, 0.0341353677213192, 0.018519293516874313, -0.01380381640046835, -0.027319112792611122, -0.025732260197401047, -0.015787381678819656, 0.007699842564761639, 0.016274256631731987, 0.01378578320145607, 0.024379828944802284, -0.004967931192368269, 0.012902195565402508, 0.020466795191168785, 0.00526095787063241, -0.024830639362335205, -0.031773120164871216, -0.015796398743987083, 0.036245159804821014, 0.007442880421876907, -0.010458802804350853, -0.013443167321383953, 0.008312944322824478, 0.008087539114058018, -0.02324378676712513, -0.005815454758703709, -0.011144034564495087, 0.0005040624528191984, 0.0001804650528356433, 0.026147006079554558, -0.014957890845835209, 0.00886293314397335, -0.006500686518847942, 0.03366652503609657, -0.016111966222524643, 0.0043886397033929825, -0.031051823869347572, 0.0013129854341968894, -0.009394889697432518, -0.02093563787639141, 0.0017018094658851624, 0.00767730176448822, 0.07328374683856964, -0.013587427325546741, 0.036064837127923965, -0.009467019699513912, -0.06589045375585556, -0.0112882936373353, -0.006365443579852581, 0.012505481950938702, -0.009358825162053108, -0.022630684077739716, 0.004562201909720898, 0.009503084234893322, -0.031105920672416687, 0.029374809935688972, -0.008804327808320522, 0.0011512571945786476, -0.02872564271092415, 0.009047766216099262, 0.006784697063267231, 0.003432921599596739, -0.0253716129809618, -0.033414069563150406, 0.01266777329146862, -0.004546423442661762, -0.016770148649811745, -0.0036200080066919327, -0.030510852113366127, 0.023965083062648773, 0.0015812176279723644, 0.009881764650344849, -0.013848897069692612, 0.02041269652545452, -0.015381652861833572, -0.006699043326079845, 0.04645150899887085, 0.019456978887319565, 0.03640745207667351, -0.007014610804617405, -0.011784185655415058, -0.028419090434908867, 0.01936681754887104, 0.011135018430650234, 0.009575214236974716, -0.04032048583030701, 0.03364849090576172, 0.0020849984139204025, 0.01738325133919716, 0.04280896112322807, 0.03812053054571152, -0.014993955381214619, -0.018302904441952705, -0.018167661502957344, -0.043710581958293915, 0.017220959067344666, 0.004291715566068888, 0.014398885890841484, 0.01880781166255474, 0.019529107958078384, -0.0630413368344307, 0.015787381678819656, 0.029086289927363396, -0.025065060704946518, -0.004591504577547312, -0.065313421189785, -0.013001373037695885, 0.018573390319943428, -0.03959919139742851, -0.03272883966565132, 0.0253716129809618, -0.02484867163002491, 0.008817852474749088, 0.012171882204711437, -0.023514272645115852, -0.025804391130805016, -0.01576934941112995, 0.04536956548690796, -0.007726890966296196, -0.010882563889026642, -0.0035771809052675962, -0.01988975703716278, 0.000534492137376219, -0.018230775371193886, -0.010422737337648869, 0.03604680299758911, -0.008394090458750725, 0.04446794465184212, -0.0225765872746706, 0.009521116502583027, -0.04288109019398689, -0.026706011965870857, -0.025876520201563835, -0.012469417415559292, -0.012523514218628407, -0.005220384802669287, -0.027102723717689514, -0.0391664132475853, -0.007952296175062656, -0.03388291224837303, -0.00030683286604471505, 0.02526341751217842, -0.010693224146962166, -0.021656934171915054, -0.008596954867243767, 0.060047950595617294, -0.008015410043299198, -0.03876969963312149, -0.004372861236333847, -0.023748693987727165, -0.017563575878739357, 0.00011636544513748959, -0.018753714859485626, 0.027138788253068924, 0.03491076081991196, -0.017644720152020454, 0.026183070614933968, 0.0001629961479920894, 0.0019497552420943975, 0.013848897069692612, -0.04432368278503418, 0.009845700114965439, -0.002871662611141801, 0.03198951110243797, -0.025533903390169144, 0.00037501793121919036, -0.009926846250891685, 0.013037438504397869, 0.005089649930596352, 0.013668572530150414, -0.02306346222758293, 0.024451958015561104, 0.020809410139918327, 0.0016950472490862012, 0.0092325983569026, 0.0016860311152413487, 0.0021717792842537165, 0.004302985966205597, -0.02373066172003746, -0.002817565342411399, 0.012559578754007816, 0.029014160856604576, -0.012875146232545376, -0.005657671019434929, 0.0014347042888402939, 0.04017622768878937, -0.001599250128492713, 0.00623020064085722, -0.04785803705453873, -0.005856027826666832, 0.03148460015654564, 0.011531731113791466, -0.0201422106474638, -0.019384849816560745, -0.001532755559310317, -0.008087539114058018, -0.021206123754382133, 0.02641749195754528, 0.033341940492391586, -0.009602262638509274, -0.024343764409422874, -0.0050535849295556545, 0.021368416026234627, -0.040536876767873764, -0.005044568795710802, -0.013362022116780281, 0.011775168590247631, 0.002903219312429428, 0.012000573799014091, 0.0027972788084298372, -0.002849122043699026, 0.03815659508109093, 0.007695334497839212, 0.043710581958293915, 0.034604210406541824, 0.05398906022310257, 0.009169484488666058, -0.015327555127441883, 0.045802343636751175, -0.046956416219472885, -0.02921251766383648, 0.03260261192917824, -0.010512899607419968, -0.015327555127441883, 0.04569414630532265, -0.019619271159172058, -0.032512448728084564, -0.008898998610675335, -0.0026147007010877132, -0.005883076228201389, -0.014416918158531189, 0.03157476335763931, 0.00036459293914958835, -0.005675703752785921, -0.010476835072040558, 0.03866150602698326, -0.01490379311144352, -0.018131596967577934, 0.023604435846209526, -0.031322311609983444, 0.0047425259836018085, 0.07681810110807419, 0.018897974863648415, 0.033937010914087296, 0.0006131022237241268, 0.035055018961429596, 0.0009241614025086164, -0.01768980175256729, -0.010269462130963802, -0.028112540021538734, 0.032368190586566925, -0.013812832534313202, 0.006478146184235811, 0.002256306353956461, 0.018176676705479622, -0.035055018961429596, -0.0024591709952801466, -0.01765373721718788, 0.016950473189353943, -0.021620869636535645, -0.006252740975469351, -0.03159279748797417, 0.007203951012343168, 0.024902768433094025, -0.009791603311896324, 0.0663953647017479, 0.013280875980854034, 0.018420115113258362, -0.015381652861833572, 0.020899573341012, -0.007735907565802336, 0.011883363127708435, 0.03409930318593979, 0.0358123816549778, -0.017302105203270912, 0.03220589831471443, -0.017284072935581207, 0.001178869279101491, 0.022143809124827385, 0.0010954693425446749, 0.01581443101167679, 0.029194485396146774, 0.05171697586774826, -0.014813631772994995, -0.01734718680381775, -0.016310323029756546, -0.024866703897714615, -0.005062601529061794, 0.021999549120664597, -0.010864531621336937, -0.014344788156449795, 0.01266777329146862, -0.0820835679769516, 0.024596218019723892, -0.03485666587948799, 0.01832093670964241, -0.008844900876283646, -0.011964509263634682, 0.025678163394331932, -0.04746132344007492, 0.04208766296505928, -0.0030790353193879128, -0.03280096873641014, 0.011405504308640957, -0.012739903293550014, 0.028437122702598572, 0.03977951407432556, -0.01842913217842579, 0.009971926920115948, -0.0034013648983091116, 0.010729288682341576, -0.02007008157670498, -0.027156822383403778, -0.01432675588876009, -0.03703858703374863, -0.018122579902410507, 0.020538924261927605, 0.01626524142920971, 0.013758734799921513, 0.015625089406967163, -0.03658777475357056, 0.013948075473308563, 0.02391098625957966, -0.00041474562021903694, -0.021692998707294464, 0.011522714979946613, -0.05413331836462021, 0.013443167321383953, 0.02373066172003746, -0.07465421408414841, -0.004792115185409784, -0.008921538479626179, -0.009557181969285011, -0.001341161085292697, 0.0044968342408537865, 0.026724044233560562, 0.02787811867892742, -0.0402844212949276, -0.05160878226161003, -0.03179115429520607, 0.021963484585285187, 0.0026890842709690332, -0.010242413729429245, 0.010476835072040558, -0.012352206744253635, -0.005256449803709984, 0.001291571999900043, -0.011594844982028008, 0.00802442617714405, 0.008542858064174652, -0.06992971897125244, 0.00034317944664508104, -0.03070920705795288, -0.013073503039777279, -0.006694535259157419, -0.03213376924395561, 0.0065367515198886395, 0.025533903390169144, 0.006910924334079027, 0.010467818938195705, 0.048002295196056366, 0.007731399033218622, -0.06390689313411713, 0.023225754499435425, -0.0020478065125644207, 0.0274273082613945, 0.018266839906573296, 0.05810045078396797, 0.006176103372126818, -0.011162066832184792, 0.010720272548496723, 0.0008339993073605001, -0.05315956845879555, 0.005328579340130091, -0.012965308502316475, -0.013416118919849396, -0.01106288842856884, 0.0031331325881183147, -0.009421938098967075, 0.0066269137896597385, 0.019078297540545464, 0.015300506725907326, -0.01909632980823517, 0.027138788253068924, 0.013767750933766365, 0.009385873563587666, -0.021729063242673874, 0.024794574826955795, -0.032368190586566925, -0.02044876292347908, -0.03649761527776718, 0.05481855198740959, 0.006509703118354082, 0.005517920013517141, -0.01601278781890869, 0.03981557860970497, -0.007127313409000635, 0.025353580713272095, 0.01776193268597126, -0.0010098153725266457, -0.014633307233452797, -0.0010594045743346214, -0.03794020786881447, 0.00276572210714221, -0.052438270300626755, 0.04320567473769188, -0.00830843672156334, -0.0008441425743512809, -0.04764164984226227, -0.017013587057590485, 0.0021819225512444973, -0.025533903390169144, 0.016553759574890137, -0.021837258711457253, -0.022594619542360306, 0.008817852474749088, -0.028833836317062378, -0.04558595269918442, -0.00023442142992280424, 0.016454581171274185, 0.02906825765967369, 0.030312495306134224, -0.012812033295631409, 0.021584805101156235, -0.00018638194887898862, 0.03361242637038231, 0.02286510542035103, -0.03085346706211567, 0.014047253876924515, 0.017085716128349304, -0.0028108032420277596, 0.009917830117046833, -0.03750742971897125, 0.02787811867892742, -0.0455138236284256, -0.01598573848605156, 0.0034509541001170874, 0.024506056681275368, -0.01685129478573799, 0.003834142815321684, 0.01845617964863777, -0.023081494495272636, 0.005003996193408966, -0.004548677243292332, 0.022774944081902504, -0.015589025802910328, 0.04991373419761658, -0.022666748613119125, -0.023784758523106575, 0.054602161049842834, 0.005468330811709166, -0.00012115530989831313, 0.021368416026234627, -0.007469929289072752, 0.009746521711349487, -0.007997377775609493, 0.010449786670506, -0.03312555328011513, -0.014471015892922878, -0.006261757109314203, 0.056513600051403046, 0.02544374205172062, 0.007001086138188839, -0.02659781649708748, 0.030835434794425964, -0.023496240377426147, 0.027842054143548012, -0.043602388352155685, 0.00687485933303833, -0.0007844101637601852, -6.311346078291535e-05, -0.03619106486439705, -0.0020906333811581135, -0.00911087915301323, 0.020683184266090393, -0.010215364396572113, 0.012739903293550014, -0.013930043205618858, 0.02477654255926609, -0.00021103564358782023, -0.007203951012343168, 6.399395351763815e-05, -0.009259646758437157, 0.010179299861192703, -0.0324583537876606, 0.013479232788085938, 0.007614188361912966, -0.05478248745203018, -0.03335997462272644, 0.012379255145788193, 0.009034241549670696, 0.02421753667294979, 0.020701216533780098, 0.02118809148669243, 0.022450361400842667, 0.005720784422010183, 0.02977152168750763, 0.017374234274029732, 0.0067892055958509445, 0.005472838878631592, -0.020196307450532913, -0.03563205897808075, -0.00875924713909626, -0.016878344118595123, -0.004174504894763231, -0.004312002100050449, 0.01909632980823517, -0.01741029880940914, 0.02630929835140705, 0.019420914351940155, -0.01902420073747635, 0.007240016013383865, 0.01958320662379265, -0.026742076501250267, 0.00975553784519434, -0.011053872294723988, -0.017338169738650322, -0.018537325784564018, -0.041438497602939606, 0.009701441042125225, 0.039382800459861755, 0.028671544045209885, 0.02659781649708748, 0.014092334546148777, -0.005170796066522598, -0.03655171021819115, 0.01940288208425045, -0.018402082845568657, 0.009277679026126862, -0.005463822744786739, 0.022847073152661324, -0.009467019699513912, -0.0029415381141006947, -0.04540563002228737, 0.02935677580535412, 0.016878344118595123, -0.0024321223609149456, -0.010891580954194069, 0.009971926920115948, 0.0034780027344822884, 0.010539948008954525, -0.0328189991414547, 0.013966107740998268, 0.009313743561506271, -0.010332575999200344, 0.025047028437256813, -0.032999325543642044, -0.011089936830103397, 0.0008768263505771756, -0.013010389171540737, 0.02156677283346653, -0.005653162952512503, 0.017058666795492172, -0.014543144963681698, 0.0009838937548920512, -0.018591422587633133, 0.0006424048915505409, -0.03530747443437576, -0.008980143815279007, 0.026724044233560562, -0.0023599928244948387, 0.00806049071252346, -0.005896600894629955, -0.01661687344312668, -0.012541546486318111, 0.010062089189887047, -0.030474785715341568, -0.004406671971082687, 0.02331591583788395, -0.003888240084052086, 0.05103174224495888, 0.01633737049996853, -0.03417143225669861, -0.02712075598537922, 0.02959119714796543, -0.043602388352155685, 0.005626114550977945, 0.011351407505571842, -0.02488473616540432, 0.02648962289094925, -0.019168460741639137, -0.01591360941529274, -0.006144546438008547, 0.005544968415051699, 0.006676502991467714, 0.015174279920756817, -0.004643347579985857, 0.0028085492085665464, -0.0014031475875526667, -0.005143747199326754, -0.0061174980364739895, 0.01154976338148117, 0.061021704226732254, 0.007875658571720123, -0.05326776206493378, -0.028797771781682968, -0.01156779658049345, 0.031123952940106392, 0.017861109226942062, 0.017121780663728714, -0.024469992145895958, -0.044828590005636215, -0.009394889697432518, -0.03491076081991196, -0.006442081183195114, -0.050130121409893036, 0.010648142546415329, -0.036840230226516724, -0.020773345604538918, -0.019745497032999992, -0.013028422370553017, -0.015255426056683064, -0.0032931703608483076, 0.011270261369645596, -0.03873363509774208, 0.04493678733706474, 0.004397655837237835, -0.013930043205618858, 0.0055224280804395676, 0.003940083552151918, -0.02003401704132557, 0.021133994683623314, -0.04731706529855728, -0.03651564568281174, -0.06852319091558456, -0.023640500381588936, -0.011423536576330662, -0.019276654347777367, -0.010179299861192703, -0.004032499622553587, 0.019745497032999992, -0.01246040128171444, 0.027283048257231712, 0.024506056681275368, -0.0012273314641788602, 0.010098153725266457, 0.0033359972294420004, -0.030907563865184784, -0.03473043814301491, 0.054457902908325195, 0.057811930775642395, -0.01755455881357193, -0.00623020064085722, 0.029897749423980713, -0.0001415826554875821, -0.013848897069692612, 0.006013811565935612, 0.000311904470436275, -0.0034171431325376034, -0.03280096873641014, -0.019637303426861763, -0.01636441983282566, 0.026219135150313377, -0.0028355978429317474, -0.01951107569038868, -0.02425360307097435, -0.00691994046792388, 0.006527735386043787, -0.023568371310830116, 0.00207147398032248, -0.004411180038005114, -0.03559599444270134, 0.02932071126997471, -0.014317739754915237, 0.009313743561506271, 0.00161390146240592, 0.008299420587718487, -0.012730887159705162, -0.0184651967138052, 0.04497285187244415, 0.0041722506284713745, -0.010476835072040558, -0.025642098858952522, 0.018402082845568657, 0.02160283736884594, 0.025101125240325928, -0.016625888645648956, -0.00869162566959858, 0.018329953774809837, -0.036389417946338654, 0.027138788253068924, -0.0020286471117287874, 0.0005683029303327203, -0.035018954426050186, -0.0016432041302323341, -0.02059302106499672, 0.0221979059278965, -0.013325956650078297, -0.0002503406722098589, -0.030240364372730255, 0.0016499662306159735, -0.00830843672156334, 0.01787012629210949, 0.007943280041217804, 0.02708469144999981, -0.004656871780753136, -0.0012656503822654486, -0.04003196954727173, 0.023406079038977623, -0.009128911420702934, 0.0326567105948925, -0.0406811349093914, 0.016526710242033005, -0.018717650324106216, 0.007483453489840031, 0.001636441913433373, -0.02227003686130047, 0.001154074794612825, -0.017770947888493538, 0.007767464034259319, 0.006739616394042969, 0.03667793795466423, 0.0077178748324513435, -0.0028243274427950382, -0.005905617028474808, 0.008064999245107174, -0.029014160856604576, 0.003780045546591282, 0.01667998731136322, 0.02055695652961731, -0.03088953159749508, -0.002628224901854992, 0.021656934171915054, 0.00023892954050097615, -0.017329154536128044, 0.02582242339849472, -0.010864531621336937, -0.03029446303844452, 0.006608881056308746, 0.0010701112914830446, 0.012604660354554653, 0.026651913300156593, 0.009286695159971714, -0.06989365071058273, -0.017112765461206436, 0.017229976132512093, 0.0013648286694660783, 0.020737281069159508, 0.004787607118487358, 0.00020483699336182326, 0.013542345724999905, 0.009647343307733536, -0.007681810297071934, -0.02712075598537922, -0.02659781649708748, -0.0067215836606919765, -0.0006970656686462462, -0.0007849736721254885, -0.008876457810401917, 0.018555358052253723, -0.005040060728788376, -0.006040859967470169, -0.0003079598827753216, 0.03873363509774208, -0.002524538431316614, -0.026507655158638954, 0.04288109019398689, 0.0028829327784478664, -0.012072703801095486, 0.011820250190794468, -0.017491444945335388, -0.03308948874473572, 0.005396201275289059, 0.014218561351299286, 0.047028545290231705, 0.00019863835768774152, -0.023297883570194244, 0.04129423573613167, -0.025317514315247536, 0.003942337352782488, 0.0014177989214658737, -0.020430728793144226, -0.028419090434908867, -0.04075326398015022, -0.013884961605072021, 0.001855085021816194, -0.023460175842046738, -0.005441281944513321, 0.002050060546025634, 0.02585848793387413, 0.0010391180403530598, -0.0028874408453702927, 0.019655335694551468, -0.002366754924878478, -0.02593061700463295, 0.031069856137037277, 0.013343988917768002, -0.014489048160612583, 0.0033698081970214844, 0.04197946935892105, -0.00036008484312333167, -0.016589824110269547, -0.02003401704132557, 0.017843076959252357, -0.011089936830103397, 0.032440319657325745, 0.02962726354598999, 0.040464747697114944, -0.03647958114743233, 0.04353025555610657, -0.0006491670501418412, -0.021909387782216072, 0.05359234660863876, 0.0036109916400164366, -0.019673367962241173, -0.0388057641685009, 0.031123952940106392, 0.003574926871806383, 0.005599065683782101, 0.04753345251083374, -0.017572591081261635, 0.019348785281181335, 0.02048482745885849, -0.044395811855793, -0.012433351948857307, 0.03440585359930992, -0.0019598985090851784, 0.0227569118142128, -0.008894490078091621, 0.022991333156824112, 0.024307699874043465, 0.004073072224855423, 0.004481055773794651, 0.01608491688966751, -0.029374809935688972, 0.03678613156080246, -0.012559578754007816, -0.03202557563781738, 0.012649741023778915, 0.000413900357671082, -0.021837258711457253, -0.014930842444300652, 0.013930043205618858, 0.03909428417682648, -0.0054322658106684685, 0.030655110254883766, -0.009737505577504635, -0.01741931587457657, 0.004113645292818546, 0.010918629355728626, -0.01850126124918461, 0.005526936147361994, 0.035055018961429596, -0.013127600774168968, -0.00314891105517745, 0.02436179667711258, -0.006473638117313385, 0.024091310799121857, -0.003978402353823185, 0.002312657656148076, 0.03211573511362076, 0.00623020064085722, -0.006748632527887821, -0.025209320709109306, -0.024632282555103302, 0.020358599722385406, 0.04342206194996834, -0.015011987648904324, 0.010702240280807018, 0.0075014857575297356, -0.0018866417231038213, -0.01601278781890869, 0.030546916648745537, 0.009665376506745815, 0.010404705069959164, 0.000318103120662272, 0.004508104640990496, 0.024830639362335205, 0.003063257085159421, 0.004059548024088144, 0.0005519610713236034, 0.022252004593610764, -0.026669945567846298, 0.024379828944802284, 0.02872564271092415, -0.016355402767658234, 0.009728489443659782, -0.007388783153146505, 0.0018032417865470052, 0.02585848793387413, 0.009566198103129864, -0.007776480168104172, 0.020791377872228622, -0.005206860601902008, 0.030204299837350845, 0.027896150946617126, -0.027265015989542007, 0.031340342015028, 0.015516895800828934, -0.013425135053694248, -0.029266614466905594, -0.014921826310455799, 0.01933075301349163, 0.0053240712732076645, -0.030420688912272453, -0.02279297634959221, 0.008168685249984264, 0.0040167211554944515, -0.02302739769220352, -0.016184095293283463, -0.01111698616296053, -0.03162886202335358, 0.005729801021516323, 0.030691174790263176, -0.00019314410747028887, 0.012397287413477898, -0.016463598236441612, 0.03381078317761421, -0.00503555266186595, -0.014840680174529552, 0.015390668995678425, 0.031051823869347572, 0.0060093034990131855, -0.009845700114965439, -0.026471590623259544, 0.021783161908388138, 0.009854716248810291, 0.013677588663995266, -0.0005714022554457188, -0.0004217895329929888, 0.004963423125445843, 0.01895207166671753, 0.00040347536560148, -0.00833999365568161, -0.03963525593280792, -0.005342104006558657, -0.017491444945335388, -0.016202127560973167, 0.007817053236067295, -0.025119157508015633, 0.021512674167752266, -0.012307125143706799, 0.027517469599843025, -0.0221979059278965, -0.006910924334079027, 0.008258847519755363, -0.024488024413585663, -0.03747136518359184, 0.008596954867243767, -0.047100674360990524, 0.00764123722910881, 0.015480831265449524, 0.031250178813934326, -0.0025944141671061516, -0.0038296347483992577, 0.01246040128171444, 0.00029330854886211455]\n"
     ]
    }
   ],
   "source": [
    "documents = [\n",
    "    \"인공지능은 컴퓨터 과학의 한 분야입니다.\",\n",
    "    \"머신러닝은 인공지능의 하위 분야입니다.\",\n",
    "    \"딥러닝은 머신러닝의 한 종류입니다.\",\n",
    "    \"자연어 처리는 컴퓨터가 인간의 언어를 이해하고 생성하는 기술입니다.\",\n",
    "    \"컴퓨터 비전은 컴퓨터가 디지털 이미지나 비디오를 이해하는 방법을 연구합니다.\"\n",
    "]\n",
    "\n",
    "document_embeddings = embeddings_model.embed_documents(documents)\n",
    "\n",
    "print(f\"임베딩 벡터의 개수 : {len(document_embeddings)}\")\n",
    "print(f\"임베딩 벡터의 차원 : {len(document_embeddings[0])}\")\n",
    "print(document_embeddings[0])"
   ]
  },
  {
   "cell_type": "code",
   "execution_count": 37,
   "id": "08e2b3f8",
   "metadata": {},
   "outputs": [
    {
     "name": "stdout",
     "output_type": "stream",
     "text": [
      "임베딩 벡터의 차원 : 1536\n"
     ]
    }
   ],
   "source": [
    "embedded_query = embeddings_model.embed_query(\"인공지능이란 무엇인가?\")\n",
    "\n",
    "print(f\"임베딩 벡터의 차원 : {len(embedded_query)}\")"
   ]
  },
  {
   "cell_type": "markdown",
   "id": "41377615",
   "metadata": {},
   "source": [
    "임베딩한 다큐먼트 리스트와 쿼리를 유사도 비교해서 벡터 db에서 쿼리에 연관된 내용을 찾는 과정을 직접 구현해보는 실습"
   ]
  },
  {
   "cell_type": "code",
   "execution_count": null,
   "id": "4d0b7261",
   "metadata": {},
   "outputs": [
    {
     "name": "stdout",
     "output_type": "stream",
     "text": [
      "질문 : 인공지능이란 무엇인가요?\n",
      "가장 유사한 문서 : 인공지능은 컴퓨터 과학의 한 분야입니다.\n",
      "유사도 0.7117\n",
      "==================================================\n",
      "질문 : 딥러닝과 머신러닝의 관계는 어떻게 되나요?\n",
      "가장 유사한 문서 : 딥러닝은 머신러닝의 한 종류입니다.\n",
      "유사도 0.6815\n",
      "==================================================\n",
      "질문 : 컴퓨타가 이미지를 이해하는 방법은?\n",
      "가장 유사한 문서 : 컴퓨터 비전은 컴퓨터가 디지털 이미지나 비디오를 이해하는 방법을 연구합니다.\n",
      "유사도 0.5782\n",
      "==================================================\n"
     ]
    }
   ],
   "source": [
    "from langchain_community.utils.math import cosine_similarity\n",
    "import numpy as np\n",
    "\n",
    "def find_most_similar(query, documents, document_embeddings):\n",
    "    query_embedding = embeddings_model.embed_query(query)\n",
    "    similarities = cosine_similarity([query_embedding],document_embeddings)[0] #쿼리와 문서들간의 유사도 값 리스트\n",
    "    most_similar_idx = np.argmax(similarities) # 유사도가 가장 높은 문서의 인덱스를 반환\n",
    "    \n",
    "    return documents[most_similar_idx], similarities[most_similar_idx]\n",
    "\n",
    "queries = [\n",
    "    \"인공지능이란 무엇인가요?\",\n",
    "    \"딥러닝과 머신러닝의 관계는 어떻게 되나요?\",\n",
    "    \"컴퓨터가 이미지를 이해하는 방법은?\"\n",
    "]\n",
    "\n",
    "for query in queries:\n",
    "    most_similar_doc, similarity = find_most_similar(query, documents, document_embeddings)\n",
    "    print(f\"질문 : {query}\")\n",
    "    print(f\"가장 유사한 문서 : {most_similar_doc}\")\n",
    "    print(f\"유사도 {similarity:.4f}\")\n",
    "    print(\"=\"*50)"
   ]
  },
  {
   "cell_type": "markdown",
   "id": "0a333090",
   "metadata": {},
   "source": [
    "### Huggingface 임베딩 모델 사용하기 \n",
    "\n",
    "이제까지 OpenAI 임베딩 모델을 사용해서 임베딩을 했는데, 단점이 요금이 나간다는 점.\n",
    "Huggingface 에서 임베딩 하는 모델? 방식을 선택할 수 있다."
   ]
  },
  {
   "cell_type": "code",
   "execution_count": 40,
   "id": "400d8ae1",
   "metadata": {},
   "outputs": [
    {
     "data": {
      "text/plain": [
       "HuggingFaceEmbeddings(client=SentenceTransformer(\n",
       "  (0): Transformer({'max_seq_length': 8192, 'do_lower_case': False}) with Transformer model: XLMRobertaModel \n",
       "  (1): Pooling({'word_embedding_dimension': 1024, 'pooling_mode_cls_token': True, 'pooling_mode_mean_tokens': False, 'pooling_mode_max_tokens': False, 'pooling_mode_mean_sqrt_len_tokens': False, 'pooling_mode_weightedmean_tokens': False, 'pooling_mode_lasttoken': False, 'include_prompt': True})\n",
       "  (2): Normalize()\n",
       "), model_name='BAAI/bge-m3', cache_folder=None, model_kwargs={}, encode_kwargs={}, multi_process=False, show_progress=False)"
      ]
     },
     "execution_count": 40,
     "metadata": {},
     "output_type": "execute_result"
    }
   ],
   "source": [
    "from langchain_huggingface.embeddings import HuggingFaceEmbeddings\n",
    "\n",
    "embeddings_model = HuggingFaceEmbeddings(model_name = \"BAAI/bge-m3\")\n",
    "\n",
    "embeddings_model"
   ]
  },
  {
   "cell_type": "code",
   "execution_count": 41,
   "id": "d3baa284",
   "metadata": {},
   "outputs": [
    {
     "name": "stdout",
     "output_type": "stream",
     "text": [
      "임베딩 벡터의 개수 : 5\n",
      "임베딩 벡터의 차원 : 1024\n",
      "[-0.03941445052623749, 0.008764848113059998, -0.01268161553889513, 0.002453206107020378, -0.008944757282733917, -0.0073837218806147575, -0.005377359688282013, -0.009055864997208118, 0.03291522338986397, 0.0060455072671175, -0.027012888342142105, -0.027740875259041786, 0.00044411991257220507, 0.030136585235595703, 0.017242854461073875, 0.01709028333425522, 0.025524919852614403, -0.021856073290109634, -0.011341292411088943, -0.05702261999249458, -0.0003017137059941888, 0.013543128035962582, -0.00745010282844305, 0.01857445389032364, 0.0028946553356945515, 0.008630653843283653, -0.0007444894872605801, -0.028904108330607414, 0.02072780393064022, -0.02050059288740158, 0.00806991383433342, -0.026754198595881462, 0.003963088616728783, -0.01630389876663685, -0.07406219840049744, -0.033650368452072144, -0.023871466517448425, -0.034550052136182785, -0.034785956144332886, 0.005482987500727177, -0.0500335693359375, -0.0028035668656229973, -0.023146886378526688, -0.0749114379286766, -0.011434338986873627, -0.028992658481001854, -0.034183014184236526, -0.02552468702197075, -0.06156915798783302, 0.01355795469135046, 0.024401184171438217, -0.03127624839544296, 0.05056966468691826, 0.01297259982675314, -0.06420670449733734, 0.02719489298760891, 0.006821519695222378, 0.01040553580969572, -0.06427163630723953, -0.01602821797132492, -0.020655397325754166, 0.03011762723326683, -0.006331697106361389, -0.013117467984557152, -0.0005491788615472615, 0.04695945605635643, 0.007765491958707571, 0.02975654974579811, -0.034744080156087875, -0.03635729104280472, 0.02141391858458519, 0.017580494284629822, -0.033522170037031174, 0.013690433464944363, -0.052323490381240845, 0.0484783798456192, -0.013382785953581333, -0.01721262000501156, -0.03435642272233963, 0.021087003871798515, -0.02280254475772381, -0.006211874540895224, -0.012333830818533897, -0.04589996486902237, -0.043625324964523315, -0.033220961689949036, -0.03090287744998932, 0.06267786771059036, -0.013041095808148384, 0.0030605620704591274, -0.0340210497379303, -0.011811473406851292, 0.06983616203069687, -0.06787191331386566, -0.041217122226953506, -0.0454251766204834, -0.05954749882221222, 0.026572149246931076, 0.021793361753225327, 0.016649406403303146, -0.004795452114194632, 0.05578603595495224, 0.005842223763465881, -0.004925691522657871, 0.005203359294682741, 0.012360346503555775, 0.015873588621616364, 0.01367831788957119, -0.0043206121772527695, -0.01677749492228031, 0.024673426523804665, 0.07882759720087051, -0.0033149532973766327, 0.02773304283618927, -0.01484991516917944, -0.036296527832746506, -0.007080220151692629, -0.005244876723736525, 0.031237956136465073, 0.028104552999138832, 0.021445205435156822, 0.026932429522275925, -0.018261343240737915, -0.03545693680644035, 0.025494327768683434, -0.014402574859559536, 0.043160952627658844, -0.0065125953406095505, -0.0023869096767157316, -0.02542489394545555, 0.0072542778216302395, 0.0016669394681230187, -0.06067398190498352, 0.002136952942237258, -0.0793343335390091, -0.03168250620365143, -0.026456240564584732, -0.03457324951887131, 0.0011898735538125038, -0.026784759014844894, 0.03188098967075348, 0.008707314729690552, -0.034499384462833405, -0.02601381205022335, 0.028248101472854614, 0.02884906902909279, 0.011804240755736828, 0.006611349061131477, -0.04028214141726494, 0.006594954524189234, -0.04195798933506012, 0.0018759315134957433, -0.016849229112267494, -0.0003243584942538291, 0.008593757636845112, 0.05727248638868332, 0.03451273962855339, 0.018291309475898743, -0.03627154603600502, 0.019243353977799416, -0.011026408523321152, -0.051076490432024, -0.011925905011594296, 0.03441395238041878, 0.02501545660197735, 0.005875391885638237, 0.002253934508189559, 0.05663304403424263, -0.02504449151456356, -0.051671940833330154, -0.04070146754384041, -0.0038236903492361307, -0.08939449489116669, 0.013491159304976463, 0.03287690505385399, 0.020798636600375175, 0.04125238209962845, 0.03118397481739521, 0.010359593667089939, -0.03293048217892647, -0.02438637614250183, -0.015635890886187553, -0.017844397574663162, 0.016319524496793747, -0.0033740142825990915, -0.008289546705782413, 0.007997727952897549, 0.017579950392246246, 0.005814952775835991, -0.0015096361748874187, 0.033619582653045654, -0.023578904569149017, 0.018168527632951736, -0.01330758910626173, -0.010974681936204433, -0.06073543801903725, 0.035313572734594345, 0.03325321152806282, 0.0035984297282993793, -0.00952876266092062, -0.03346243128180504, 0.026455912739038467, 0.004845170769840479, -0.005232802592217922, -0.028605099767446518, 0.035237569361925125, -0.0023234442342072725, -0.03342469781637192, 0.020695991814136505, -0.016646746546030045, 0.050313934683799744, 0.005382917821407318, 0.006805296055972576, -0.04224148765206337, -0.050436802208423615, -0.023666486144065857, -0.0003812862851191312, 0.017486944794654846, -0.021624553948640823, -0.0511527955532074, -0.005384465213865042, -0.007931957952678204, 0.012596579268574715, 0.040384430438280106, 0.023643091320991516, 0.011450348421931267, -0.012604239396750927, -0.024017591029405594, 0.05937512218952179, 0.02274705469608307, -0.014662839472293854, 0.028443580493330956, 0.0028610816225409508, -0.027433879673480988, 0.0026598251424729824, -0.012619069777429104, -0.01932603120803833, 0.0012929788790643215, 0.024065805599093437, 0.005560114048421383, 0.00046924938214942813, -0.012332884594798088, 0.008361480198800564, 0.007104378193616867, -0.014163916930556297, -0.025789659470319748, -0.009067066945135593, 0.011334900744259357, -0.03867325931787491, 0.012458669021725655, -0.014846699312329292, -0.05338018015027046, 0.0007011149427853525, -0.037628211081027985, 0.024404335767030716, -0.022411521524190903, -0.0031276154331862926, 0.005926228128373623, 0.02924339845776558, 0.01287229172885418, -0.025251511484384537, -0.017893923446536064, -0.032658834010362625, 0.01578877680003643, 0.036837607622146606, -0.019260186702013016, 0.004153445363044739, -0.008615180850028992, 0.02560017630457878, 0.03141622245311737, 0.013882146216928959, 0.016615988686680794, 0.02648591250181198, 0.016514712944626808, 0.037105534225702286, 0.01717045158147812, 0.016321688890457153, -0.022120626643300056, 0.027622010558843613, 0.02409966289997101, -0.02487592212855816, -0.034905221313238144, 0.010859489440917969, 0.037536170333623886, 0.032445091754198074, -0.0029510187450796366, -0.021300766617059708, -0.0008491594926454127, -0.049433041363954544, -0.0502716526389122, -0.055717527866363525, -0.035786330699920654, 0.0516539067029953, -0.0265003964304924, -0.02994459494948387, 0.04084897041320801, -0.002776476787403226, -0.15416252613067627, 0.052873287349939346, -0.04403994232416153, 0.024527763947844505, 0.0007717610569670796, -0.023125799372792244, 0.02821776270866394, 0.020606141537427902, -0.06491450220346451, 0.05870119482278824, -0.015259644016623497, -0.05291959270834923, -0.026743700727820396, -0.01604013890028, 0.03513459488749504, 0.03692731261253357, 0.01824101246893406, -0.00014413133612833917, -0.02538212761282921, -0.0042935931123793125, -0.04096035659313202, -0.05058600381016731, 0.01501425914466381, -0.03581550344824791, 0.029789935797452927, -0.0450902096927166, -0.020970871672034264, -0.023698925971984863, -0.02904968522489071, -0.0343937985599041, -0.018698493018746376, -0.009413955733180046, -0.021368445828557014, 0.041909877210855484, 0.02259029820561409, 0.008137853816151619, 0.0034019192680716515, -0.0349729098379612, 0.05352339893579483, 0.006330618169158697, -0.009400810115039349, 0.034035295248031616, 0.013987434096634388, 0.005095578730106354, -0.0004018498002551496, -0.02248120680451393, 0.038704436272382736, 0.0006443642778322101, -0.013815921731293201, 0.009313303977251053, -0.02437048777937889, -0.05039580166339874, 0.04627165198326111, -0.021217262372374535, -0.03346460312604904, 0.006026161834597588, 0.010226252488791943, 0.06932579725980759, 0.02263225056231022, 0.01256889570504427, -0.04025674983859062, -0.034716781228780746, 0.019841725006699562, 0.01483395416289568, 0.013841369189321995, -0.04672090709209442, 0.055473294109106064, 0.011165871284902096, 0.021457156166434288, -0.022262319922447205, 0.0364818274974823, -0.0014091739431023598, 0.05106925591826439, -0.01689680479466915, -0.0002580969885457307, 0.049261536449193954, 0.007794075645506382, -0.07784523814916611, -0.051600441336631775, -0.08172133564949036, 0.0001815612631617114, -0.0027508637867867947, -0.00911609549075365, -0.004651397932320833, -0.04209818318486214, -0.0022109639830887318, -0.010076198726892471, -0.027880771085619926, 0.05060306191444397, 0.20528994500637054, 0.02644439786672592, -0.00022551258734893054, -0.026649249717593193, 0.03717314079403877, -0.00884224008768797, -0.014338335022330284, -0.019308755174279213, 0.017481058835983276, -0.010157187469303608, 0.00998526532202959, -0.02210446074604988, -0.0012158019235357642, 0.006270232610404491, 0.013725214637815952, 0.02520187385380268, -0.0338592529296875, -0.0011371580185368657, 0.08596235513687134, 0.02185939997434616, -0.007644908502697945, -0.0030849771574139595, 0.04453148692846298, -0.001303709577769041, -0.028895698487758636, -0.02633531019091606, 0.0028093711007386446, 0.010797255672514439, -0.01945134624838829, -0.036453668028116226, 0.005088219419121742, 0.02991410158574581, -0.010681968182325363, 0.00668497197329998, 0.02388142980635166, 0.017712926492094994, 0.0014703982742503285, -0.01895172894001007, 0.009166152216494083, 0.007664768490940332, -0.020509911701083183, -0.015714965760707855, -0.001461324281990528, 0.007429524324834347, 0.009566866792738438, 0.010711194016039371, 0.006898301653563976, -0.009391158819198608, -0.019545521587133408, -0.035453129559755325, -0.06176724657416344, -0.022272849455475807, -0.0431184396147728, 0.018352795392274857, -0.002340212929993868, -0.004222696181386709, -0.043274860829114914, 0.025858143344521523, 0.017618432641029358, 0.008789444342255592, 0.03943892940878868, 0.00882461667060852, 0.033270299434661865, 0.02598056010901928, -0.009331374429166317, -0.005429025739431381, -0.03740306571125984, -0.05824077129364014, 0.058875735849142075, -0.003742871107533574, 0.013187007047235966, 0.014792914502322674, -0.04668256267905235, -0.022107357159256935, 0.006471659522503614, 0.003505814354866743, 0.03154466673731804, 0.026691237464547157, 0.02857639454305172, 0.028033770620822906, -0.029319938272237778, 0.010856660082936287, -0.027783192694187164, 0.03786864131689072, 0.007742194924503565, -0.0514553040266037, -0.014120903797447681, 0.05561647564172745, 0.017498530447483063, -0.024795711040496826, 0.013818337582051754, 0.008258553221821785, -0.009095114655792713, 0.044248390942811966, -0.01329843606799841, 0.022851206362247467, 0.007554680574685335, -0.005556196440011263, -0.02685144916176796, 0.04283802583813667, -0.030624551698565483, -0.043705523014068604, -0.009680411778390408, -0.006718836259096861, 0.016627758741378784, 0.020827841013669968, 0.020590966567397118, 0.05548373982310295, 0.009113775566220284, 0.04802144318819046, 0.002895117737352848, 0.026987796649336815, -0.051990218460559845, -0.04606880247592926, 0.014079599641263485, -0.010256743058562279, 0.02094566822052002, 0.020687086507678032, 0.006968574598431587, 0.014875837601721287, -0.03136388584971428, 0.0012487262720242143, 0.01880241185426712, 0.03199198469519615, 0.00028788161580450833, -0.027227697893977165, 0.04708467423915863, 0.033834058791399, -0.015769002959132195, 0.019647110253572464, 0.060615766793489456, 0.0018481869483366609, 0.004004715010523796, 0.04876017943024635, 0.022826777771115303, 0.014284435659646988, -0.014066212810575962, 0.021967392414808273, 0.05986209958791733, 0.0002834529441315681, 0.01490861363708973, 0.007023236248642206, 0.024416398257017136, 0.008015756495296955, 0.01087257917970419, 0.001623623538762331, -0.013646877370774746, 0.04847606271505356, -0.023516252636909485, -0.006223450414836407, 0.0007701823487877846, -0.02226422168314457, 0.058263808488845825, -0.0425332710146904, -0.008776901289820671, -0.029511017724871635, -0.021039290353655815, -0.005618670489639044, 0.03724319487810135, -0.022321170195937157, 0.02959318459033966, 0.022220907732844353, 0.06000766530632973, 0.05433725193142891, -0.013108964078128338, 0.04675421863794327, -0.00401958217844367, -0.020036820322275162, -0.009979183785617352, -0.052365098148584366, 0.012971536256372929, -0.02396402135491371, -0.04701244458556175, 0.017680251970887184, -0.06316707283258438, -0.012216208502650261, -0.051538754254579544, 0.01671617664396763, 0.002896486083045602, 0.0023543699644505978, 0.04698430374264717, 0.00523611344397068, 0.028605902567505836, 0.01803353615105152, 0.002688364591449499, 0.012599187903106213, 0.04312582686543465, -0.012468741275370121, 0.016190819442272186, -0.03503527119755745, -0.013990488834679127, 0.0850161612033844, -0.0006753899506293237, -0.03510754927992821, 0.018908224999904633, -0.04388415068387985, 0.018178407102823257, -0.014595218934118748, 0.05074280872941017, -0.01459877286106348, -0.01224845927208662, -0.05382172390818596, 0.00917732436209917, -0.013291004113852978, -0.026121504604816437, 0.019020941108465195, -0.009157782420516014, 0.015958424657583237, -0.012059297412633896, 0.023945920169353485, 0.010822105221450329, 0.0012781597906723619, -0.04741375893354416, 0.028183521702885628, -0.03028205968439579, 0.03450252115726471, -0.03545202687382698, 0.010610704310238361, 0.02175796777009964, -0.07106901705265045, -0.011429186910390854, -0.0007577657816000283, 0.0009730145684443414, -0.06687965244054794, 0.0017512959893792868, 0.030838053673505783, -0.013645228929817677, -0.020122958347201347, -0.019696658477187157, 0.04643265902996063, -0.004844081588089466, -0.08160027861595154, 0.040443047881126404, 0.004950438626110554, 0.03106473572552204, 0.005250941030681133, -0.006103127263486385, 0.014033702202141285, -0.021181907504796982, -0.019575361162424088, 0.025881540030241013, -0.026794644072651863, 0.06484147161245346, 0.017436444759368896, 0.02530406229197979, 0.012567217461764812, 0.006157862953841686, -0.015259120613336563, -0.0029800529591739178, 0.004574266728013754, -0.011685431934893131, -0.04778236150741577, 0.04852068051695824, 0.027301853522658348, 0.019908662885427475, -0.046112310141325, 0.049470845609903336, -0.015534117817878723, -0.02295883186161518, 0.007057528011500835, 0.011417149566113949, 0.028111224994063377, -0.0009655554313212633, 0.005214741453528404, 0.0058796824887394905, 0.0409088134765625, 0.04670417308807373, 0.013859489932656288, -0.04856492578983307, -0.03641865774989128, 0.030556630343198776, -0.0033170697279274464, -0.03998246416449547, -0.03232389688491821, 0.03208169713616371, -0.002212338149547577, -0.03743819147348404, 0.04703685641288757, 0.04756614938378334, -0.003721168963238597, -0.0048499442636966705, 0.054563842713832855, 0.008762187324464321, 0.014281686395406723, 0.013041425496339798, -0.005775482393801212, 0.011362412013113499, 0.005727213341742754, 0.028392244130373, -0.03743183985352516, 0.017423391342163086, 0.009146100841462612, -0.04311313480138779, 0.010060444474220276, -0.013028775341808796, 0.02631356380879879, -0.008787056431174278, 0.04881313070654869, -0.02394179254770279, -0.008417542092502117, -0.030199937522411346, -0.011565571650862694, -0.008227541111409664, -0.0007779707084409893, 0.036086179316043854, 0.019429702311754227, 0.01580188050866127, -0.06475582718849182, 0.0322716161608696, -0.01971476711332798, 0.012444691732525826, 0.0005196271231397986, 0.03724118322134018, 0.04861580580472946, -0.030769038945436478, -0.011096972040832043, 0.030283836647868156, -0.04953470081090927, 0.054928380995988846, -0.0020628164056688547, 0.04958369582891464, 0.0007331087836064398, -0.006119831465184689, -0.023130185902118683, 0.009980812668800354, 0.023883339017629623, -0.019458536058664322, -0.03200145438313484, 0.029113808646798134, -0.05370786041021347, -0.012846654281020164, 0.03300855681300163, -0.002457789843901992, 0.02562246471643448, 0.0028969887644052505, -0.016086380928754807, -0.01989271678030491, -0.03626823425292969, 0.05153731256723404, 0.02597828023135662, -0.023754622787237167, -0.0021327033173292875, 0.05663057416677475, -0.02122490480542183, 0.026157844811677933, -0.03065486066043377, -0.009088555350899696, -0.0013654757058247924, 0.007371808867901564, 0.014015519991517067, -0.038815684616565704, -0.00517585314810276, -0.020652448758482933, -0.0854281410574913, 0.03286979719996452, -0.021121669560670853, -0.0017047026194632053, -0.02385287545621395, 0.010193399153649807, 0.00315288407728076, -0.04626765102148056, 0.00437856325879693, 0.0127662792801857, 0.03188915550708771, -0.006445439998060465, 0.06173041835427284, 0.027293331921100616, -0.040185313671827316, 0.012747325003147125, -0.0434139110147953, -0.03434227406978607, 0.024028999730944633, 0.045110832899808884, -0.06422783434391022, -0.002670811954885721, 0.01576581783592701, -0.04633603245019913, 0.015471864491701126, -0.012263933196663857, 0.004063956439495087, 0.00287000578828156, -0.059097934514284134, -0.0497787669301033, -0.03188014775514603, 0.0042823865078389645, -0.04063795879483223, -0.010036937892436981, -0.02049512416124344, 0.04349435493350029, 0.00918308924883604, -0.021456951275467873, -0.036665648221969604, 0.03871417045593262, -0.0285770446062088, -0.12108999490737915, 0.011257986538112164, -0.021855873987078667, 0.038476478308439255, -0.020778898149728775, 0.026198500767350197, -0.005205582827329636, 0.007620614487677813, 0.023885339498519897, -0.06817088276147842, -0.010705300606787205, 0.0383872464299202, 0.020878417417407036, -0.013643725775182247, -0.0012990288669243455, 0.01889580488204956, -0.01062721200287342, 0.019094279035925865, 0.007302974816411734, 0.025121130049228668, -0.003089906182140112, 0.01935056410729885, 0.04545747861266136, -0.006982765160501003, 0.016584398224949837, -0.004083536099642515, 0.006178656592965126, 0.010033611208200455, -0.06160513684153557, 0.008099166676402092, 0.05615949630737305, -0.05707838386297226, 0.005859646014869213, 0.0026495291385799646, -0.052220381796360016, -0.0299502145498991, -0.04529864713549614, 0.004038611892610788, -0.027648000046610832, 0.03871120885014534, -0.03272446617484093, 0.027157515287399292, 0.03960347920656204, -0.011242413893342018, 0.015820488333702087, 0.08895587176084518, -0.03150158375501633, -0.016731765121221542, -0.014683903194963932, -0.02074112929403782, 0.029698267579078674, -0.026172680780291557, -0.012390865944325924, 0.05219876393675804, -0.01278004888445139, 0.016312677413225174, -0.05087518319487572, 0.009121483191847801, -0.00313637126237154, 0.07734204083681107, -0.04193482547998428, 0.0007514443132095039, -0.030584556981921196, 0.013006380759179592, -0.007410403341054916, 0.030986057594418526, -0.05732092633843422, -0.010988319292664528, -0.015135087072849274, 0.006888857111334801, 0.008642567321658134, 0.06573335081338882, 0.03371092304587364, -0.03401574864983559, 0.029345404356718063, 0.011673970147967339, 0.051056768745183945, 0.007065086159855127, 0.019810937345027924, -0.03461391478776932, 0.016095582395792007, 0.012484722770750523, -0.04676222428679466, -0.02751578949391842, 0.01037660799920559, -0.02294725365936756, -0.0341225266456604, -0.003230020636692643, -0.008177163079380989, -0.02337176911532879, -0.048484642058610916, -0.011113783344626427, -0.01951933465898037, -0.0038489040452986956, -0.04734348878264427, 0.013848778791725636, 0.0020971072372049093, 0.012429009191691875, -0.016072377562522888, -0.012233719229698181, -0.007150484714657068, -0.005227204877883196, 0.009924722835421562, -0.0023524079006165266, -0.020415889099240303, 0.03459920361638069, 0.0664309561252594, -0.010721628554165363, 0.05480988696217537, -0.03403067961335182, 0.009117666631937027, -0.014219526201486588, -0.05166011303663254, 0.039497654885053635, -0.002909444272518158, -0.012116190046072006, 0.01622280664741993, 0.06202355772256851, 0.01534039806574583, 0.032064445316791534, 0.046687863767147064, -0.026615308597683907, 0.0022645804565399885, -0.018055344000458717, 0.06148137152194977, 0.0034600934013724327, 0.000789506419096142, 0.0458180233836174, 0.04978005960583687, 4.842199814447667e-07, 0.015820657834410667, -0.028666410595178604, 0.0513312965631485, -0.019402440637350082, 0.0501457042992115, 0.001262991689145565, 0.0666620060801506, 0.032210998237133026, -0.07578133791685104, -0.02677566558122635, -0.022792527452111244, -0.013899172656238079, -0.0027472928632050753, -0.01722531020641327, -0.05203042924404144, -0.006385997869074345, 0.02829090878367424, -0.05922159552574158, -0.006042583379894495, -0.010329843498766422, -0.020534338429570198, -0.025234172120690346, 0.0064850132912397385, 0.05987747386097908, -0.06461494415998459, 0.039172276854515076, -0.03935927152633667, 0.01159712579101324, -0.0050013186410069466, -0.02177659049630165, 0.024796174839138985, -0.02105584554374218, -0.01434142142534256, 0.00503738084807992, -0.02690310776233673, -0.015666238963603973, -0.020005540922284126, -0.017518416047096252, -0.002119163516908884, 0.03180164471268654, 0.03315679728984833, 0.06110072135925293, -0.02178020402789116, -0.007200476247817278, 0.023457041010260582, 0.0045004175044596195, -0.03394908830523491, 0.030627720057964325, 0.05058339238166809, 0.019436292350292206, 0.0303652323782444, -0.008498151786625385, 0.03861614689230919, 0.024106768891215324, -0.029866786673665047, -0.022483771666884422, -0.029365161433815956, 0.05913860723376274, 0.02399420365691185, -0.05173459276556969, -0.02144564501941204, -0.00802871398627758, -0.045875344425439835, 0.01853395439684391, -0.012980912812054157, 0.062045540660619736, 0.025514403358101845, 0.03043605387210846, -0.013861718587577343, 0.01149920467287302, -0.0768980160355568, -0.01568572036921978, 0.031369224190711975, -0.010092422366142273, -0.004928586073219776, 0.005839566234499216, -0.05361056327819824, -0.0019884761422872543, -0.023305809125304222, -0.012968521565198898, 0.008794065564870834, 0.018897265195846558, 0.0008403917890973389, -0.0075892736203968525, 0.04887888953089714, -0.05043143406510353, 0.012651998549699783, -0.005049560219049454, -0.015551907941699028, 0.0036741825751960278, 0.002968963235616684, 0.007681547664105892, -0.026818852871656418, -0.010751387104392052, 0.013961038552224636, -0.031508371233940125, 0.010267532430589199, 0.05015924572944641, -0.03511187434196472, -0.000825826427899301, -0.028183406218886375, -0.02412126399576664, 0.0028528431430459023, 0.02042170614004135, -0.013471641577780247, -0.014262369833886623, 0.022602247074246407, 0.038974639028310776, -0.008240492083132267, -0.01573222689330578, 0.05449069291353226, 0.008341755717992783, 0.03494136035442352, -0.017748065292835236]\n"
     ]
    }
   ],
   "source": [
    "document_embeddings = embeddings_model.embed_documents(documents) # 문자열 리스트를, 허깅페이스 embedding_model 을 사용, 임베딩 진행\n",
    "\n",
    "print(f\"임베딩 벡터의 개수 : {len(document_embeddings)}\")\n",
    "print(f\"임베딩 벡터의 차원 : {len(document_embeddings[0])}\")\n",
    "print(document_embeddings[0])"
   ]
  },
  {
   "cell_type": "code",
   "execution_count": 42,
   "id": "fd718e5f",
   "metadata": {},
   "outputs": [
    {
     "name": "stdout",
     "output_type": "stream",
     "text": [
      "임베딩 벡터의 차원 : 1024\n"
     ]
    }
   ],
   "source": [
    "embedded_query = embeddings_model.embed_query(\"인공지능이란 무엇인가?\")\n",
    "\n",
    "print(f\"임베딩 벡터의 차원 : {len(embedded_query)}\")"
   ]
  },
  {
   "cell_type": "code",
   "execution_count": 43,
   "id": "4fb6ea19",
   "metadata": {},
   "outputs": [
    {
     "name": "stdout",
     "output_type": "stream",
     "text": [
      "질문 : 인공지능이란 무엇인가요?\n",
      "가장 유사한 문서 : 인공지능은 컴퓨터 과학의 한 분야입니다.\n",
      "유사도 0.7269\n",
      "==================================================\n",
      "질문 : 딥러닝과 머신러닝의 관계는 어떻게 되나요?\n",
      "가장 유사한 문서 : 딥러닝은 머신러닝의 한 종류입니다.\n",
      "유사도 0.7057\n",
      "==================================================\n",
      "질문 : 컴퓨터가 이미지를 이해하는 방법은?\n",
      "가장 유사한 문서 : 컴퓨터 비전은 컴퓨터가 디지털 이미지나 비디오를 이해하는 방법을 연구합니다.\n",
      "유사도 0.6843\n",
      "==================================================\n"
     ]
    }
   ],
   "source": [
    "from langchain_community.utils.math import cosine_similarity\n",
    "import numpy as np\n",
    "\n",
    "def find_most_similar(query, documents, document_embeddings):\n",
    "    query_embedding = embeddings_model.embed_query(query)\n",
    "    similarities = cosine_similarity([query_embedding],document_embeddings)[0] #쿼리와 문서들간의 유사도 값 리스트\n",
    "    most_similar_idx = np.argmax(similarities) # 유사도가 가장 높은 문서의 인덱스를 반환\n",
    "    \n",
    "    return documents[most_similar_idx], similarities[most_similar_idx]\n",
    "\n",
    "queries = [\n",
    "    \"인공지능이란 무엇인가요?\",\n",
    "    \"딥러닝과 머신러닝의 관계는 어떻게 되나요?\",\n",
    "    \"컴퓨터가 이미지를 이해하는 방법은?\"\n",
    "]\n",
    "\n",
    "for query in queries:\n",
    "    most_similar_doc, similarity = find_most_similar(query, documents, document_embeddings)\n",
    "    print(f\"질문 : {query}\")\n",
    "    print(f\"가장 유사한 문서 : {most_similar_doc}\")\n",
    "    print(f\"유사도 {similarity:.4f}\")\n",
    "    print(\"=\"*50)"
   ]
  },
  {
   "cell_type": "markdown",
   "id": "d7f92614",
   "metadata": {},
   "source": []
  }
 ],
 "metadata": {
  "kernelspec": {
   "display_name": "langchain-env-aZmMjlRy-py3.11",
   "language": "python",
   "name": "python3"
  },
  "language_info": {
   "codemirror_mode": {
    "name": "ipython",
    "version": 3
   },
   "file_extension": ".py",
   "mimetype": "text/x-python",
   "name": "python",
   "nbconvert_exporter": "python",
   "pygments_lexer": "ipython3",
   "version": "3.11.9"
  }
 },
 "nbformat": 4,
 "nbformat_minor": 5
}

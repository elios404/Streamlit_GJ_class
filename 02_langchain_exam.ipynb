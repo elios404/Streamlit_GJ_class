{
 "cells": [
  {
   "cell_type": "code",
   "execution_count": 1,
   "id": "d36a7998",
   "metadata": {},
   "outputs": [],
   "source": [
    "from dotenv import load_dotenv\n",
    "from glob import glob\n",
    "from pprint import pprint #json 형식 출력에 편리\n",
    "import os"
   ]
  },
  {
   "cell_type": "code",
   "execution_count": 2,
   "id": "ff651a55",
   "metadata": {},
   "outputs": [
    {
     "data": {
      "text/plain": [
       "True"
      ]
     },
     "execution_count": 2,
     "metadata": {},
     "output_type": "execute_result"
    }
   ],
   "source": [
    "load_dotenv()"
   ]
  },
  {
   "cell_type": "code",
   "execution_count": null,
   "id": "9304b625",
   "metadata": {},
   "outputs": [
    {
     "name": "stderr",
     "output_type": "stream",
     "text": [
      "Failed to send telemetry event ClientStartEvent: capture() takes 1 positional argument but 3 were given\n",
      "Failed to send telemetry event ClientCreateCollectionEvent: capture() takes 1 positional argument but 3 were given\n"
     ]
    },
    {
     "name": "stdout",
     "output_type": "stream",
     "text": [
      "벡터 저장소에 저장된 문서 수 : 14\n"
     ]
    }
   ],
   "source": [
    "# chroma_db 읽기, 임베딩 하기\n",
    "\n",
    "from langchain_chroma import Chroma\n",
    "from langchain_openai import OpenAIEmbeddings\n",
    "\n",
    "embeddings = OpenAIEmbeddings(\n",
    "    model='text-embedding-3-small' # 실제 프로젝트에서는 large 사용\n",
    ")\n",
    "\n",
    "# db를 읽기 위한 목적이라, texts를 따로 넣어주지 않음!\n",
    "vectorstore = Chroma(\n",
    "    # 왜 임베딩이 필요할까? : 의미론적인 의미에서 검색하기 위해서, 즉 유사도를 비교하기 위해서, 임베딩으로 벡터 차원 공간에 문서를 박아넣음\n",
    "    embedding_function=embeddings, \n",
    "    collection_name=\"chroma_test\",     \n",
    "    persist_directory='./chroma_db'\n",
    ")\n",
    "\n",
    "print(f\"벡터 저장소에 저장된 문서 수 : {vectorstore._collection.count()}\")"
   ]
  },
  {
   "cell_type": "markdown",
   "id": "9fce3c72",
   "metadata": {},
   "source": [
    "failed 라고 발생한 것은 원격에서 접속할 때 발생하는 문제, 로컬 db에서는 문제 없음"
   ]
  },
  {
   "cell_type": "markdown",
   "id": "ec970695",
   "metadata": {},
   "source": [
    "## Prompt + LLM"
   ]
  },
  {
   "cell_type": "code",
   "execution_count": null,
   "id": "2f571f6a",
   "metadata": {},
   "outputs": [
    {
     "name": "stdout",
     "output_type": "stream",
     "text": [
      "input_variables=['query'] messages=[SystemMessagePromptTemplate(prompt=PromptTemplate(input_variables=[], template='You are a helped assistant')), HumanMessagePromptTemplate(prompt=PromptTemplate(input_variables=['query'], template='{query}'))]\n"
     ]
    }
   ],
   "source": [
    "# Prompt + LLM\n",
    "# langchain에서 openAI를 부를 때 사용하는 방식\n",
    "\n",
    "from langchain_openai import ChatOpenAI\n",
    "from langchain_core.prompts import ChatPromptTemplate\n",
    "\n",
    "\n",
    "llm = ChatOpenAI( \n",
    "    model = 'gpt-4o-mini',\n",
    "    temperature = 0.3,\n",
    "    max_tokens = 100,\n",
    ")\n",
    "\n",
    "# langchain에서 메세지를 넣어주는 방법 [리스트 안 (튜플 형태로)]\n",
    "messages = [\n",
    "    (\"system\", \"You are a helped assistant\"),\n",
    "    (\"user\", \"{query}\")\n",
    "]\n",
    "\n",
    "# chatPromptTemplate으로 형식을 만들기\n",
    "prompt = ChatPromptTemplate.from_messages(messages=messages)\n",
    "print(prompt)"
   ]
  },
  {
   "cell_type": "code",
   "execution_count": 9,
   "id": "f3899566",
   "metadata": {},
   "outputs": [
    {
     "name": "stdout",
     "output_type": "stream",
     "text": [
      "System: You are a helped assistant\n",
      "Human: 테슬라 창업자는 누구인가요?\n"
     ]
    }
   ],
   "source": [
    "prompt_text = prompt.format(query = \"테슬라 창업자는 누구인가요?\") #template안에 {query} 부분에 내용 넣기\n",
    "\n",
    "print(prompt_text) #template이 어떻게 만들어졌는지 확인하기"
   ]
  },
  {
   "cell_type": "code",
   "execution_count": 10,
   "id": "6469f13b",
   "metadata": {},
   "outputs": [
    {
     "name": "stdout",
     "output_type": "stream",
     "text": [
      "테슬라의 창립자는 엘론 머스크(Elon Musk)입니다. 그러나 테슬라는 2003년에 마틴 에버하드(Martin Eberhard)와 마크 타페닝(Mark Tarpenning)에 의해 설립되었습니다. 이후 엘론 머스크가 2004년에 투자자로 참여하면서 CEO로 취임하게 되었고, 회사의 비전과 방향성을 이끌어왔습니다.\n"
     ]
    }
   ],
   "source": [
    "response = llm.invoke(prompt_text)\n",
    "\n",
    "print(response.content)"
   ]
  },
  {
   "cell_type": "markdown",
   "id": "ad675480",
   "metadata": {},
   "source": [
    "현재 결과는 chroma_db를 참고하지 않음"
   ]
  },
  {
   "cell_type": "markdown",
   "id": "53ea5ccd",
   "metadata": {},
   "source": [
    "**정말 중요한 LCEL**"
   ]
  },
  {
   "cell_type": "code",
   "execution_count": null,
   "id": "467a27a3",
   "metadata": {},
   "outputs": [],
   "source": [
    "# LCEL 체인을 구성 (정말 중요하다!!)\n",
    "# '|' 연산자로 둘을 체인으로 연결\n",
    "\n",
    "chain = prompt | llm"
   ]
  },
  {
   "cell_type": "code",
   "execution_count": 12,
   "id": "f8533d8f",
   "metadata": {},
   "outputs": [
    {
     "name": "stdout",
     "output_type": "stream",
     "text": [
      "테슬라의 창립자는 엘론 머스크(Elon Musk), 마틴 에버하드(Martin Eberhard), 마크 타페닝(Mark Tarpenning), 제프 스프링어(Jeffrey B. Straubel) 등 여러 명이 있습니다. 그러나 엘론 머스크는 2004년에 테슬라에 투자하고 CEO로 취임한 이후 회사의 얼굴이 되었으며, 그의 비전과 리더십으로 테\n"
     ]
    }
   ],
   "source": [
    "response =chain.invoke({\"query\" : \"테슬라 창업자는 누구인가요?\"})\n",
    "\n",
    "print(response.content)"
   ]
  },
  {
   "cell_type": "markdown",
   "id": "1fa5e3c1",
   "metadata": {},
   "source": [
    "혹은 입력 값이 1개 밖에 없다면 딕셔너리 형식 생략 가능"
   ]
  },
  {
   "cell_type": "code",
   "execution_count": 13,
   "id": "99485484",
   "metadata": {},
   "outputs": [
    {
     "name": "stdout",
     "output_type": "stream",
     "text": [
      "테슬라의 창립자는 엘론 머스크(Elon Musk), 마틴 에버하르드(Martin Eberhard), 마크 타페닝(Mark Tarpenning), 제프 스프레처(JB Straubel), 이안 라이트(Ian Wright) 등 여러 명이 있습니다. 하지만 엘론 머스크는 테슬라의 CEO로서 가장 잘 알려져 있으며, 회사의 성장과 발전에 큰 영향을 미쳤습니다. 테\n"
     ]
    }
   ],
   "source": [
    "response =chain.invoke(\"테슬라 창업자는 누구인가요?\")\n",
    "\n",
    "print(response.content)"
   ]
  },
  {
   "cell_type": "markdown",
   "id": "46ebde94",
   "metadata": {},
   "source": [
    "## Prompt + LLM + Output parser\n",
    "\n",
    "내가 원하는 방식으로 답변 형태를 뽑아내기"
   ]
  },
  {
   "cell_type": "markdown",
   "id": "fb3b2ab5",
   "metadata": {},
   "source": [
    "### 문자열 파서"
   ]
  },
  {
   "cell_type": "code",
   "execution_count": null,
   "id": "75af42ac",
   "metadata": {},
   "outputs": [
    {
     "data": {
      "text/plain": [
       "'테슬라의 창립자는 엘론 머스크(Elon Musk), 마틴 에버하르드(Martin Eberhard), 마크 타페닝(Mark Tarpenning), 제프 스프레처(JB Straubel), 이안 라이트(Ian Wright) 등 여러 명이 있습니다. 하지만 엘론 머스크는 테슬라의 CEO로서 가장 잘 알려져 있으며, 회사의 성장과 발전에 큰 영향을 미쳤습니다. 테'"
      ]
     },
     "execution_count": 14,
     "metadata": {},
     "output_type": "execute_result"
    }
   ],
   "source": [
    "# Parser 중에서 가장 많이 쓰이는 String parser\n",
    "from langchain_core.output_parsers import StrOutputParser\n",
    "\n",
    "# 출력 파서를 생성\n",
    "\n",
    "output_parser = StrOutputParser()\n",
    "output_parser.invoke(response) # 문자열 부분만 가져오기"
   ]
  },
  {
   "cell_type": "code",
   "execution_count": 15,
   "id": "77728ad7",
   "metadata": {},
   "outputs": [
    {
     "name": "stdout",
     "output_type": "stream",
     "text": [
      "리비안(Rivian)은 2009년에 설립되었습니다. 이 회사는 전기차를 개발하고 생산하는 데 주력하고 있으며, 특히 전기 픽업트럭과 SUV 모델로 주목받고 있습니다.\n"
     ]
    }
   ],
   "source": [
    "str_chain = prompt | llm | output_parser\n",
    "\n",
    "query = \"리비안의 설립년도는 언제인가요?\"\n",
    "str_response = str_chain.invoke(query)\n",
    "\n",
    "print(str_response)"
   ]
  },
  {
   "cell_type": "markdown",
   "id": "930cd2eb",
   "metadata": {},
   "source": [
    "### json parser"
   ]
  },
  {
   "cell_type": "code",
   "execution_count": null,
   "id": "39a33568",
   "metadata": {},
   "outputs": [
    {
     "name": "stdout",
     "output_type": "stream",
     "text": [
      "content='```json\\n{\\n  \"창업주\": {\\n    \"이름\": \"엘론 머스크\",\\n    \"출생연도\": 1971,\\n    \"국적\": \"남아프리카 공화국\",\\n    \"직업\": \"기업가, 발명가\"\\n  }\\n}\\n```' additional_kwargs={'refusal': None} response_metadata={'token_usage': {'completion_tokens': 65, 'prompt_tokens': 34, 'total_tokens': 99, 'completion_tokens_details': {'accepted_prediction_tokens': 0, 'audio_tokens': 0, 'reasoning_tokens': 0, 'rejected_prediction_tokens': 0}, 'prompt_tokens_details': {'audio_tokens': 0, 'cached_tokens': 0}}, 'model_name': 'gpt-4o-mini-2024-07-18', 'system_fingerprint': 'fp_51db84afab', 'finish_reason': 'stop', 'logprobs': None} id='run-00d4ef01-654b-4299-9b8a-b058ac3d368d-0' usage_metadata={'input_tokens': 34, 'output_tokens': 65, 'total_tokens': 99}\n"
     ]
    }
   ],
   "source": [
    "from langchain_core.output_parsers import JsonOutputParser\n",
    "\n",
    "json_parser = JsonOutputParser()\n",
    "\n",
    "json_response = chain.invoke(\"테슬라 창업주는 누구인가요? Json 형식으로 출력해 주세요.\")\n",
    "print(json_response) #json 형식으로 나오지만, 여전히 활용하기 어렵고 보기 불편함\n"
   ]
  },
  {
   "cell_type": "code",
   "execution_count": 17,
   "id": "1319963b",
   "metadata": {},
   "outputs": [
    {
     "name": "stdout",
     "output_type": "stream",
     "text": [
      "{'창업주': {'이름': '엘론 머스크', '출생연도': 1971, '국적': '남아프리카 공화국', '직업': '기업가, 발명가'}}\n"
     ]
    }
   ],
   "source": [
    "json_parser_output = json_parser.invoke(json_response)\n",
    "print(json_parser_output)"
   ]
  },
  {
   "cell_type": "markdown",
   "id": "db6d01a2",
   "metadata": {},
   "source": [
    "### Pydatic 모델을 생성"
   ]
  },
  {
   "cell_type": "markdown",
   "id": "f3542991",
   "metadata": {},
   "source": [
    "LLM의 결과 값을 객체 형태로 만드는 방법"
   ]
  },
  {
   "cell_type": "code",
   "execution_count": 5,
   "id": "c566e7d8",
   "metadata": {},
   "outputs": [
    {
     "name": "stdout",
     "output_type": "stream",
     "text": [
      "==================================================\n",
      "The output should be formatted as a JSON instance that conforms to the JSON schema below.\n",
      "\n",
      "As an example, for the schema {\"properties\": {\"foo\": {\"title\": \"Foo\", \"description\": \"a list of strings\", \"type\": \"array\", \"items\": {\"type\": \"string\"}}}, \"required\": [\"foo\"]}\n",
      "the object {\"foo\": [\"bar\", \"baz\"]} is a well-formatted instance of the schema. The object {\"properties\": {\"foo\": [\"bar\", \"baz\"]}} is not well-formatted.\n",
      "\n",
      "Here is the output schema:\n",
      "```\n",
      "{\"description\": \"Information about a person.\", \"properties\": {\"name\": {\"title\": \"Name\", \"description\": \"The name of the person\", \"type\": \"string\"}, \"title\": {\"title\": \"Title\", \"description\": \"The title of position of the person\", \"type\": \"string\"}}, \"required\": [\"name\", \"title\"]}\n",
      "```\n",
      "==================================================\n"
     ]
    }
   ],
   "source": [
    "from langchain_core.output_parsers import PydanticOutputParser\n",
    "from langchain_core.pydantic_v1 import BaseModel, Field\n",
    "\n",
    "class Person(BaseModel): #BaseModel 이 정확하게 뭐하는 역할인가?\n",
    "    \"\"\"Information about a person.\"\"\"\n",
    "    name : str = Field(...,description=\"The name of the person\")\n",
    "    title : str = Field(..., description=\"The title of position of the person\")\n",
    "\n",
    "\n",
    "person_parser = PydanticOutputParser(pydantic_object=Person)\n",
    "\n",
    "print(\"==================================================\")\n",
    "print(person_parser.get_format_instructions()) # prompt 가 출력됨. parser에서 정의한 프롬프트\n",
    "print(\"==================================================\")"
   ]
  },
  {
   "cell_type": "code",
   "execution_count": 6,
   "id": "2ebefb59",
   "metadata": {},
   "outputs": [],
   "source": [
    "prompt = ChatPromptTemplate.from_messages(\n",
    "    [\n",
    "        (\"system\", \"Answer the user query, Wrap the output in 'json' tags\\n {format_instructions}\"),\n",
    "        (\"human\", \"{query}\")\n",
    "    ]\n",
    ").partial(format_instructions=person_parser.get_format_instructions())"
   ]
  },
  {
   "cell_type": "code",
   "execution_count": 7,
   "id": "848c6780",
   "metadata": {},
   "outputs": [
    {
     "data": {
      "text/plain": [
       "Person(name='엘론 머스크', title='CEO 및 공동 창립자')"
      ]
     },
     "execution_count": 7,
     "metadata": {},
     "output_type": "execute_result"
    }
   ],
   "source": [
    "person_chain = prompt | llm | person_parser\n",
    "response = person_chain.invoke(\"테슬라의 창업자는 누구인가요?\")\n",
    "response"
   ]
  },
  {
   "cell_type": "markdown",
   "id": "6d2d4559",
   "metadata": {},
   "source": [
    "#### Chat Completion Method : invoke()\n",
    "### Stream"
   ]
  },
  {
   "cell_type": "code",
   "execution_count": 8,
   "id": "b3e07863",
   "metadata": {},
   "outputs": [
    {
     "name": "stdout",
     "output_type": "stream",
     "text": [
      "테슬라의 창립자는 엘론 머스크(Elon Musk)입니다. 그러나 테슬라는 2003년에 마틴 에버하드(Martin Eberhard)와 마크 타페닝(Mark Tarpenning)에 의해 설립되었습니다. 엘론 머스크는 2004년에 투자자로 참여한 후, CEO로 취임하여 회사의 성장에 큰 영향을 미쳤습니다. 이후 그는 테슬라의 얼굴이자 주요 추진력"
     ]
    }
   ],
   "source": [
    "import time\n",
    "\n",
    "for chunk in llm.stream(\"테슬라 창업자는 누구인가요?\"):\n",
    "    print(chunk.content, end='', flush=True)\n",
    "    time.sleep(0.1)"
   ]
  },
  {
   "cell_type": "markdown",
   "id": "804b86e0",
   "metadata": {},
   "source": [
    "### batch"
   ]
  },
  {
   "cell_type": "code",
   "execution_count": 9,
   "id": "d01788bd",
   "metadata": {},
   "outputs": [
    {
     "name": "stdout",
     "output_type": "stream",
     "text": [
      "==================================\u001b[1m Ai Message \u001b[0m==================================\n",
      "\n",
      "테슬라의 창립자는 엘론 머스크(Elon Musk), 마틴 에버하르드(Martin Eberhard), 마크 타페닝(Mark Tarpenning), 제프 스프레처(JB Straubel), 이안 라이트(Ian Wright) 등 여러 명이 있습니다. 하지만 엘론 머스크는 테슬라의 CEO로서 가장 잘 알려져 있으며, 회사의 성장과 발전에 큰 영향을 미쳤습니다. 테\n",
      "\n",
      "==================================\u001b[1m Ai Message \u001b[0m==================================\n",
      "\n",
      "리비안(Rivian)의 창업자는 RJ 스캐링(RJ Scaringe)입니다. 그는 2009년에 리비안을 설립하였으며, 전기차 제조업체로서 SUV와 픽업트럭을 주로 생산하고 있습니다. 리비안은 지속 가능한 이동 수단을 제공하는 것을 목표로 하고 있습니다.\n",
      "\n"
     ]
    }
   ],
   "source": [
    "questions = [\n",
    "    \"테슬라의 창업자는 누구인가요?\",\n",
    "    \"리비안의 창업자는 누구인가요?\"\n",
    "]\n",
    "\n",
    "responses = llm.batch(questions)\n",
    "\n",
    "for response in responses:\n",
    "    response.pretty_print()\n",
    "    print()"
   ]
  },
  {
   "cell_type": "markdown",
   "id": "8896a93e",
   "metadata": {},
   "source": [
    "### 문서 검색기(Vector DB에서)"
   ]
  },
  {
   "cell_type": "code",
   "execution_count": null,
   "id": "91a33e67",
   "metadata": {},
   "outputs": [
    {
     "name": "stdout",
     "output_type": "stream",
     "text": [
      "('테슬라(Tesla, Inc.)는 텍사스주 오스틴에 본사를 둔 미국의 대표적인 전기차 제조업체입니다. 2003년 마틴 에버하드(CEO)와 '\n",
      " '마크 타페닝(CFO)에 의해 설립된 테슬라는 2004년 페이팔과 Zip2의 공동 창업자인 일론 머스크의 참여로 큰 전환점을 맞았습니다. '\n",
      " '머스크는 최대 주주이자 회장으로서 회사를 현재의 성공으로 이끌었습니다. 회사 이름은 유명한 물리학자이자 전기공학자인 니콜라 테슬라의 '\n",
      " '이름을 따서 지어졌습니다. 테슬라는 2010\\n'\n",
      " '명한 물리학자이자 전기공학자인 니콜라 테슬라의 이름을 따서 지어졌습니다. 테슬라는 2010년 6월 나스닥에 상장되었습니다.\\n'\n",
      " '\\n'\n",
      " '2023년 테슬라는 1,808,581대의 차량을 판매하여 2022년에 비해 37.65% 증가했습니다. 2012년부터 2023년 3분기까지 '\n",
      " '테슬라의 전 세계 누적 판매량은 4,962,975대를 초과했습니다. SMT Packaging에 따르면, 2023년 테슬라의 판매량은 전 '\n",
      " '세계 전기차 시장의 약 12.9%를 차지했습니다.')\n"
     ]
    }
   ],
   "source": [
    "# retriever\n",
    "\n",
    "retriever = vectorstore.as_retriever(\n",
    "    search_kwargs={'k':2}\n",
    ")\n",
    "\n",
    "query = \"테슬라 창업자는 누구인가요?\"\n",
    "retrieved_docs = retriever.invoke(query) # 이것은 List[document] 자료형이다!\n",
    "\n",
    "retrieved_docs_text = \"\\n\".join([doc.page_content for doc in retrieved_docs])\n",
    "pprint(retrieved_docs_text)"
   ]
  },
  {
   "cell_type": "markdown",
   "id": "a82d370e",
   "metadata": {},
   "source": [
    "### 병렬처리하기"
   ]
  },
  {
   "cell_type": "code",
   "execution_count": 14,
   "id": "82c41568",
   "metadata": {},
   "outputs": [
    {
     "data": {
      "text/plain": [
       "{'context': '테슬라(Tesla, Inc.)는 텍사스주 오스틴에 본사를 둔 미국의 대표적인 전기차 제조업체입니다. 2003년 마틴 에버하드(CEO)와 마크 타페닝(CFO)에 의해 설립된 테슬라는 2004년 페이팔과 Zip2의 공동 창업자인 일론 머스크의 참여로 큰 전환점을 맞았습니다. 머스크는 최대 주주이자 회장으로서 회사를 현재의 성공으로 이끌었습니다. 회사 이름은 유명한 물리학자이자 전기공학자인 니콜라 테슬라의 이름을 따서 지어졌습니다. 테슬라는 2010\\n명한 물리학자이자 전기공학자인 니콜라 테슬라의 이름을 따서 지어졌습니다. 테슬라는 2010년 6월 나스닥에 상장되었습니다.\\n\\n2023년 테슬라는 1,808,581대의 차량을 판매하여 2022년에 비해 37.65% 증가했습니다. 2012년부터 2023년 3분기까지 테슬라의 전 세계 누적 판매량은 4,962,975대를 초과했습니다. SMT Packaging에 따르면, 2023년 테슬라의 판매량은 전 세계 전기차 시장의 약 12.9%를 차지했습니다.',\n",
       " 'question': '테슬라 창업자는 누구인가요?'}"
      ]
     },
     "execution_count": 14,
     "metadata": {},
     "output_type": "execute_result"
    }
   ],
   "source": [
    "from langchain_core.runnables import RunnableParallel\n",
    "from operator import itemgetter\n",
    "\n",
    "runnable = RunnableParallel(\n",
    "    {\n",
    "        \"context\" : itemgetter(\"context\"),\n",
    "        \"question\" : itemgetter(\"question\")\n",
    "    }\n",
    ")\n",
    "\n",
    "response = runnable.invoke({\"context\" : retrieved_docs_text, \"question\" : query})\n",
    "\n",
    "response"
   ]
  },
  {
   "cell_type": "markdown",
   "id": "588f5e8e",
   "metadata": {},
   "source": [
    "### RunnablePassthrough + lambda\n",
    "\n",
    "RunnablePassthrough : 데이터 값을 그대로 전달하기 위해서"
   ]
  },
  {
   "cell_type": "code",
   "execution_count": null,
   "id": "e29e5d24",
   "metadata": {},
   "outputs": [
    {
     "data": {
      "text/plain": [
       "{'question': {'query': '테슬라 창업자는 누구인가요?'}}"
      ]
     },
     "execution_count": 15,
     "metadata": {},
     "output_type": "execute_result"
    }
   ],
   "source": [
    "from langchain_core.runnables import RunnablePassthrough\n",
    "\n",
    "runnable = RunnableParallel(\n",
    "    question = RunnablePassthrough()\n",
    ")\n",
    "\n",
    "runnable.invoke({\"query\": \"테슬라 창업자는 누구인가요?\"})"
   ]
  },
  {
   "cell_type": "code",
   "execution_count": 17,
   "id": "181184e9",
   "metadata": {},
   "outputs": [
    {
     "data": {
      "text/plain": [
       "{'question': '테슬라 창업자는 누구인가요?', 'word_count': 3}"
      ]
     },
     "execution_count": 17,
     "metadata": {},
     "output_type": "execute_result"
    }
   ],
   "source": [
    "from langchain_core.runnables import RunnableLambda\n",
    "\n",
    "def count_num_words(text):\n",
    "    return len(text.split())\n",
    "\n",
    "runnable = RunnableParallel(\n",
    "    question = RunnablePassthrough(),\n",
    "    word_count = RunnableLambda(count_num_words)\n",
    ")\n",
    "\n",
    "runnable.invoke(\"테슬라 창업자는 누구인가요?\")"
   ]
  },
  {
   "cell_type": "markdown",
   "id": "ac49fb70",
   "metadata": {},
   "source": [
    "## RAG 프롬프트 템플릿 파이프라인 구성"
   ]
  },
  {
   "cell_type": "code",
   "execution_count": null,
   "id": "f1d5479d",
   "metadata": {},
   "outputs": [
    {
     "name": "stdout",
     "output_type": "stream",
     "text": [
      "================================\u001b[1m Human Message \u001b[0m=================================\n",
      "\n",
      "다음 context 만을 바탕으로 질문에 답하라.\n",
      "외부 정보나 지식을 사용하지 말라.\n",
      "답변이 context 와 맞지 않는 경우 혹은 일치하지 않는 경우 답변을 \"잘 모르겠습니다.\" 라고 하라.\n",
      "\n",
      "[Context]\n",
      "\u001b[33;1m\u001b[1;3m{context}\u001b[0m\n",
      "\n",
      "[Question]\n",
      "\u001b[33;1m\u001b[1;3m{question}\u001b[0m\n",
      "\n",
      "[Answer]\n",
      "\n"
     ]
    }
   ],
   "source": [
    "from langchain.prompts import ChatPromptTemplate\n",
    "\n",
    "template = \"\"\"다음 context 만을 바탕으로 질문에 답하라.\n",
    "외부 정보나 지식을 사용하지 말라.\n",
    "답변이 context 와 맞지 않는 경우 혹은 일치하지 않는 경우 답변을 \"잘 모르겠습니다.\" 라고 하라.\n",
    "\n",
    "[Context]\n",
    "{context}\n",
    "\n",
    "[Question]\n",
    "{question}\n",
    "\n",
    "[Answer]\n",
    "\"\"\"\n",
    "\n",
    "# 위에서는 from_message로 템플릿을 만들었지만, 문자열로 템플릿을 만들 때에는 from_template을 사용한다.\n",
    "prompt = ChatPromptTemplate.from_template(template=template)\n",
    "\n",
    "prompt.pretty_print()"
   ]
  },
  {
   "cell_type": "code",
   "execution_count": 19,
   "id": "1f416c80",
   "metadata": {},
   "outputs": [
    {
     "name": "stdout",
     "output_type": "stream",
     "text": [
      "('테슬라(Tesla, Inc.)는 텍사스주 오스틴에 본사를 둔 미국의 대표적인 전기차 제조업체입니다. 2003년 마틴 에버하드(CEO)와 '\n",
      " '마크 타페닝(CFO)에 의해 설립된 테슬라는 2004년 페이팔과 Zip2의 공동 창업자인 일론 머스크의 참여로 큰 전환점을 맞았습니다. '\n",
      " '머스크는 최대 주주이자 회장으로서 회사를 현재의 성공으로 이끌었습니다. 회사 이름은 유명한 물리학자이자 전기공학자인 니콜라 테슬라의 '\n",
      " '이름을 따서 지어졌습니다. 테슬라는 2010\\n'\n",
      " '\\n'\n",
      " '명한 물리학자이자 전기공학자인 니콜라 테슬라의 이름을 따서 지어졌습니다. 테슬라는 2010년 6월 나스닥에 상장되었습니다.\\n'\n",
      " '\\n'\n",
      " '2023년 테슬라는 1,808,581대의 차량을 판매하여 2022년에 비해 37.65% 증가했습니다. 2012년부터 2023년 3분기까지 '\n",
      " '테슬라의 전 세계 누적 판매량은 4,962,975대를 초과했습니다. SMT Packaging에 따르면, 2023년 테슬라의 판매량은 전 '\n",
      " '세계 전기차 시장의 약 12.9%를 차지했습니다.')\n"
     ]
    }
   ],
   "source": [
    "retriever = vectorstore.as_retriever(search_kwargs={\"k\":2})\n",
    "\n",
    "# 문서 포맷터 함수\n",
    "def format_docs(docs):\n",
    "    return \"\\n\\n\".join([doc.page_content for doc in docs])\n",
    "\n",
    "retriever_chain = retriever | format_docs\n",
    "\n",
    "response = retriever_chain.invoke(\"테슬라 창업자는 누구야?\")\n",
    "\n",
    "pprint(response)"
   ]
  },
  {
   "cell_type": "code",
   "execution_count": 20,
   "id": "08aeb910",
   "metadata": {},
   "outputs": [],
   "source": [
    "from langchain_core.output_parsers import StrOutputParser\n",
    "from langchain_openai import ChatOpenAI\n",
    "\n",
    "llm = ChatOpenAI(model=\"gpt-4o-mini\", temperature=0, max_tokens=100)\n",
    "\n",
    "rag_chain = (\n",
    "    {\"context\" : retriever_chain, \"question\" : RunnablePassthrough()}\n",
    "    | prompt\n",
    "    | llm\n",
    "    | StrOutputParser()\n",
    ")\n",
    "\n",
    "query = \"테슬라 창업자는 누구인가요?\"\n",
    "response = rag_chain.invoke(query)"
   ]
  },
  {
   "cell_type": "code",
   "execution_count": 21,
   "id": "376162c5",
   "metadata": {},
   "outputs": [
    {
     "data": {
      "text/plain": [
       "'테슬라의 창업자는 마틴 에버하드와 마크 타페닝입니다.'"
      ]
     },
     "execution_count": 21,
     "metadata": {},
     "output_type": "execute_result"
    }
   ],
   "source": [
    "response"
   ]
  },
  {
   "cell_type": "markdown",
   "id": "483d48cf",
   "metadata": {},
   "source": []
  }
 ],
 "metadata": {
  "kernelspec": {
   "display_name": "langchain-env-aZmMjlRy-py3.11",
   "language": "python",
   "name": "python3"
  },
  "language_info": {
   "codemirror_mode": {
    "name": "ipython",
    "version": 3
   },
   "file_extension": ".py",
   "mimetype": "text/x-python",
   "name": "python",
   "nbconvert_exporter": "python",
   "pygments_lexer": "ipython3",
   "version": "3.11.9"
  }
 },
 "nbformat": 4,
 "nbformat_minor": 5
}

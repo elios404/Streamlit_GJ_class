{
 "cells": [
  {
   "cell_type": "markdown",
   "id": "391841c0",
   "metadata": {},
   "source": [
    "# 3차 과제"
   ]
  },
  {
   "cell_type": "code",
   "execution_count": 6,
   "id": "04d34b20",
   "metadata": {},
   "outputs": [],
   "source": [
    "from dotenv import load_dotenv\n",
    "from glob import glob\n",
    "from pprint import pprint #json 형식 출력에 편리\n",
    "import os"
   ]
  },
  {
   "cell_type": "code",
   "execution_count": 7,
   "id": "56aa302b",
   "metadata": {},
   "outputs": [
    {
     "data": {
      "text/plain": [
       "True"
      ]
     },
     "execution_count": 7,
     "metadata": {},
     "output_type": "execute_result"
    }
   ],
   "source": [
    "load_dotenv()"
   ]
  },
  {
   "cell_type": "markdown",
   "id": "a05e6dea",
   "metadata": {},
   "source": [
    "## 진행순서\n",
    "\n",
    "1. samsung_KR.txt, skHynix_KR.txt 를 임베딩하여 vector DB 만들기\n",
    "2. context 와 query를 위한 체인 만들기\n",
    "   1. context를 불러오고 이를 join을 통해서 하나의 문자열로 합치기\n",
    "   2. query는 RunnablePassthrough 사용하기\n",
    "3. promptTemplate을 이용해서 위에서 context, query를 입력받아 prompt 완성하기\n",
    "4. llm 객체를 생성하고 prompt를 input으로 넣기\n",
    "5. StrOutputParser를 생성하고 LLM 답변을 넣어서 문자열만 반환받기"
   ]
  },
  {
   "cell_type": "code",
   "execution_count": null,
   "id": "49a22de2",
   "metadata": {},
   "outputs": [
    {
     "name": "stderr",
     "output_type": "stream",
     "text": [
      "100%|██████████| 4/4 [00:00<00:00, 4011.77it/s]\n",
      "Created a chunk of size 282, which is longer than the specified 250\n",
      "Created a chunk of size 268, which is longer than the specified 250\n",
      "Failed to send telemetry event ClientStartEvent: capture() takes 1 positional argument but 3 were given\n",
      "Failed to send telemetry event ClientCreateCollectionEvent: capture() takes 1 positional argument but 3 were given\n"
     ]
    }
   ],
   "source": [
    "# 1. 임베딩하고 vector DB 만들기\n",
    "\n",
    "from langchain_community.document_loaders import TextLoader\n",
    "from langchain_text_splitters import CharacterTextSplitter\n",
    "from langchain_openai import OpenAIEmbeddings\n",
    "from langchain_chroma import Chroma\n",
    "from tqdm import tqdm\n",
    "\n",
    "# 1.1 문서 불러오기\n",
    "text_files = glob(os.path.join('data','*_kr.txt'))\n",
    "\n",
    "data = []\n",
    "\n",
    "for text_file in tqdm(text_files):\n",
    "    loader = TextLoader(text_file, encoding='utf-8')\n",
    "    data += loader.load()\n",
    "\n",
    "# 1.2 적당한 길이의 청크로 나누기\n",
    "text_splitter = CharacterTextSplitter(\n",
    "    chunk_size = 250,\n",
    "    chunk_overlap = 50,\n",
    "    separator='\\n',\n",
    ")\n",
    "\n",
    "texts = text_splitter.split_documents(data)\n",
    "\n",
    "# 1.3 임베딩 모델\n",
    "embeddings = OpenAIEmbeddings(\n",
    "    model = 'text-embedding-3-small',\n",
    ")\n",
    "\n",
    "# 1.4 vector DB 로 저장하기\n",
    "vectorstore = Chroma.from_documents(\n",
    "    documents=texts,\n",
    "    embedding=embeddings,\n",
    "    collection_name=\"chroma_assignment\",\n",
    "    persist_directory='./chroma_db'\n",
    ")"
   ]
  },
  {
   "cell_type": "code",
   "execution_count": 9,
   "id": "86805046",
   "metadata": {},
   "outputs": [],
   "source": [
    "# 2. context, query 생성\n",
    "from langchain_core.runnables import RunnablePassthrough\n",
    "\n",
    "# 2.1 context 생성\n",
    "retriever = vectorstore.as_retriever(search_kwargs={'k':2})\n",
    "\n",
    "def format_docs(docs):\n",
    "    return \"\\n\\n\".join([doc.page_content for doc in docs])\n",
    "\n",
    "retriever_chain = retriever | format_docs\n",
    "\n",
    "# 2.2 query\n",
    "# RunnablePassthrough 사용"
   ]
  },
  {
   "cell_type": "code",
   "execution_count": 10,
   "id": "62864b40",
   "metadata": {},
   "outputs": [],
   "source": [
    "# 3. prompt 템플릿 만들고 context, query 채우기\n",
    "\n",
    "from langchain.prompts import ChatPromptTemplate\n",
    "\n",
    "template = \"\"\"다음 context 만을 바탕으로 질문에 답하라.\n",
    "외부 정보나 지식을 사용하지 말라.\n",
    "답변이 context 와 맞지 않는 경우 혹은 일치하지 않는 경우 답변을 \"잘 모르겠습니다.\" 라고 하라.\n",
    "\n",
    "[Context]\n",
    "{context}\n",
    "\n",
    "[Question]\n",
    "{question}\n",
    "\n",
    "[Answer]\n",
    "\"\"\"\n",
    "\n",
    "prompt = ChatPromptTemplate.from_template(template=template)"
   ]
  },
  {
   "cell_type": "code",
   "execution_count": 16,
   "id": "9c81a701",
   "metadata": {},
   "outputs": [],
   "source": [
    "# 4. LLM 모델 만들기\n",
    "\n",
    "from langchain_openai import ChatOpenAI\n",
    "\n",
    "llm = ChatOpenAI( \n",
    "    model = 'gpt-4o-mini',\n",
    "    temperature = 0,\n",
    "    max_tokens = 250,\n",
    ")"
   ]
  },
  {
   "cell_type": "code",
   "execution_count": 12,
   "id": "ff7bb228",
   "metadata": {},
   "outputs": [],
   "source": [
    "# 5. Parser 사용하기\n",
    "\n",
    "from langchain_core.output_parsers import StrOutputParser"
   ]
  },
  {
   "cell_type": "code",
   "execution_count": 17,
   "id": "fcefdf61",
   "metadata": {},
   "outputs": [
    {
     "name": "stdout",
     "output_type": "stream",
     "text": [
      "삼성전자는 1969년 설립된 세계적인 종합 전자기업으로, 1983년 반도체 사업에 본격 진출하며 메모리 반도체 중심의 글로벌 경쟁력을 쌓아왔습니다. 본사는 대한민국 경기도 수원에 있으며, 반도체 생산라인은 기흥, 화성, 평택, 그리고 미국 오스틴 및 텍사스 테일러시 등 국내외에 걸쳐 있습니다.\n",
      "\n",
      "하이닉스에 대한 정보는 제공되지 않았습니다. 잘 모르겠습니다.\n"
     ]
    }
   ],
   "source": [
    "# 6. chain 완성하기\n",
    "\n",
    "chain = (\n",
    "    {\"context\" : retriever_chain, \"question\" : RunnablePassthrough()}\n",
    "    | prompt\n",
    "    | llm\n",
    "    | StrOutputParser()\n",
    ")\n",
    "\n",
    "query = \"삼성은 어떤 회사이니? 그리고 하이닉스는 어떤 회사이니?\"\n",
    "\n",
    "response = chain.invoke(query)\n",
    "print(response)"
   ]
  }
 ],
 "metadata": {
  "kernelspec": {
   "display_name": "langchain-env-aZmMjlRy-py3.11",
   "language": "python",
   "name": "python3"
  },
  "language_info": {
   "codemirror_mode": {
    "name": "ipython",
    "version": 3
   },
   "file_extension": ".py",
   "mimetype": "text/x-python",
   "name": "python",
   "nbconvert_exporter": "python",
   "pygments_lexer": "ipython3",
   "version": "3.11.9"
  }
 },
 "nbformat": 4,
 "nbformat_minor": 5
}
